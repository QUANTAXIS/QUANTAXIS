{
 "cells": [
  {
   "cell_type": "code",
   "execution_count": 1,
   "metadata": {},
   "outputs": [],
   "source": [
    "import QUANTAXIS as QA"
   ]
  },
  {
   "cell_type": "code",
   "execution_count": 2,
   "metadata": {},
   "outputs": [],
   "source": [
    "user= QA.QA_User(username='yutiansut',password='940809')"
   ]
  },
  {
   "cell_type": "code",
   "execution_count": 3,
   "metadata": {},
   "outputs": [
    {
     "data": {
      "text/plain": [
       "(True, '6f33314b-240e-11e9-9e0f-9cb6d020b9c2')"
      ]
     },
     "execution_count": 3,
     "metadata": {},
     "output_type": "execute_result"
    }
   ],
   "source": [
    "user.subscribe_strategy('s1_jm',1)\n",
    "user.subscribe_strategy('s1_j',2)\n",
    "user.subscribe_strategy('s1_rb',4)"
   ]
  },
  {
   "cell_type": "code",
   "execution_count": 4,
   "metadata": {},
   "outputs": [],
   "source": [
    "import pandas as pd"
   ]
  },
  {
   "cell_type": "code",
   "execution_count": 5,
   "metadata": {
    "scrolled": false
   },
   "outputs": [
    {
     "data": {
      "text/html": [
       "<div>\n",
       "<style scoped>\n",
       "    .dataframe tbody tr th:only-of-type {\n",
       "        vertical-align: middle;\n",
       "    }\n",
       "\n",
       "    .dataframe tbody tr th {\n",
       "        vertical-align: top;\n",
       "    }\n",
       "\n",
       "    .dataframe thead th {\n",
       "        text-align: right;\n",
       "    }\n",
       "</style>\n",
       "<table border=\"1\" class=\"dataframe\">\n",
       "  <thead>\n",
       "    <tr style=\"text-align: right;\">\n",
       "      <th></th>\n",
       "      <th>end</th>\n",
       "      <th>lasttime</th>\n",
       "      <th>start</th>\n",
       "      <th>status</th>\n",
       "      <th>strategy_id</th>\n",
       "      <th>uuid</th>\n",
       "    </tr>\n",
       "  </thead>\n",
       "  <tbody>\n",
       "    <tr>\n",
       "      <th>0</th>\n",
       "      <td>2019-01-31</td>\n",
       "      <td>1</td>\n",
       "      <td>2019-01-30</td>\n",
       "      <td>running</td>\n",
       "      <td>s1_jm</td>\n",
       "      <td>6f330b76-240e-11e9-812b-9cb6d020b9c2</td>\n",
       "    </tr>\n",
       "    <tr>\n",
       "      <th>1</th>\n",
       "      <td>2019-02-01</td>\n",
       "      <td>2</td>\n",
       "      <td>2019-01-30</td>\n",
       "      <td>running</td>\n",
       "      <td>s1_j</td>\n",
       "      <td>6f33314a-240e-11e9-906c-9cb6d020b9c2</td>\n",
       "    </tr>\n",
       "    <tr>\n",
       "      <th>2</th>\n",
       "      <td>2019-02-12</td>\n",
       "      <td>4</td>\n",
       "      <td>2019-01-30</td>\n",
       "      <td>running</td>\n",
       "      <td>s1_rb</td>\n",
       "      <td>6f33314b-240e-11e9-9e0f-9cb6d020b9c2</td>\n",
       "    </tr>\n",
       "  </tbody>\n",
       "</table>\n",
       "</div>"
      ],
      "text/plain": [
       "          end  lasttime       start   status strategy_id  \\\n",
       "0  2019-01-31         1  2019-01-30  running       s1_jm   \n",
       "1  2019-02-01         2  2019-01-30  running        s1_j   \n",
       "2  2019-02-12         4  2019-01-30  running       s1_rb   \n",
       "\n",
       "                                   uuid  \n",
       "0  6f330b76-240e-11e9-812b-9cb6d020b9c2  \n",
       "1  6f33314a-240e-11e9-906c-9cb6d020b9c2  \n",
       "2  6f33314b-240e-11e9-9e0f-9cb6d020b9c2  "
      ]
     },
     "execution_count": 5,
     "metadata": {},
     "output_type": "execute_result"
    }
   ],
   "source": [
    "user.subscribed_strategy"
   ]
  },
  {
   "cell_type": "code",
   "execution_count": 6,
   "metadata": {},
   "outputs": [
    {
     "data": {
      "text/html": [
       "<div>\n",
       "<style scoped>\n",
       "    .dataframe tbody tr th:only-of-type {\n",
       "        vertical-align: middle;\n",
       "    }\n",
       "\n",
       "    .dataframe tbody tr th {\n",
       "        vertical-align: top;\n",
       "    }\n",
       "\n",
       "    .dataframe thead th {\n",
       "        text-align: right;\n",
       "    }\n",
       "</style>\n",
       "<table border=\"1\" class=\"dataframe\">\n",
       "  <thead>\n",
       "    <tr style=\"text-align: right;\">\n",
       "      <th></th>\n",
       "      <th>cost_coins</th>\n",
       "      <th>strategy_id</th>\n",
       "      <th>start</th>\n",
       "      <th>last</th>\n",
       "      <th>strategy_uuid</th>\n",
       "      <th>event</th>\n",
       "    </tr>\n",
       "  </thead>\n",
       "  <tbody>\n",
       "    <tr>\n",
       "      <th>0</th>\n",
       "      <td>10</td>\n",
       "      <td>s1_jm</td>\n",
       "      <td>2019-01-30</td>\n",
       "      <td>1</td>\n",
       "      <td>3a9ef652-240c-11e9-9804-9cb6d020b9c2</td>\n",
       "      <td>subscribe</td>\n",
       "    </tr>\n",
       "    <tr>\n",
       "      <th>1</th>\n",
       "      <td>10</td>\n",
       "      <td>s1_j</td>\n",
       "      <td>2019-01-30</td>\n",
       "      <td>2</td>\n",
       "      <td>3a9ef653-240c-11e9-83d4-9cb6d020b9c2</td>\n",
       "      <td>subscribe</td>\n",
       "    </tr>\n",
       "    <tr>\n",
       "      <th>2</th>\n",
       "      <td>10</td>\n",
       "      <td>s1_rb</td>\n",
       "      <td>2019-01-30</td>\n",
       "      <td>4</td>\n",
       "      <td>3a9f2678-240c-11e9-8ef1-9cb6d020b9c2</td>\n",
       "      <td>subscribe</td>\n",
       "    </tr>\n",
       "    <tr>\n",
       "      <th>3</th>\n",
       "      <td>0</td>\n",
       "      <td>s1_jm</td>\n",
       "      <td>2019-01-30</td>\n",
       "      <td>0</td>\n",
       "      <td>3aaecf68-240c-11e9-bd85-9cb6d020b9c2</td>\n",
       "      <td>unsubscribe</td>\n",
       "    </tr>\n",
       "    <tr>\n",
       "      <th>4</th>\n",
       "      <td>10</td>\n",
       "      <td>s1_jm</td>\n",
       "      <td>2019-01-30</td>\n",
       "      <td>1</td>\n",
       "      <td>8704bdca-240c-11e9-a81b-9cb6d020b9c2</td>\n",
       "      <td>subscribe</td>\n",
       "    </tr>\n",
       "    <tr>\n",
       "      <th>5</th>\n",
       "      <td>10</td>\n",
       "      <td>s1_j</td>\n",
       "      <td>2019-01-30</td>\n",
       "      <td>2</td>\n",
       "      <td>8704c42e-240c-11e9-a320-9cb6d020b9c2</td>\n",
       "      <td>subscribe</td>\n",
       "    </tr>\n",
       "    <tr>\n",
       "      <th>6</th>\n",
       "      <td>10</td>\n",
       "      <td>s1_rb</td>\n",
       "      <td>2019-01-30</td>\n",
       "      <td>4</td>\n",
       "      <td>8704c42f-240c-11e9-9835-9cb6d020b9c2</td>\n",
       "      <td>subscribe</td>\n",
       "    </tr>\n",
       "    <tr>\n",
       "      <th>7</th>\n",
       "      <td>0</td>\n",
       "      <td>s1_jm</td>\n",
       "      <td>2019-01-30</td>\n",
       "      <td>0</td>\n",
       "      <td>871427d4-240c-11e9-98cb-9cb6d020b9c2</td>\n",
       "      <td>unsubscribe</td>\n",
       "    </tr>\n",
       "    <tr>\n",
       "      <th>8</th>\n",
       "      <td>10</td>\n",
       "      <td>s1_jm</td>\n",
       "      <td>2019-01-30</td>\n",
       "      <td>1</td>\n",
       "      <td>6f330b76-240e-11e9-812b-9cb6d020b9c2</td>\n",
       "      <td>subscribe</td>\n",
       "    </tr>\n",
       "    <tr>\n",
       "      <th>9</th>\n",
       "      <td>10</td>\n",
       "      <td>s1_j</td>\n",
       "      <td>2019-01-30</td>\n",
       "      <td>2</td>\n",
       "      <td>6f33314a-240e-11e9-906c-9cb6d020b9c2</td>\n",
       "      <td>subscribe</td>\n",
       "    </tr>\n",
       "    <tr>\n",
       "      <th>10</th>\n",
       "      <td>10</td>\n",
       "      <td>s1_rb</td>\n",
       "      <td>2019-01-30</td>\n",
       "      <td>4</td>\n",
       "      <td>6f33314b-240e-11e9-9e0f-9cb6d020b9c2</td>\n",
       "      <td>subscribe</td>\n",
       "    </tr>\n",
       "  </tbody>\n",
       "</table>\n",
       "</div>"
      ],
      "text/plain": [
       "    cost_coins strategy_id       start  last  \\\n",
       "0           10       s1_jm  2019-01-30     1   \n",
       "1           10        s1_j  2019-01-30     2   \n",
       "2           10       s1_rb  2019-01-30     4   \n",
       "3            0       s1_jm  2019-01-30     0   \n",
       "4           10       s1_jm  2019-01-30     1   \n",
       "5           10        s1_j  2019-01-30     2   \n",
       "6           10       s1_rb  2019-01-30     4   \n",
       "7            0       s1_jm  2019-01-30     0   \n",
       "8           10       s1_jm  2019-01-30     1   \n",
       "9           10        s1_j  2019-01-30     2   \n",
       "10          10       s1_rb  2019-01-30     4   \n",
       "\n",
       "                           strategy_uuid        event  \n",
       "0   3a9ef652-240c-11e9-9804-9cb6d020b9c2    subscribe  \n",
       "1   3a9ef653-240c-11e9-83d4-9cb6d020b9c2    subscribe  \n",
       "2   3a9f2678-240c-11e9-8ef1-9cb6d020b9c2    subscribe  \n",
       "3   3aaecf68-240c-11e9-bd85-9cb6d020b9c2  unsubscribe  \n",
       "4   8704bdca-240c-11e9-a81b-9cb6d020b9c2    subscribe  \n",
       "5   8704c42e-240c-11e9-a320-9cb6d020b9c2    subscribe  \n",
       "6   8704c42f-240c-11e9-9835-9cb6d020b9c2    subscribe  \n",
       "7   871427d4-240c-11e9-98cb-9cb6d020b9c2  unsubscribe  \n",
       "8   6f330b76-240e-11e9-812b-9cb6d020b9c2    subscribe  \n",
       "9   6f33314a-240e-11e9-906c-9cb6d020b9c2    subscribe  \n",
       "10  6f33314b-240e-11e9-9e0f-9cb6d020b9c2    subscribe  "
      ]
     },
     "execution_count": 6,
     "metadata": {},
     "output_type": "execute_result"
    }
   ],
   "source": [
    "user.coins_table"
   ]
  },
  {
   "cell_type": "code",
   "execution_count": 7,
   "metadata": {},
   "outputs": [
    {
     "data": {
      "text/plain": [
       "9910"
      ]
     },
     "execution_count": 7,
     "metadata": {},
     "output_type": "execute_result"
    }
   ],
   "source": [
    "user.coins"
   ]
  },
  {
   "cell_type": "code",
   "execution_count": 8,
   "metadata": {},
   "outputs": [],
   "source": [
    "user.unsubscribe_stratgy('s1_jm')"
   ]
  },
  {
   "cell_type": "code",
   "execution_count": 9,
   "metadata": {},
   "outputs": [
    {
     "data": {
      "text/html": [
       "<div>\n",
       "<style scoped>\n",
       "    .dataframe tbody tr th:only-of-type {\n",
       "        vertical-align: middle;\n",
       "    }\n",
       "\n",
       "    .dataframe tbody tr th {\n",
       "        vertical-align: top;\n",
       "    }\n",
       "\n",
       "    .dataframe thead th {\n",
       "        text-align: right;\n",
       "    }\n",
       "</style>\n",
       "<table border=\"1\" class=\"dataframe\">\n",
       "  <thead>\n",
       "    <tr style=\"text-align: right;\">\n",
       "      <th></th>\n",
       "      <th>end</th>\n",
       "      <th>lasttime</th>\n",
       "      <th>start</th>\n",
       "      <th>status</th>\n",
       "      <th>strategy_id</th>\n",
       "      <th>uuid</th>\n",
       "    </tr>\n",
       "  </thead>\n",
       "  <tbody>\n",
       "    <tr>\n",
       "      <th>0</th>\n",
       "      <td>2019-01-31</td>\n",
       "      <td>1</td>\n",
       "      <td>2019-01-30</td>\n",
       "      <td>canceled</td>\n",
       "      <td>s1_jm</td>\n",
       "      <td>6f330b76-240e-11e9-812b-9cb6d020b9c2</td>\n",
       "    </tr>\n",
       "    <tr>\n",
       "      <th>1</th>\n",
       "      <td>2019-02-01</td>\n",
       "      <td>2</td>\n",
       "      <td>2019-01-30</td>\n",
       "      <td>running</td>\n",
       "      <td>s1_j</td>\n",
       "      <td>6f33314a-240e-11e9-906c-9cb6d020b9c2</td>\n",
       "    </tr>\n",
       "    <tr>\n",
       "      <th>2</th>\n",
       "      <td>2019-02-12</td>\n",
       "      <td>4</td>\n",
       "      <td>2019-01-30</td>\n",
       "      <td>running</td>\n",
       "      <td>s1_rb</td>\n",
       "      <td>6f33314b-240e-11e9-9e0f-9cb6d020b9c2</td>\n",
       "    </tr>\n",
       "  </tbody>\n",
       "</table>\n",
       "</div>"
      ],
      "text/plain": [
       "          end  lasttime       start    status strategy_id  \\\n",
       "0  2019-01-31         1  2019-01-30  canceled       s1_jm   \n",
       "1  2019-02-01         2  2019-01-30   running        s1_j   \n",
       "2  2019-02-12         4  2019-01-30   running       s1_rb   \n",
       "\n",
       "                                   uuid  \n",
       "0  6f330b76-240e-11e9-812b-9cb6d020b9c2  \n",
       "1  6f33314a-240e-11e9-906c-9cb6d020b9c2  \n",
       "2  6f33314b-240e-11e9-9e0f-9cb6d020b9c2  "
      ]
     },
     "execution_count": 9,
     "metadata": {},
     "output_type": "execute_result"
    }
   ],
   "source": [
    "user.subscribed_strategy"
   ]
  },
  {
   "cell_type": "code",
   "execution_count": 10,
   "metadata": {},
   "outputs": [
    {
     "data": {
      "text/html": [
       "<div>\n",
       "<style scoped>\n",
       "    .dataframe tbody tr th:only-of-type {\n",
       "        vertical-align: middle;\n",
       "    }\n",
       "\n",
       "    .dataframe tbody tr th {\n",
       "        vertical-align: top;\n",
       "    }\n",
       "\n",
       "    .dataframe thead th {\n",
       "        text-align: right;\n",
       "    }\n",
       "</style>\n",
       "<table border=\"1\" class=\"dataframe\">\n",
       "  <thead>\n",
       "    <tr style=\"text-align: right;\">\n",
       "      <th></th>\n",
       "      <th>cost_coins</th>\n",
       "      <th>strategy_id</th>\n",
       "      <th>start</th>\n",
       "      <th>last</th>\n",
       "      <th>strategy_uuid</th>\n",
       "      <th>event</th>\n",
       "    </tr>\n",
       "  </thead>\n",
       "  <tbody>\n",
       "    <tr>\n",
       "      <th>0</th>\n",
       "      <td>10</td>\n",
       "      <td>s1_jm</td>\n",
       "      <td>2019-01-30</td>\n",
       "      <td>1</td>\n",
       "      <td>3a9ef652-240c-11e9-9804-9cb6d020b9c2</td>\n",
       "      <td>subscribe</td>\n",
       "    </tr>\n",
       "    <tr>\n",
       "      <th>1</th>\n",
       "      <td>10</td>\n",
       "      <td>s1_j</td>\n",
       "      <td>2019-01-30</td>\n",
       "      <td>2</td>\n",
       "      <td>3a9ef653-240c-11e9-83d4-9cb6d020b9c2</td>\n",
       "      <td>subscribe</td>\n",
       "    </tr>\n",
       "    <tr>\n",
       "      <th>2</th>\n",
       "      <td>10</td>\n",
       "      <td>s1_rb</td>\n",
       "      <td>2019-01-30</td>\n",
       "      <td>4</td>\n",
       "      <td>3a9f2678-240c-11e9-8ef1-9cb6d020b9c2</td>\n",
       "      <td>subscribe</td>\n",
       "    </tr>\n",
       "    <tr>\n",
       "      <th>3</th>\n",
       "      <td>0</td>\n",
       "      <td>s1_jm</td>\n",
       "      <td>2019-01-30</td>\n",
       "      <td>0</td>\n",
       "      <td>3aaecf68-240c-11e9-bd85-9cb6d020b9c2</td>\n",
       "      <td>unsubscribe</td>\n",
       "    </tr>\n",
       "    <tr>\n",
       "      <th>4</th>\n",
       "      <td>10</td>\n",
       "      <td>s1_jm</td>\n",
       "      <td>2019-01-30</td>\n",
       "      <td>1</td>\n",
       "      <td>8704bdca-240c-11e9-a81b-9cb6d020b9c2</td>\n",
       "      <td>subscribe</td>\n",
       "    </tr>\n",
       "    <tr>\n",
       "      <th>5</th>\n",
       "      <td>10</td>\n",
       "      <td>s1_j</td>\n",
       "      <td>2019-01-30</td>\n",
       "      <td>2</td>\n",
       "      <td>8704c42e-240c-11e9-a320-9cb6d020b9c2</td>\n",
       "      <td>subscribe</td>\n",
       "    </tr>\n",
       "    <tr>\n",
       "      <th>6</th>\n",
       "      <td>10</td>\n",
       "      <td>s1_rb</td>\n",
       "      <td>2019-01-30</td>\n",
       "      <td>4</td>\n",
       "      <td>8704c42f-240c-11e9-9835-9cb6d020b9c2</td>\n",
       "      <td>subscribe</td>\n",
       "    </tr>\n",
       "    <tr>\n",
       "      <th>7</th>\n",
       "      <td>0</td>\n",
       "      <td>s1_jm</td>\n",
       "      <td>2019-01-30</td>\n",
       "      <td>0</td>\n",
       "      <td>871427d4-240c-11e9-98cb-9cb6d020b9c2</td>\n",
       "      <td>unsubscribe</td>\n",
       "    </tr>\n",
       "    <tr>\n",
       "      <th>8</th>\n",
       "      <td>10</td>\n",
       "      <td>s1_jm</td>\n",
       "      <td>2019-01-30</td>\n",
       "      <td>1</td>\n",
       "      <td>6f330b76-240e-11e9-812b-9cb6d020b9c2</td>\n",
       "      <td>subscribe</td>\n",
       "    </tr>\n",
       "    <tr>\n",
       "      <th>9</th>\n",
       "      <td>10</td>\n",
       "      <td>s1_j</td>\n",
       "      <td>2019-01-30</td>\n",
       "      <td>2</td>\n",
       "      <td>6f33314a-240e-11e9-906c-9cb6d020b9c2</td>\n",
       "      <td>subscribe</td>\n",
       "    </tr>\n",
       "    <tr>\n",
       "      <th>10</th>\n",
       "      <td>10</td>\n",
       "      <td>s1_rb</td>\n",
       "      <td>2019-01-30</td>\n",
       "      <td>4</td>\n",
       "      <td>6f33314b-240e-11e9-9e0f-9cb6d020b9c2</td>\n",
       "      <td>subscribe</td>\n",
       "    </tr>\n",
       "    <tr>\n",
       "      <th>11</th>\n",
       "      <td>0</td>\n",
       "      <td>s1_jm</td>\n",
       "      <td>2019-01-30</td>\n",
       "      <td>0</td>\n",
       "      <td>6f487ba4-240e-11e9-82cf-9cb6d020b9c2</td>\n",
       "      <td>unsubscribe</td>\n",
       "    </tr>\n",
       "  </tbody>\n",
       "</table>\n",
       "</div>"
      ],
      "text/plain": [
       "    cost_coins strategy_id       start  last  \\\n",
       "0           10       s1_jm  2019-01-30     1   \n",
       "1           10        s1_j  2019-01-30     2   \n",
       "2           10       s1_rb  2019-01-30     4   \n",
       "3            0       s1_jm  2019-01-30     0   \n",
       "4           10       s1_jm  2019-01-30     1   \n",
       "5           10        s1_j  2019-01-30     2   \n",
       "6           10       s1_rb  2019-01-30     4   \n",
       "7            0       s1_jm  2019-01-30     0   \n",
       "8           10       s1_jm  2019-01-30     1   \n",
       "9           10        s1_j  2019-01-30     2   \n",
       "10          10       s1_rb  2019-01-30     4   \n",
       "11           0       s1_jm  2019-01-30     0   \n",
       "\n",
       "                           strategy_uuid        event  \n",
       "0   3a9ef652-240c-11e9-9804-9cb6d020b9c2    subscribe  \n",
       "1   3a9ef653-240c-11e9-83d4-9cb6d020b9c2    subscribe  \n",
       "2   3a9f2678-240c-11e9-8ef1-9cb6d020b9c2    subscribe  \n",
       "3   3aaecf68-240c-11e9-bd85-9cb6d020b9c2  unsubscribe  \n",
       "4   8704bdca-240c-11e9-a81b-9cb6d020b9c2    subscribe  \n",
       "5   8704c42e-240c-11e9-a320-9cb6d020b9c2    subscribe  \n",
       "6   8704c42f-240c-11e9-9835-9cb6d020b9c2    subscribe  \n",
       "7   871427d4-240c-11e9-98cb-9cb6d020b9c2  unsubscribe  \n",
       "8   6f330b76-240e-11e9-812b-9cb6d020b9c2    subscribe  \n",
       "9   6f33314a-240e-11e9-906c-9cb6d020b9c2    subscribe  \n",
       "10  6f33314b-240e-11e9-9e0f-9cb6d020b9c2    subscribe  \n",
       "11  6f487ba4-240e-11e9-82cf-9cb6d020b9c2  unsubscribe  "
      ]
     },
     "execution_count": 10,
     "metadata": {},
     "output_type": "execute_result"
    }
   ],
   "source": [
    "user.coins_table"
   ]
  },
  {
   "cell_type": "code",
   "execution_count": 11,
   "metadata": {},
   "outputs": [],
   "source": [
    "import datetime"
   ]
  },
  {
   "cell_type": "code",
   "execution_count": 12,
   "metadata": {},
   "outputs": [],
   "source": [
    "#pd.Timestamp('2018-11-05')-pd.Timestamp('2018-11-10')>datetime.timedelta(days=0)"
   ]
  },
  {
   "cell_type": "code",
   "execution_count": 13,
   "metadata": {},
   "outputs": [
    {
     "data": {
      "text/html": [
       "<div>\n",
       "<style scoped>\n",
       "    .dataframe tbody tr th:only-of-type {\n",
       "        vertical-align: middle;\n",
       "    }\n",
       "\n",
       "    .dataframe tbody tr th {\n",
       "        vertical-align: top;\n",
       "    }\n",
       "\n",
       "    .dataframe thead th {\n",
       "        text-align: right;\n",
       "    }\n",
       "</style>\n",
       "<table border=\"1\" class=\"dataframe\">\n",
       "  <thead>\n",
       "    <tr style=\"text-align: right;\">\n",
       "      <th></th>\n",
       "      <th>end</th>\n",
       "      <th>lasttime</th>\n",
       "      <th>start</th>\n",
       "      <th>status</th>\n",
       "      <th>strategy_id</th>\n",
       "      <th>uuid</th>\n",
       "      <th>remains</th>\n",
       "    </tr>\n",
       "  </thead>\n",
       "  <tbody>\n",
       "    <tr>\n",
       "      <th>1</th>\n",
       "      <td>2019-02-01</td>\n",
       "      <td>2</td>\n",
       "      <td>2019-01-30</td>\n",
       "      <td>running</td>\n",
       "      <td>s1_j</td>\n",
       "      <td>6f33314a-240e-11e9-906c-9cb6d020b9c2</td>\n",
       "      <td>2 days</td>\n",
       "    </tr>\n",
       "    <tr>\n",
       "      <th>2</th>\n",
       "      <td>2019-02-12</td>\n",
       "      <td>4</td>\n",
       "      <td>2019-01-30</td>\n",
       "      <td>running</td>\n",
       "      <td>s1_rb</td>\n",
       "      <td>6f33314b-240e-11e9-9e0f-9cb6d020b9c2</td>\n",
       "      <td>13 days</td>\n",
       "    </tr>\n",
       "  </tbody>\n",
       "</table>\n",
       "</div>"
      ],
      "text/plain": [
       "          end  lasttime       start   status strategy_id  \\\n",
       "1  2019-02-01         2  2019-01-30  running        s1_j   \n",
       "2  2019-02-12         4  2019-01-30  running       s1_rb   \n",
       "\n",
       "                                   uuid remains  \n",
       "1  6f33314a-240e-11e9-906c-9cb6d020b9c2  2 days  \n",
       "2  6f33314b-240e-11e9-9e0f-9cb6d020b9c2 13 days  "
      ]
     },
     "execution_count": 13,
     "metadata": {},
     "output_type": "execute_result"
    }
   ],
   "source": [
    "user.subscribing_strategy"
   ]
  },
  {
   "cell_type": "code",
   "execution_count": 14,
   "metadata": {},
   "outputs": [
    {
     "data": {
      "text/html": [
       "<div>\n",
       "<style scoped>\n",
       "    .dataframe tbody tr th:only-of-type {\n",
       "        vertical-align: middle;\n",
       "    }\n",
       "\n",
       "    .dataframe tbody tr th {\n",
       "        vertical-align: top;\n",
       "    }\n",
       "\n",
       "    .dataframe thead th {\n",
       "        text-align: right;\n",
       "    }\n",
       "</style>\n",
       "<table border=\"1\" class=\"dataframe\">\n",
       "  <thead>\n",
       "    <tr style=\"text-align: right;\">\n",
       "      <th></th>\n",
       "      <th>end</th>\n",
       "      <th>lasttime</th>\n",
       "      <th>start</th>\n",
       "      <th>status</th>\n",
       "      <th>strategy_id</th>\n",
       "      <th>uuid</th>\n",
       "    </tr>\n",
       "  </thead>\n",
       "  <tbody>\n",
       "    <tr>\n",
       "      <th>0</th>\n",
       "      <td>2019-01-31</td>\n",
       "      <td>1</td>\n",
       "      <td>2019-01-30</td>\n",
       "      <td>canceled</td>\n",
       "      <td>s1_jm</td>\n",
       "      <td>6f330b76-240e-11e9-812b-9cb6d020b9c2</td>\n",
       "    </tr>\n",
       "    <tr>\n",
       "      <th>1</th>\n",
       "      <td>2019-02-01</td>\n",
       "      <td>2</td>\n",
       "      <td>2019-01-30</td>\n",
       "      <td>running</td>\n",
       "      <td>s1_j</td>\n",
       "      <td>6f33314a-240e-11e9-906c-9cb6d020b9c2</td>\n",
       "    </tr>\n",
       "    <tr>\n",
       "      <th>2</th>\n",
       "      <td>2019-02-12</td>\n",
       "      <td>4</td>\n",
       "      <td>2019-01-30</td>\n",
       "      <td>running</td>\n",
       "      <td>s1_rb</td>\n",
       "      <td>6f33314b-240e-11e9-9e0f-9cb6d020b9c2</td>\n",
       "    </tr>\n",
       "  </tbody>\n",
       "</table>\n",
       "</div>"
      ],
      "text/plain": [
       "          end  lasttime       start    status strategy_id  \\\n",
       "0  2019-01-31         1  2019-01-30  canceled       s1_jm   \n",
       "1  2019-02-01         2  2019-01-30   running        s1_j   \n",
       "2  2019-02-12         4  2019-01-30   running       s1_rb   \n",
       "\n",
       "                                   uuid  \n",
       "0  6f330b76-240e-11e9-812b-9cb6d020b9c2  \n",
       "1  6f33314a-240e-11e9-906c-9cb6d020b9c2  \n",
       "2  6f33314b-240e-11e9-9e0f-9cb6d020b9c2  "
      ]
     },
     "execution_count": 14,
     "metadata": {},
     "output_type": "execute_result"
    }
   ],
   "source": [
    "user.subscribed_strategy"
   ]
  },
  {
   "cell_type": "code",
   "execution_count": 15,
   "metadata": {},
   "outputs": [
    {
     "ename": "AttributeError",
     "evalue": "'list' object has no attribute 'keys'",
     "output_type": "error",
     "traceback": [
      "\u001b[1;31m---------------------------------------------------------------------------\u001b[0m",
      "\u001b[1;31mAttributeError\u001b[0m                            Traceback (most recent call last)",
      "\u001b[1;32m<ipython-input-15-87db4c969fb8>\u001b[0m in \u001b[0;36m<module>\u001b[1;34m\u001b[0m\n\u001b[1;32m----> 1\u001b[1;33m \u001b[0muser\u001b[0m\u001b[1;33m.\u001b[0m\u001b[0msave\u001b[0m\u001b[1;33m(\u001b[0m\u001b[1;33m)\u001b[0m\u001b[1;33m\u001b[0m\u001b[1;33m\u001b[0m\u001b[0m\n\u001b[0m",
      "\u001b[1;32me:\\quantaxis\\QUANTAXIS\\QAARP\\QAUser.py\u001b[0m in \u001b[0;36msave\u001b[1;34m(self)\u001b[0m\n\u001b[0;32m    421\u001b[0m             self.client.update(\n\u001b[0;32m    422\u001b[0m                 \u001b[1;33m{\u001b[0m\u001b[1;34m'wechat_id'\u001b[0m\u001b[1;33m:\u001b[0m \u001b[0mself\u001b[0m\u001b[1;33m.\u001b[0m\u001b[0mwechat_id\u001b[0m\u001b[1;33m}\u001b[0m\u001b[1;33m,\u001b[0m\u001b[1;33m\u001b[0m\u001b[1;33m\u001b[0m\u001b[0m\n\u001b[1;32m--> 423\u001b[1;33m                 \u001b[1;33m{\u001b[0m\u001b[1;34m'$set'\u001b[0m\u001b[1;33m:\u001b[0m \u001b[0mself\u001b[0m\u001b[1;33m.\u001b[0m\u001b[0mmessage\u001b[0m\u001b[1;33m}\u001b[0m\u001b[1;33m,\u001b[0m\u001b[1;33m\u001b[0m\u001b[1;33m\u001b[0m\u001b[0m\n\u001b[0m\u001b[0;32m    424\u001b[0m                 \u001b[0mupsert\u001b[0m\u001b[1;33m=\u001b[0m\u001b[1;32mTrue\u001b[0m\u001b[1;33m\u001b[0m\u001b[1;33m\u001b[0m\u001b[0m\n\u001b[0;32m    425\u001b[0m             )\n",
      "\u001b[1;32me:\\quantaxis\\QUANTAXIS\\QAARP\\QAUser.py\u001b[0m in \u001b[0;36mmessage\u001b[1;34m(self)\u001b[0m\n\u001b[0;32m    405\u001b[0m             \u001b[1;34m'subuscribed_strategy'\u001b[0m\u001b[1;33m:\u001b[0m \u001b[0mself\u001b[0m\u001b[1;33m.\u001b[0m\u001b[0m_subscribed_strategy\u001b[0m\u001b[1;33m,\u001b[0m\u001b[1;33m\u001b[0m\u001b[1;33m\u001b[0m\u001b[0m\n\u001b[0;32m    406\u001b[0m             \u001b[1;34m'subscribed_code'\u001b[0m\u001b[1;33m:\u001b[0m \u001b[0mself\u001b[0m\u001b[1;33m.\u001b[0m\u001b[0msubscribed_code\u001b[0m\u001b[1;33m,\u001b[0m\u001b[1;33m\u001b[0m\u001b[1;33m\u001b[0m\u001b[0m\n\u001b[1;32m--> 407\u001b[1;33m             \u001b[1;34m'portfolio_list'\u001b[0m\u001b[1;33m:\u001b[0m \u001b[0mlist\u001b[0m\u001b[1;33m(\u001b[0m\u001b[0mself\u001b[0m\u001b[1;33m.\u001b[0m\u001b[0mportfolio_list\u001b[0m\u001b[1;33m.\u001b[0m\u001b[0mkeys\u001b[0m\u001b[1;33m(\u001b[0m\u001b[1;33m)\u001b[0m\u001b[1;33m)\u001b[0m\u001b[1;33m,\u001b[0m\u001b[1;33m\u001b[0m\u001b[1;33m\u001b[0m\u001b[0m\n\u001b[0m\u001b[0;32m    408\u001b[0m             \u001b[1;34m'lastupdatetime'\u001b[0m\u001b[1;33m:\u001b[0m \u001b[0mstr\u001b[0m\u001b[1;33m(\u001b[0m\u001b[0mdatetime\u001b[0m\u001b[1;33m.\u001b[0m\u001b[0mdatetime\u001b[0m\u001b[1;33m.\u001b[0m\u001b[0mnow\u001b[0m\u001b[1;33m(\u001b[0m\u001b[1;33m)\u001b[0m\u001b[1;33m)\u001b[0m\u001b[1;33m\u001b[0m\u001b[1;33m\u001b[0m\u001b[0m\n\u001b[0;32m    409\u001b[0m         }\n",
      "\u001b[1;31mAttributeError\u001b[0m: 'list' object has no attribute 'keys'"
     ]
    }
   ],
   "source": [
    "user.save()"
   ]
  },
  {
   "cell_type": "markdown",
   "metadata": {},
   "source": [
    "# 账户的同步和更新\n",
    "\n",
    "QA_User在初始化的时候会自动同步数据库, 更新自己"
   ]
  },
  {
   "cell_type": "code",
   "execution_count": null,
   "metadata": {},
   "outputs": [],
   "source": [
    "user1= QA.QA_User(username='yutiansut',password='940809')"
   ]
  },
  {
   "cell_type": "code",
   "execution_count": null,
   "metadata": {},
   "outputs": [],
   "source": [
    "user1.sync()"
   ]
  },
  {
   "cell_type": "code",
   "execution_count": null,
   "metadata": {},
   "outputs": [],
   "source": [
    "user1.message"
   ]
  },
  {
   "cell_type": "code",
   "execution_count": null,
   "metadata": {},
   "outputs": [],
   "source": [
    "user1.money=200000"
   ]
  },
  {
   "cell_type": "code",
   "execution_count": null,
   "metadata": {},
   "outputs": [],
   "source": [
    "user1.save()"
   ]
  },
  {
   "cell_type": "code",
   "execution_count": null,
   "metadata": {},
   "outputs": [],
   "source": [
    "user1.message"
   ]
  },
  {
   "cell_type": "code",
   "execution_count": null,
   "metadata": {},
   "outputs": [],
   "source": [
    "QA.QA_User(username='yutiansut',password='940809').message"
   ]
  },
  {
   "cell_type": "markdown",
   "metadata": {},
   "source": [
    "# 讨论下 QAUSER的下挂Portfolio/Account"
   ]
  },
  {
   "cell_type": "code",
   "execution_count": null,
   "metadata": {},
   "outputs": [],
   "source": [
    "admin=QA.QA_User(username='yutiansut',password='940809')"
   ]
  },
  {
   "cell_type": "code",
   "execution_count": null,
   "metadata": {},
   "outputs": [],
   "source": [
    "admin.portfolio_list"
   ]
  },
  {
   "cell_type": "code",
   "execution_count": null,
   "metadata": {},
   "outputs": [],
   "source": [
    "admin.new_portfolio('RB_PORTFOLIO')"
   ]
  },
  {
   "cell_type": "code",
   "execution_count": null,
   "metadata": {},
   "outputs": [],
   "source": [
    "RB_Portfolio=admin.get_portfolio('RB_PORTFOLIO')"
   ]
  },
  {
   "cell_type": "code",
   "execution_count": null,
   "metadata": {},
   "outputs": [],
   "source": [
    "RB_Portfolio.new_account(account_cookie='test1',init_cash=200000)"
   ]
  },
  {
   "cell_type": "code",
   "execution_count": null,
   "metadata": {},
   "outputs": [],
   "source": [
    "admin.portfolio_list"
   ]
  },
  {
   "cell_type": "code",
   "execution_count": null,
   "metadata": {},
   "outputs": [],
   "source": [
    "RB_Portfolio.accounts"
   ]
  },
  {
   "cell_type": "code",
   "execution_count": null,
   "metadata": {},
   "outputs": [],
   "source": [
    "RB_Portfolio.user_cookie"
   ]
  },
  {
   "cell_type": "code",
   "execution_count": null,
   "metadata": {},
   "outputs": [],
   "source": [
    "RB_Portfolio"
   ]
  },
  {
   "cell_type": "code",
   "execution_count": null,
   "metadata": {},
   "outputs": [],
   "source": [
    "acc1=RB_Portfolio['test1']"
   ]
  },
  {
   "cell_type": "code",
   "execution_count": null,
   "metadata": {},
   "outputs": [],
   "source": [
    "acc1"
   ]
  },
  {
   "cell_type": "code",
   "execution_count": null,
   "metadata": {},
   "outputs": [],
   "source": [
    "admin"
   ]
  },
  {
   "cell_type": "code",
   "execution_count": null,
   "metadata": {},
   "outputs": [],
   "source": []
  },
  {
   "cell_type": "code",
   "execution_count": null,
   "metadata": {},
   "outputs": [],
   "source": []
  },
  {
   "cell_type": "code",
   "execution_count": null,
   "metadata": {},
   "outputs": [],
   "source": [
    "# 让account发生一些行为: 交易等"
   ]
  },
  {
   "cell_type": "code",
   "execution_count": null,
   "metadata": {},
   "outputs": [],
   "source": [
    "acc1.receive_simpledeal('000001',20, 2000,QA.ORDER_DIRECTION.BUY, '2019-01-25')"
   ]
  },
  {
   "cell_type": "code",
   "execution_count": null,
   "metadata": {},
   "outputs": [],
   "source": [
    "# 回来查看 QAUSER/ QAPORTFOLIO\n"
   ]
  },
  {
   "cell_type": "code",
   "execution_count": null,
   "metadata": {},
   "outputs": [],
   "source": [
    "\n",
    "\n",
    "\"\"\"\n",
    "当组合产生一个子账户的时候, 会统一扣减一个值\n",
    "\n",
    "至于子账户的内部行为, 在PORTFOLIO.cash的部分不加以体现\n",
    "\n",
    "\"\"\"\n",
    "RB_Portfolio.cash # 组合和子账户之间的交互"
   ]
  },
  {
   "cell_type": "code",
   "execution_count": null,
   "metadata": {},
   "outputs": [],
   "source": [
    "RB_Portfolio.history_table"
   ]
  },
  {
   "cell_type": "code",
   "execution_count": null,
   "metadata": {},
   "outputs": [],
   "source": []
  },
  {
   "cell_type": "code",
   "execution_count": null,
   "metadata": {},
   "outputs": [],
   "source": [
    "acc2= RB_Portfolio.new_account(account_cookie='test2',init_cash=500000)"
   ]
  },
  {
   "cell_type": "code",
   "execution_count": null,
   "metadata": {},
   "outputs": [],
   "source": [
    "acc2.receive_simpledeal('000002',20, 2000,QA.ORDER_DIRECTION.BUY, '2019-01-25')"
   ]
  },
  {
   "cell_type": "code",
   "execution_count": null,
   "metadata": {},
   "outputs": [],
   "source": [
    "RB_Portfolio.history_table"
   ]
  },
  {
   "cell_type": "code",
   "execution_count": null,
   "metadata": {},
   "outputs": [],
   "source": []
  },
  {
   "cell_type": "code",
   "execution_count": null,
   "metadata": {},
   "outputs": [],
   "source": [
    "acc3= RB_Portfolio.new_account(account_cookie='test3_future',init_cash=500000, market_type=QA.MARKET_TYPE.FUTURE_CN)"
   ]
  },
  {
   "cell_type": "code",
   "execution_count": null,
   "metadata": {},
   "outputs": [],
   "source": [
    "acc3.market_type"
   ]
  },
  {
   "cell_type": "code",
   "execution_count": null,
   "metadata": {},
   "outputs": [],
   "source": [
    "acc3"
   ]
  },
  {
   "cell_type": "code",
   "execution_count": null,
   "metadata": {},
   "outputs": [],
   "source": [
    "acc3.receive_simpledeal('RB1905',3509, 2,QA.ORDER_DIRECTION.BUY_OPEN, '2019-01-25')\n"
   ]
  },
  {
   "cell_type": "code",
   "execution_count": null,
   "metadata": {},
   "outputs": [],
   "source": [
    "acc3.receive_simpledeal('J1905',1800, 2,QA.ORDER_DIRECTION.BUY_OPEN, '2019-01-25')"
   ]
  },
  {
   "cell_type": "code",
   "execution_count": null,
   "metadata": {},
   "outputs": [],
   "source": [
    "\"\"\"\n",
    "\n",
    "history_table 展示了当前的所有子账户的交易\n",
    "\n",
    "\"\"\"\n",
    "\n",
    "\n",
    "RB_Portfolio.history_table"
   ]
  },
  {
   "cell_type": "code",
   "execution_count": null,
   "metadata": {},
   "outputs": [],
   "source": [
    "RB_Portfolio.send_order('test1','000001',100,'2019-01-28',QA.ORDER_DIRECTION.SELL,price=22, order_model=QA.ORDER_MODEL.LIMIT,amount_model=QA.AMOUNT_MODEL.BY_AMOUNT)"
   ]
  },
  {
   "cell_type": "code",
   "execution_count": null,
   "metadata": {},
   "outputs": [],
   "source": [
    "RB_Portfolio.history[0][2]"
   ]
  },
  {
   "cell_type": "code",
   "execution_count": null,
   "metadata": {},
   "outputs": [],
   "source": [
    "admin['RB_PORTFOLIO']"
   ]
  },
  {
   "cell_type": "markdown",
   "metadata": {},
   "source": [
    "#   开放成HTTP 端口, 被WEBSERVER实现 "
   ]
  },
  {
   "cell_type": "code",
   "execution_count": null,
   "metadata": {},
   "outputs": [],
   "source": [
    "admin.message"
   ]
  },
  {
   "cell_type": "code",
   "execution_count": null,
   "metadata": {},
   "outputs": [],
   "source": [
    "RB_Portfolio.cash"
   ]
  },
  {
   "cell_type": "code",
   "execution_count": null,
   "metadata": {},
   "outputs": [],
   "source": [
    "acc1.history_table"
   ]
  },
  {
   "cell_type": "code",
   "execution_count": null,
   "metadata": {},
   "outputs": [],
   "source": [
    "admin.subscribed_strategy"
   ]
  },
  {
   "cell_type": "code",
   "execution_count": null,
   "metadata": {},
   "outputs": [],
   "source": [
    "admin.save()"
   ]
  },
  {
   "cell_type": "code",
   "execution_count": null,
   "metadata": {},
   "outputs": [],
   "source": [
    "admin.portfolio_list"
   ]
  },
  {
   "cell_type": "code",
   "execution_count": null,
   "metadata": {},
   "outputs": [],
   "source": [
    "#admin.message"
   ]
  },
  {
   "cell_type": "code",
   "execution_count": null,
   "metadata": {},
   "outputs": [],
   "source": [
    "## 考虑一个问题:\n",
    "\n"
   ]
  }
 ],
 "metadata": {
  "kernelspec": {
   "display_name": "Python 3",
   "language": "python",
   "name": "python3"
  },
  "language_info": {
   "codemirror_mode": {
    "name": "ipython",
    "version": 3
   },
   "file_extension": ".py",
   "mimetype": "text/x-python",
   "name": "python",
   "nbconvert_exporter": "python",
   "pygments_lexer": "ipython3",
   "version": "3.6.7"
  },
  "latex_envs": {
   "LaTeX_envs_menu_present": true,
   "autoclose": false,
   "autocomplete": true,
   "bibliofile": "biblio.bib",
   "cite_by": "apalike",
   "current_citInitial": 1,
   "eqLabelWithNumbers": true,
   "eqNumInitial": 1,
   "hotkeys": {
    "equation": "Ctrl-E",
    "itemize": "Ctrl-I"
   },
   "labels_anchors": false,
   "latex_user_defs": false,
   "report_style_numbering": false,
   "user_envs_cfg": false
  },
  "toc": {
   "base_numbering": 1,
   "nav_menu": {},
   "number_sections": true,
   "sideBar": true,
   "skip_h1_title": false,
   "title_cell": "Table of Contents",
   "title_sidebar": "Contents",
   "toc_cell": false,
   "toc_position": {},
   "toc_section_display": true,
   "toc_window_display": false
  },
  "varInspector": {
   "cols": {
    "lenName": 16,
    "lenType": 16,
    "lenVar": 40
   },
   "kernels_config": {
    "python": {
     "delete_cmd_postfix": "",
     "delete_cmd_prefix": "del ",
     "library": "var_list.py",
     "varRefreshCmd": "print(var_dic_list())"
    },
    "r": {
     "delete_cmd_postfix": ") ",
     "delete_cmd_prefix": "rm(",
     "library": "var_list.r",
     "varRefreshCmd": "cat(var_dic_list()) "
    }
   },
   "types_to_exclude": [
    "module",
    "function",
    "builtin_function_or_method",
    "instance",
    "_Feature"
   ],
   "window_display": false
  }
 },
 "nbformat": 4,
 "nbformat_minor": 2
}
