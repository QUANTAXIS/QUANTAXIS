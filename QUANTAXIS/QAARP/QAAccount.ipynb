{
 "cells": [
  {
   "cell_type": "markdown",
   "metadata": {},
   "source": [
    "# QAACCOUNT 账户类"
   ]
  },
  {
   "cell_type": "markdown",
   "metadata": {},
   "source": [
    "QA_Account() 是quantaxis的核心类, 其作用是一个可以使用规则兼容各种市场的账户类\n"
   ]
  },
  {
   "cell_type": "markdown",
   "metadata": {},
   "source": [
    "## 1. 调用方式"
   ]
  },
  {
   "cell_type": "code",
   "execution_count": 2,
   "metadata": {},
   "outputs": [
    {
     "data": {
      "text/plain": [
       "< QA_Account Acc_E5bFQXlT>"
      ]
     },
     "execution_count": 2,
     "metadata": {},
     "output_type": "execute_result"
    }
   ],
   "source": [
    "import QUANTAXIS as QA\n",
    "QA.QA_Account()"
   ]
  },
  {
   "cell_type": "markdown",
   "metadata": {},
   "source": [
    "## 2.参数详解"
   ]
  },
  {
   "cell_type": "code",
   "execution_count": 6,
   "metadata": {},
   "outputs": [],
   "source": [
    "# strategy_name=None,\n",
    "# user_cookie=None,\n",
    "# portfolio_cookie=None,\n",
    "# account_cookie=None,\n",
    "# market_type=MARKET_TYPE.STOCK_CN,\n",
    "# frequence=FREQUENCE.DAY,\n",
    "# broker=BROKER_TYPE.BACKETEST,\n",
    "# init_hold={},\n",
    "# init_cash=1000000,\n",
    "# commission_coeff=0.00025,\n",
    "# tax_coeff=0.001,\n",
    "# margin_level={},\n",
    "# allow_t0=False,\n",
    "# allow_sellopen=False,\n",
    "# allow_margin=False,\n",
    "# running_environment=RUNNING_ENVIRONMENT.BACKETEST"
   ]
  },
  {
   "cell_type": "code",
   "execution_count": null,
   "metadata": {},
   "outputs": [],
   "source": []
  },
  {
   "cell_type": "code",
   "execution_count": null,
   "metadata": {},
   "outputs": [],
   "source": []
  },
  {
   "cell_type": "code",
   "execution_count": null,
   "metadata": {},
   "outputs": [],
   "source": []
  }
 ],
 "metadata": {
  "kernelspec": {
   "display_name": "Python 3",
   "language": "python",
   "name": "python3"
  },
  "language_info": {
   "codemirror_mode": {
    "name": "ipython",
    "version": 3
   },
   "file_extension": ".py",
   "mimetype": "text/x-python",
   "name": "python",
   "nbconvert_exporter": "python",
   "pygments_lexer": "ipython3",
   "version": "3.6.7"
  }
 },
 "nbformat": 4,
 "nbformat_minor": 2
}
