{
 "cells": [
  {
   "cell_type": "code",
   "execution_count": 1,
   "metadata": {},
   "outputs": [
    {
     "name": "stderr",
     "output_type": "stream",
     "text": [
      "QUANTAXIS>> start QUANTAXIS\n",
      "QUANTAXIS>> Selecting the Best Server IP of TDX\n",
      "QUANTAXIS>> === The BEST SERVER ===\n",
      " stock_ip 180.153.39.51 future_ip 61.152.107.141\n",
      "QUANTAXIS>> Welcome to QUANTAXIS, the Version is remake-version\n",
      "QUANTAXIS>>  \n",
      " ```````````````````````````````````````````````````````````````````````````````````````````````````````````````````````` \n",
      "  ``########`````##````````##``````````##`````````####````````##```##########````````#``````##``````###```##`````######`` \n",
      "  `##``````## ```##````````##`````````####````````##`##```````##```````##```````````###``````##````##`````##```##`````##` \n",
      "  ##````````##```##````````##````````##`##````````##``##``````##```````##``````````####```````#```##``````##```##``````## \n",
      "  ##````````##```##````````##```````##```##```````##```##`````##```````##`````````##`##```````##`##```````##````##``````` \n",
      "  ##````````##```##````````##``````##`````##``````##````##````##```````##````````##``###```````###````````##`````##`````` \n",
      "  ##````````##```##````````##``````##``````##`````##`````##```##```````##```````##````##```````###````````##``````###```` \n",
      "  ##````````##```##````````##`````##````````##````##``````##``##```````##``````##``````##`````##`##```````##````````##``` \n",
      "  ##````````##```##````````##````#############````##```````##`##```````##`````###########`````##``##``````##`````````##`` \n",
      "  ###```````##```##````````##```##```````````##```##```````##`##```````##````##`````````##```##```##``````##```##`````##` \n",
      "  `##``````###````##``````###``##`````````````##``##````````####```````##```##``````````##``###````##`````##````##`````## \n",
      "  ``#########``````########```##``````````````###`##``````````##```````##``##````````````##`##``````##````##`````##````## \n",
      "  ````````#####`````````````````````````````````````````````````````````````````````````````````````````````````````####` \n",
      "  ``````````````````````````````````````````````````````````````````````````````````````````````````````````````````````` \n",
      "  ``````````````````````````Copyright``yutiansut``2017``````QUANTITATIVE FINANCIAL FRAMEWORK````````````````````````````` \n",
      "  ``````````````````````````````````````````````````````````````````````````````````````````````````````````````````````` \n",
      " ```````````````````````````````````````````````````````````````````````````````````````````````````````````````````````` \n",
      " ```````````````````````````````````````````````````````````````````````````````````````````````````````````````````````` \n",
      " \n"
     ]
    }
   ],
   "source": [
    "import QUANTAXIS as QA\n",
    "import threading"
   ]
  },
  {
   "cell_type": "code",
   "execution_count": 2,
   "metadata": {},
   "outputs": [],
   "source": [
    "user = QA.QA_Portfolio()\n",
    "# 创建两个account\n",
    "#这里是创建一个资产组合,然后在组合里面创建两个account  你可以想象成股票里面的两个策略账户\n",
    "#然后返回的是这个账户的id\n",
    "a_1 = user.new_account()\n",
    "a_2 = user.new_account()\n"
   ]
  },
  {
   "cell_type": "code",
   "execution_count": null,
   "metadata": {},
   "outputs": [],
   "source": []
  },
  {
   "cell_type": "code",
   "execution_count": 3,
   "metadata": {},
   "outputs": [
    {
     "data": {
      "text/plain": [
       "'Acc_fs4o5KcY'"
      ]
     },
     "execution_count": 3,
     "metadata": {},
     "output_type": "execute_result"
    }
   ],
   "source": [
    "a_1"
   ]
  },
  {
   "cell_type": "code",
   "execution_count": 4,
   "metadata": {},
   "outputs": [
    {
     "name": "stdout",
     "output_type": "stream",
     "text": [
      "< QA_MARKET with ['backtest'] Broker >\n"
     ]
    }
   ],
   "source": [
    "\"\"\"\n",
    "然后这里 是创建一个交易前置  你可以理解成 创建了一个无界面的通达信客户端\n",
    "然后start()开启这个客户端\n",
    "连接到backtest的broker上 这个broker可以更换\n",
    "\"\"\"\n",
    "# 创建一个交易前置\n",
    "market = QA.QA_Market()\n",
    "# 交易前置连接broker \n",
    "market.start()\n",
    "market.connect(QA.RUNNING_ENVIRONMENT.BACKETEST)\n",
    "\n",
    "# 打印market\n",
    "print(market)\n",
    "\n"
   ]
  },
  {
   "cell_type": "code",
   "execution_count": 5,
   "metadata": {},
   "outputs": [
    {
     "data": {
      "text/plain": [
       "[<_MainThread(MainThread, started 140125673101056)>,\n",
       " <Thread(Thread-2, started daemon 140125455513344)>,\n",
       " <Heartbeat(Thread-3, started daemon 140125447120640)>,\n",
       " <HistorySavingThread(IPythonHistorySavingThread, started 140125421942528)>,\n",
       " <ParentPollerUnix(Thread-1, started daemon 140125413549824)>,\n",
       " <Thread(pymongo_server_monitor_thread, started daemon 140124774123264)>,\n",
       " <Thread(pymongo_kill_cursors_thread, started daemon 140124765730560)>,\n",
       " <Thread(pymongo_server_monitor_thread, started daemon 140124757337856)>,\n",
       " <Thread(pymongo_kill_cursors_thread, started daemon 140124748945152)>,\n",
       " <Thread(pymongo_server_monitor_thread, started daemon 140124740552448)>,\n",
       " <Thread(pymongo_kill_cursors_thread, started daemon 140124732159744)>,\n",
       " <Thread(pymongo_server_monitor_thread, started daemon 140124356015872)>,\n",
       " <Thread(pymongo_kill_cursors_thread, started daemon 140124347623168)>,\n",
       " <Thread(pymongo_server_monitor_thread, started daemon 140124339230464)>,\n",
       " <Thread(pymongo_kill_cursors_thread, started daemon 140124330837760)>,\n",
       " <Thread(pymongo_server_monitor_thread, started daemon 140124046227200)>,\n",
       " <Thread(pymongo_kill_cursors_thread, started daemon 140124037834496)>,\n",
       " <Thread(pymongo_server_monitor_thread, started daemon 140124029441792)>,\n",
       " <Thread(pymongo_kill_cursors_thread, started daemon 140124021049088)>,\n",
       " <Thread(pymongo_server_monitor_thread, started daemon 140124012656384)>,\n",
       " <Thread(pymongo_kill_cursors_thread, started daemon 140124004263680)>,\n",
       " <Thread(pymongo_server_monitor_thread, started daemon 140123995870976)>,\n",
       " <Thread(pymongo_kill_cursors_thread, started daemon 140123442247424)>,\n",
       " <Thread(pymongo_server_monitor_thread, started daemon 140123433854720)>,\n",
       " <Thread(pymongo_kill_cursors_thread, started daemon 140123425462016)>,\n",
       " <Thread(pymongo_server_monitor_thread, started daemon 140123417069312)>,\n",
       " <Thread(pymongo_kill_cursors_thread, started daemon 140123408676608)>,\n",
       " <Thread(pymongo_server_monitor_thread, started daemon 140123400283904)>,\n",
       " <Thread(pymongo_kill_cursors_thread, started daemon 140123391891200)>,\n",
       " <Thread(pymongo_server_monitor_thread, started daemon 140122905376512)>,\n",
       " <Thread(pymongo_kill_cursors_thread, started daemon 140122896983808)>,\n",
       " <Thread(pymongo_server_monitor_thread, started daemon 140122888591104)>,\n",
       " <Thread(pymongo_kill_cursors_thread, started daemon 140122880198400)>,\n",
       " <Thread(pymongo_server_monitor_thread, started daemon 140122871805696)>,\n",
       " <Thread(pymongo_kill_cursors_thread, started daemon 140122863412992)>,\n",
       " <Thread(pymongo_server_monitor_thread, started daemon 140122855020288)>,\n",
       " <Thread(pymongo_kill_cursors_thread, started daemon 140122771158784)>,\n",
       " <Thread(pymongo_server_monitor_thread, started daemon 140122762766080)>,\n",
       " <Thread(pymongo_kill_cursors_thread, started daemon 140122754373376)>,\n",
       " <Thread(pymongo_server_monitor_thread, started daemon 140122745980672)>,\n",
       " <Thread(pymongo_kill_cursors_thread, started daemon 140122737587968)>,\n",
       " <Thread(pymongo_server_monitor_thread, started daemon 140122729195264)>,\n",
       " <Thread(pymongo_kill_cursors_thread, started daemon 140122720802560)>,\n",
       " <Thread(pymongo_server_monitor_thread, started daemon 140122712409856)>,\n",
       " <Thread(pymongo_kill_cursors_thread, started daemon 140122704017152)>,\n",
       " <Thread(pymongo_server_monitor_thread, started daemon 140122695624448)>,\n",
       " <Thread(pymongo_kill_cursors_thread, started daemon 140122687231744)>,\n",
       " <Thread(pymongo_server_monitor_thread, started daemon 140122678839040)>,\n",
       " <Thread(pymongo_kill_cursors_thread, started daemon 140122670446336)>,\n",
       " <Thread(pymongo_server_monitor_thread, started daemon 140122662053632)>,\n",
       " <Thread(pymongo_kill_cursors_thread, started daemon 140122653660928)>,\n",
       " <Thread(pymongo_server_monitor_thread, started daemon 140122645268224)>,\n",
       " <Thread(pymongo_kill_cursors_thread, started daemon 140122636875520)>,\n",
       " <Thread(pymongo_server_monitor_thread, started daemon 140122628482816)>,\n",
       " <Thread(pymongo_kill_cursors_thread, started daemon 140122620090112)>,\n",
       " <Thread(pymongo_server_monitor_thread, started daemon 140122611697408)>,\n",
       " <Thread(pymongo_kill_cursors_thread, started daemon 140122603304704)>,\n",
       " <Thread(pymongo_server_monitor_thread, started daemon 140122594912000)>,\n",
       " <Thread(pymongo_kill_cursors_thread, started daemon 140122586519296)>,\n",
       " <Thread(pymongo_server_monitor_thread, started daemon 140122578126592)>,\n",
       " <Thread(pymongo_kill_cursors_thread, started daemon 140122569733888)>,\n",
       " <Thread(pymongo_server_monitor_thread, started daemon 140122561341184)>,\n",
       " <Thread(pymongo_kill_cursors_thread, started daemon 140122552948480)>,\n",
       " <Thread(pymongo_server_monitor_thread, started daemon 140122544555776)>,\n",
       " <Thread(pymongo_kill_cursors_thread, started daemon 140122536163072)>,\n",
       " <Thread(pymongo_server_monitor_thread, started daemon 140122527770368)>,\n",
       " <Thread(pymongo_kill_cursors_thread, started daemon 140122519377664)>,\n",
       " <Thread(pymongo_server_monitor_thread, started daemon 140122510984960)>,\n",
       " <Thread(pymongo_kill_cursors_thread, started daemon 140122502592256)>,\n",
       " <Thread(pymongo_server_monitor_thread, started daemon 140122494199552)>,\n",
       " <Thread(pymongo_kill_cursors_thread, started daemon 140122485806848)>,\n",
       " <Thread(pymongo_server_monitor_thread, started daemon 140122477414144)>,\n",
       " <Thread(pymongo_kill_cursors_thread, started daemon 140122469021440)>,\n",
       " <Thread(pymongo_server_monitor_thread, started daemon 140122460628736)>,\n",
       " <Thread(pymongo_kill_cursors_thread, started daemon 140122452236032)>,\n",
       " <Thread(pymongo_server_monitor_thread, started daemon 140122443843328)>,\n",
       " <Thread(pymongo_kill_cursors_thread, started daemon 140122435450624)>,\n",
       " <Thread(pymongo_server_monitor_thread, started daemon 140122427057920)>,\n",
       " <Thread(pymongo_kill_cursors_thread, started daemon 140122418665216)>,\n",
       " <Thread(pymongo_server_monitor_thread, started daemon 140122410272512)>,\n",
       " <Thread(pymongo_kill_cursors_thread, started daemon 140122401879808)>,\n",
       " <Thread(pymongo_server_monitor_thread, started daemon 140122393487104)>,\n",
       " <Thread(pymongo_kill_cursors_thread, started daemon 140122385094400)>,\n",
       " <Thread(pymongo_server_monitor_thread, started daemon 140122376701696)>,\n",
       " <Thread(pymongo_kill_cursors_thread, started daemon 140122368308992)>,\n",
       " <Thread(pymongo_server_monitor_thread, started daemon 140122359916288)>,\n",
       " <Thread(pymongo_kill_cursors_thread, started daemon 140122351523584)>,\n",
       " <Thread(pymongo_server_monitor_thread, started daemon 140122343130880)>,\n",
       " <Thread(pymongo_kill_cursors_thread, started daemon 140122334738176)>,\n",
       " <Thread(pymongo_server_monitor_thread, started daemon 140122326345472)>,\n",
       " <Thread(pymongo_kill_cursors_thread, started daemon 140122317952768)>,\n",
       " <Thread(pymongo_server_monitor_thread, started daemon 140122309560064)>,\n",
       " <Thread(pymongo_kill_cursors_thread, started daemon 140122301167360)>,\n",
       " <Thread(pymongo_server_monitor_thread, started daemon 140122292774656)>,\n",
       " <Thread(pymongo_kill_cursors_thread, started daemon 140122284381952)>,\n",
       " <Thread(pymongo_server_monitor_thread, started daemon 140122275989248)>,\n",
       " <Thread(pymongo_kill_cursors_thread, started daemon 140122267596544)>,\n",
       " <Thread(pymongo_server_monitor_thread, started daemon 140122259203840)>,\n",
       " <Thread(pymongo_kill_cursors_thread, started daemon 140122250811136)>,\n",
       " <Thread(pymongo_server_monitor_thread, started daemon 140122242418432)>,\n",
       " <Thread(pymongo_kill_cursors_thread, started daemon 140122234025728)>,\n",
       " <Thread(pymongo_server_monitor_thread, started daemon 140122225633024)>,\n",
       " <Thread(pymongo_kill_cursors_thread, started daemon 140122217240320)>,\n",
       " <Thread(pymongo_server_monitor_thread, started daemon 140122208847616)>,\n",
       " <Thread(pymongo_kill_cursors_thread, started daemon 140122200454912)>,\n",
       " <Thread(pymongo_server_monitor_thread, started daemon 140122192062208)>,\n",
       " <Thread(pymongo_kill_cursors_thread, started daemon 140122183669504)>,\n",
       " <Thread(pymongo_server_monitor_thread, started daemon 140122175276800)>,\n",
       " <Thread(pymongo_kill_cursors_thread, started daemon 140122166884096)>,\n",
       " <Thread(pymongo_server_monitor_thread, started daemon 140122158491392)>,\n",
       " <Thread(pymongo_kill_cursors_thread, started daemon 140122150098688)>,\n",
       " <Thread(pymongo_server_monitor_thread, started daemon 140122141705984)>,\n",
       " <Thread(pymongo_kill_cursors_thread, started daemon 140122133313280)>,\n",
       " <Thread(pymongo_server_monitor_thread, started daemon 140122124920576)>,\n",
       " <Thread(pymongo_kill_cursors_thread, started daemon 140122116527872)>,\n",
       " <Thread(pymongo_server_monitor_thread, started daemon 140122108135168)>,\n",
       " <Thread(pymongo_kill_cursors_thread, started daemon 140122099742464)>,\n",
       " <Thread(pymongo_server_monitor_thread, started daemon 140122091349760)>,\n",
       " <Thread(pymongo_kill_cursors_thread, started daemon 140122082957056)>,\n",
       " <Thread(pymongo_server_monitor_thread, started daemon 140122074564352)>,\n",
       " <Thread(pymongo_kill_cursors_thread, started daemon 140122066171648)>,\n",
       " <Thread(pymongo_server_monitor_thread, started daemon 140122057778944)>,\n",
       " <Thread(pymongo_kill_cursors_thread, started daemon 140122049386240)>,\n",
       " <Thread(pymongo_server_monitor_thread, started daemon 140122040993536)>,\n",
       " <Thread(pymongo_kill_cursors_thread, started daemon 140122032600832)>,\n",
       " <Thread(pymongo_server_monitor_thread, started daemon 140122024208128)>,\n",
       " <Thread(pymongo_kill_cursors_thread, started daemon 140122015815424)>,\n",
       " <Thread(pymongo_server_monitor_thread, started daemon 140122007422720)>,\n",
       " <Thread(pymongo_kill_cursors_thread, started daemon 140121999030016)>,\n",
       " <Thread(pymongo_server_monitor_thread, started daemon 140121990637312)>,\n",
       " <Thread(pymongo_kill_cursors_thread, started daemon 140121982244608)>,\n",
       " <Thread(pymongo_server_monitor_thread, started daemon 140121973851904)>,\n",
       " <Thread(pymongo_kill_cursors_thread, started daemon 140121965459200)>,\n",
       " <Thread(pymongo_server_monitor_thread, started daemon 140121957066496)>,\n",
       " <Thread(pymongo_kill_cursors_thread, started daemon 140121948673792)>,\n",
       " <Thread(pymongo_server_monitor_thread, started daemon 140121940281088)>,\n",
       " <Thread(pymongo_kill_cursors_thread, started daemon 140121931888384)>,\n",
       " <Thread(pymongo_server_monitor_thread, started daemon 140121923495680)>,\n",
       " <Thread(pymongo_kill_cursors_thread, started daemon 140121915102976)>,\n",
       " <Thread(pymongo_server_monitor_thread, started daemon 140121906710272)>,\n",
       " <Thread(pymongo_kill_cursors_thread, started daemon 140121898317568)>,\n",
       " <Thread(pymongo_server_monitor_thread, started daemon 140121889924864)>,\n",
       " <Thread(pymongo_kill_cursors_thread, started daemon 140121881532160)>,\n",
       "  <QA_ENGINE with ['backtest'] kernals>,\n",
       " < QA_Thread backtest >]"
      ]
     },
     "execution_count": 5,
     "metadata": {},
     "output_type": "execute_result"
    }
   ],
   "source": [
    "#线程里面 开启了一个broker的线程 \n",
    "threading.enumerate()"
   ]
  },
  {
   "cell_type": "code",
   "execution_count": 6,
   "metadata": {},
   "outputs": [
    {
     "data": {
      "text/plain": [
       "True"
      ]
     },
     "execution_count": 6,
     "metadata": {},
     "output_type": "execute_result"
    }
   ],
   "source": [
    "# 再连接一个模拟盘的BROKER\n",
    "market.connect(QA.RUNNING_ENVIRONMENT.SIMULATION)"
   ]
  },
  {
   "cell_type": "code",
   "execution_count": 7,
   "metadata": {},
   "outputs": [
    {
     "data": {
      "text/plain": [
       "[<_MainThread(MainThread, started 140125673101056)>,\n",
       " <Thread(Thread-2, started daemon 140125455513344)>,\n",
       " <Heartbeat(Thread-3, started daemon 140125447120640)>,\n",
       " <HistorySavingThread(IPythonHistorySavingThread, started 140125421942528)>,\n",
       " <ParentPollerUnix(Thread-1, started daemon 140125413549824)>,\n",
       " <Thread(pymongo_server_monitor_thread, started daemon 140124774123264)>,\n",
       " <Thread(pymongo_kill_cursors_thread, started daemon 140124765730560)>,\n",
       " <Thread(pymongo_server_monitor_thread, started daemon 140124757337856)>,\n",
       " <Thread(pymongo_kill_cursors_thread, started daemon 140124748945152)>,\n",
       " <Thread(pymongo_server_monitor_thread, started daemon 140124740552448)>,\n",
       " <Thread(pymongo_kill_cursors_thread, started daemon 140124732159744)>,\n",
       " <Thread(pymongo_server_monitor_thread, started daemon 140124356015872)>,\n",
       " <Thread(pymongo_kill_cursors_thread, started daemon 140124347623168)>,\n",
       " <Thread(pymongo_server_monitor_thread, started daemon 140124339230464)>,\n",
       " <Thread(pymongo_kill_cursors_thread, started daemon 140124330837760)>,\n",
       " <Thread(pymongo_server_monitor_thread, started daemon 140124046227200)>,\n",
       " <Thread(pymongo_kill_cursors_thread, started daemon 140124037834496)>,\n",
       " <Thread(pymongo_server_monitor_thread, started daemon 140124029441792)>,\n",
       " <Thread(pymongo_kill_cursors_thread, started daemon 140124021049088)>,\n",
       " <Thread(pymongo_server_monitor_thread, started daemon 140124012656384)>,\n",
       " <Thread(pymongo_kill_cursors_thread, started daemon 140124004263680)>,\n",
       " <Thread(pymongo_server_monitor_thread, started daemon 140123995870976)>,\n",
       " <Thread(pymongo_kill_cursors_thread, started daemon 140123442247424)>,\n",
       " <Thread(pymongo_server_monitor_thread, started daemon 140123433854720)>,\n",
       " <Thread(pymongo_kill_cursors_thread, started daemon 140123425462016)>,\n",
       " <Thread(pymongo_server_monitor_thread, started daemon 140123417069312)>,\n",
       " <Thread(pymongo_kill_cursors_thread, started daemon 140123408676608)>,\n",
       " <Thread(pymongo_server_monitor_thread, started daemon 140123400283904)>,\n",
       " <Thread(pymongo_kill_cursors_thread, started daemon 140123391891200)>,\n",
       " <Thread(pymongo_server_monitor_thread, started daemon 140122905376512)>,\n",
       " <Thread(pymongo_kill_cursors_thread, started daemon 140122896983808)>,\n",
       " <Thread(pymongo_server_monitor_thread, started daemon 140122888591104)>,\n",
       " <Thread(pymongo_kill_cursors_thread, started daemon 140122880198400)>,\n",
       " <Thread(pymongo_server_monitor_thread, started daemon 140122871805696)>,\n",
       " <Thread(pymongo_kill_cursors_thread, started daemon 140122863412992)>,\n",
       " <Thread(pymongo_server_monitor_thread, started daemon 140122855020288)>,\n",
       " <Thread(pymongo_kill_cursors_thread, started daemon 140122771158784)>,\n",
       " <Thread(pymongo_server_monitor_thread, started daemon 140122762766080)>,\n",
       " <Thread(pymongo_kill_cursors_thread, started daemon 140122754373376)>,\n",
       " <Thread(pymongo_server_monitor_thread, started daemon 140122745980672)>,\n",
       " <Thread(pymongo_kill_cursors_thread, started daemon 140122737587968)>,\n",
       " <Thread(pymongo_server_monitor_thread, started daemon 140122729195264)>,\n",
       " <Thread(pymongo_kill_cursors_thread, started daemon 140122720802560)>,\n",
       " <Thread(pymongo_server_monitor_thread, started daemon 140122712409856)>,\n",
       " <Thread(pymongo_kill_cursors_thread, started daemon 140122704017152)>,\n",
       " <Thread(pymongo_server_monitor_thread, started daemon 140122695624448)>,\n",
       " <Thread(pymongo_kill_cursors_thread, started daemon 140122687231744)>,\n",
       " <Thread(pymongo_server_monitor_thread, started daemon 140122678839040)>,\n",
       " <Thread(pymongo_kill_cursors_thread, started daemon 140122670446336)>,\n",
       " <Thread(pymongo_server_monitor_thread, started daemon 140122662053632)>,\n",
       " <Thread(pymongo_kill_cursors_thread, started daemon 140122653660928)>,\n",
       " <Thread(pymongo_server_monitor_thread, started daemon 140122645268224)>,\n",
       " <Thread(pymongo_kill_cursors_thread, started daemon 140122636875520)>,\n",
       " <Thread(pymongo_server_monitor_thread, started daemon 140122628482816)>,\n",
       " <Thread(pymongo_kill_cursors_thread, started daemon 140122620090112)>,\n",
       " <Thread(pymongo_server_monitor_thread, started daemon 140122611697408)>,\n",
       " <Thread(pymongo_kill_cursors_thread, started daemon 140122603304704)>,\n",
       " <Thread(pymongo_server_monitor_thread, started daemon 140122594912000)>,\n",
       " <Thread(pymongo_kill_cursors_thread, started daemon 140122586519296)>,\n",
       " <Thread(pymongo_server_monitor_thread, started daemon 140122578126592)>,\n",
       " <Thread(pymongo_kill_cursors_thread, started daemon 140122569733888)>,\n",
       " <Thread(pymongo_server_monitor_thread, started daemon 140122561341184)>,\n",
       " <Thread(pymongo_kill_cursors_thread, started daemon 140122552948480)>,\n",
       " <Thread(pymongo_server_monitor_thread, started daemon 140122544555776)>,\n",
       " <Thread(pymongo_kill_cursors_thread, started daemon 140122536163072)>,\n",
       " <Thread(pymongo_server_monitor_thread, started daemon 140122527770368)>,\n",
       " <Thread(pymongo_kill_cursors_thread, started daemon 140122519377664)>,\n",
       " <Thread(pymongo_server_monitor_thread, started daemon 140122510984960)>,\n",
       " <Thread(pymongo_kill_cursors_thread, started daemon 140122502592256)>,\n",
       " <Thread(pymongo_server_monitor_thread, started daemon 140122494199552)>,\n",
       " <Thread(pymongo_kill_cursors_thread, started daemon 140122485806848)>,\n",
       " <Thread(pymongo_server_monitor_thread, started daemon 140122477414144)>,\n",
       " <Thread(pymongo_kill_cursors_thread, started daemon 140122469021440)>,\n",
       " <Thread(pymongo_server_monitor_thread, started daemon 140122460628736)>,\n",
       " <Thread(pymongo_kill_cursors_thread, started daemon 140122452236032)>,\n",
       " <Thread(pymongo_server_monitor_thread, started daemon 140122443843328)>,\n",
       " <Thread(pymongo_kill_cursors_thread, started daemon 140122435450624)>,\n",
       " <Thread(pymongo_server_monitor_thread, started daemon 140122427057920)>,\n",
       " <Thread(pymongo_kill_cursors_thread, started daemon 140122418665216)>,\n",
       " <Thread(pymongo_server_monitor_thread, started daemon 140122410272512)>,\n",
       " <Thread(pymongo_kill_cursors_thread, started daemon 140122401879808)>,\n",
       " <Thread(pymongo_server_monitor_thread, started daemon 140122393487104)>,\n",
       " <Thread(pymongo_kill_cursors_thread, started daemon 140122385094400)>,\n",
       " <Thread(pymongo_server_monitor_thread, started daemon 140122376701696)>,\n",
       " <Thread(pymongo_kill_cursors_thread, started daemon 140122368308992)>,\n",
       " <Thread(pymongo_server_monitor_thread, started daemon 140122359916288)>,\n",
       " <Thread(pymongo_kill_cursors_thread, started daemon 140122351523584)>,\n",
       " <Thread(pymongo_server_monitor_thread, started daemon 140122343130880)>,\n",
       " <Thread(pymongo_kill_cursors_thread, started daemon 140122334738176)>,\n",
       " <Thread(pymongo_server_monitor_thread, started daemon 140122326345472)>,\n",
       " <Thread(pymongo_kill_cursors_thread, started daemon 140122317952768)>,\n",
       " <Thread(pymongo_server_monitor_thread, started daemon 140122309560064)>,\n",
       " <Thread(pymongo_kill_cursors_thread, started daemon 140122301167360)>,\n",
       " <Thread(pymongo_server_monitor_thread, started daemon 140122292774656)>,\n",
       " <Thread(pymongo_kill_cursors_thread, started daemon 140122284381952)>,\n",
       " <Thread(pymongo_server_monitor_thread, started daemon 140122275989248)>,\n",
       " <Thread(pymongo_kill_cursors_thread, started daemon 140122267596544)>,\n",
       " <Thread(pymongo_server_monitor_thread, started daemon 140122259203840)>,\n",
       " <Thread(pymongo_kill_cursors_thread, started daemon 140122250811136)>,\n",
       " <Thread(pymongo_server_monitor_thread, started daemon 140122242418432)>,\n",
       " <Thread(pymongo_kill_cursors_thread, started daemon 140122234025728)>,\n",
       " <Thread(pymongo_server_monitor_thread, started daemon 140122225633024)>,\n",
       " <Thread(pymongo_kill_cursors_thread, started daemon 140122217240320)>,\n",
       " <Thread(pymongo_server_monitor_thread, started daemon 140122208847616)>,\n",
       " <Thread(pymongo_kill_cursors_thread, started daemon 140122200454912)>,\n",
       " <Thread(pymongo_server_monitor_thread, started daemon 140122192062208)>,\n",
       " <Thread(pymongo_kill_cursors_thread, started daemon 140122183669504)>,\n",
       " <Thread(pymongo_server_monitor_thread, started daemon 140122175276800)>,\n",
       " <Thread(pymongo_kill_cursors_thread, started daemon 140122166884096)>,\n",
       " <Thread(pymongo_server_monitor_thread, started daemon 140122158491392)>,\n",
       " <Thread(pymongo_kill_cursors_thread, started daemon 140122150098688)>,\n",
       " <Thread(pymongo_server_monitor_thread, started daemon 140122141705984)>,\n",
       " <Thread(pymongo_kill_cursors_thread, started daemon 140122133313280)>,\n",
       " <Thread(pymongo_server_monitor_thread, started daemon 140122124920576)>,\n",
       " <Thread(pymongo_kill_cursors_thread, started daemon 140122116527872)>,\n",
       " <Thread(pymongo_server_monitor_thread, started daemon 140122108135168)>,\n",
       " <Thread(pymongo_kill_cursors_thread, started daemon 140122099742464)>,\n",
       " <Thread(pymongo_server_monitor_thread, started daemon 140122091349760)>,\n",
       " <Thread(pymongo_kill_cursors_thread, started daemon 140122082957056)>,\n",
       " <Thread(pymongo_server_monitor_thread, started daemon 140122074564352)>,\n",
       " <Thread(pymongo_kill_cursors_thread, started daemon 140122066171648)>,\n",
       " <Thread(pymongo_server_monitor_thread, started daemon 140122057778944)>,\n",
       " <Thread(pymongo_kill_cursors_thread, started daemon 140122049386240)>,\n",
       " <Thread(pymongo_server_monitor_thread, started daemon 140122040993536)>,\n",
       " <Thread(pymongo_kill_cursors_thread, started daemon 140122032600832)>,\n",
       " <Thread(pymongo_server_monitor_thread, started daemon 140122024208128)>,\n",
       " <Thread(pymongo_kill_cursors_thread, started daemon 140122015815424)>,\n",
       " <Thread(pymongo_server_monitor_thread, started daemon 140122007422720)>,\n",
       " <Thread(pymongo_kill_cursors_thread, started daemon 140121999030016)>,\n",
       " <Thread(pymongo_server_monitor_thread, started daemon 140121990637312)>,\n",
       " <Thread(pymongo_kill_cursors_thread, started daemon 140121982244608)>,\n",
       " <Thread(pymongo_server_monitor_thread, started daemon 140121973851904)>,\n",
       " <Thread(pymongo_kill_cursors_thread, started daemon 140121965459200)>,\n",
       " <Thread(pymongo_server_monitor_thread, started daemon 140121957066496)>,\n",
       " <Thread(pymongo_kill_cursors_thread, started daemon 140121948673792)>,\n",
       " <Thread(pymongo_server_monitor_thread, started daemon 140121940281088)>,\n",
       " <Thread(pymongo_kill_cursors_thread, started daemon 140121931888384)>,\n",
       " <Thread(pymongo_server_monitor_thread, started daemon 140121923495680)>,\n",
       " <Thread(pymongo_kill_cursors_thread, started daemon 140121915102976)>,\n",
       " <Thread(pymongo_server_monitor_thread, started daemon 140121906710272)>,\n",
       " <Thread(pymongo_kill_cursors_thread, started daemon 140121898317568)>,\n",
       " <Thread(pymongo_server_monitor_thread, started daemon 140121889924864)>,\n",
       " <Thread(pymongo_kill_cursors_thread, started daemon 140121881532160)>,\n",
       "  <QA_ENGINE with ['backtest', 'simulation'] kernals>,\n",
       " < QA_Thread backtest >,\n",
       " < QA_Thread simulation >]"
      ]
     },
     "execution_count": 7,
     "metadata": {},
     "output_type": "execute_result"
    }
   ],
   "source": [
    "\"\"\"\n",
    "然后我们假设又连进了模拟盘 看到这时候引擎里面有两个broker了\n",
    "好比是通达信连了实盘又连了模拟盘\n",
    "\"\"\"\n",
    "threading.enumerate()"
   ]
  },
  {
   "cell_type": "code",
   "execution_count": null,
   "metadata": {},
   "outputs": [],
   "source": []
  },
  {
   "cell_type": "code",
   "execution_count": 8,
   "metadata": {},
   "outputs": [
    {
     "name": "stdout",
     "output_type": "stream",
     "text": [
      "['Acc_fs4o5KcY', 'Acc_DNA29XT8']\n"
     ]
    }
   ],
   "source": [
    "\"\"\"\n",
    "登陆到这个交易前置上 把你刚才的两个账户\n",
    "\"\"\"\n",
    "# 登陆交易\n",
    "market.login(a_1,QA.BROKER_TYPE.BACKETEST)\n",
    "market.login(a_2,QA.BROKER_TYPE.BACKETEST)\n",
    "# 打印市场中的交易账户\n",
    "print(market.get_account_id())\n",
    "\n"
   ]
  },
  {
   "cell_type": "code",
   "execution_count": null,
   "metadata": {},
   "outputs": [],
   "source": []
  },
  {
   "cell_type": "code",
   "execution_count": null,
   "metadata": {},
   "outputs": [],
   "source": []
  },
  {
   "cell_type": "code",
   "execution_count": 9,
   "metadata": {
    "scrolled": true
   },
   "outputs": [],
   "source": [
    "#然后这里 往交易前置里面添加订单 这个操作是异步的"
   ]
  },
  {
   "cell_type": "code",
   "execution_count": 10,
   "metadata": {},
   "outputs": [],
   "source": [
    "#这两个是 每个账户都下了单"
   ]
  },
  {
   "cell_type": "code",
   "execution_count": 11,
   "metadata": {},
   "outputs": [
    {
     "name": "stderr",
     "output_type": "stream",
     "text": [
      "QUANTAXIS>> From Engine < QA_Thread backtest >: There are still 1 tasks to do"
     ]
    }
   ],
   "source": [
    "market.insert_order(account_id=a_1, amount=100000,price=None, amount_model=QA.AMOUNT_MODEL.BY_PRICE,time='2017-12-14', code='000001', \n",
    "                    order_model=QA.ORDER_MODEL.CLOSE, towards=QA.ORDER_DIRECTION.BUY,market_type=QA.MARKET_TYPE.STOCK_DAY,\n",
    "                   data_type=QA.MARKETDATA_TYPE.DAY,broker_name=QA.BROKER_TYPE.BACKETEST)"
   ]
  },
  {
   "cell_type": "code",
   "execution_count": 12,
   "metadata": {},
   "outputs": [
    {
     "name": "stderr",
     "output_type": "stream",
     "text": [
      "\n",
      "QUANTAXIS>> From Engine < QA_Thread backtest >: There are still 1 tasks to do\n"
     ]
    },
    {
     "name": "stdout",
     "output_type": "stream",
     "text": [
      "< QA_Order datetime:2017-12-14 09:31:00 code:000001 price:13.0 towards:1 btype:0x01 order_id:Order_p7aPmIG8 account:Acc_fs4o5KcY status:300 >\n"
     ]
    }
   ],
   "source": [
    "market.insert_order(account_id=a_2, amount=100000,price=None, amount_model=QA.AMOUNT_MODEL.BY_PRICE,time='2017-12-14', code='000001', \n",
    "                    order_model=QA.ORDER_MODEL.CLOSE, towards=QA.ORDER_DIRECTION.BUY,market_type=QA.MARKET_TYPE.STOCK_DAY,\n",
    "                   data_type=QA.MARKETDATA_TYPE.DAY,broker_name=QA.BROKER_TYPE.BACKETEST)"
   ]
  },
  {
   "cell_type": "code",
   "execution_count": 13,
   "metadata": {},
   "outputs": [
    {
     "name": "stdout",
     "output_type": "stream",
     "text": [
      "< QA_Order datetime:2017-12-14 09:31:00 code:000001 price:13.0 towards:1 btype:0x01 order_id:Order_ioKkrvBC account:Acc_DNA29XT8 status:300 >\n"
     ]
    },
    {
     "data": {
      "text/plain": [
       "'\\n下单以后 现金不会减少 但是可用现金会被扣除\\n因为如果是市价单 你的成交价未定\\n没法直接减少现金\\n可用现金减少 cash不减少 等到settle 等到成功交易的时候 才会扣cash\\n\\n'"
      ]
     },
     "execution_count": 13,
     "metadata": {},
     "output_type": "execute_result"
    }
   ],
   "source": [
    "#\n",
    "\"\"\"\n",
    "下单以后 现金不会减少 但是可用现金会被扣除\n",
    "因为如果是市价单 你的成交价未定\n",
    "没法直接减少现金\n",
    "可用现金减少 cash不减少 等到settle 等到成功交易的时候 才会扣cash\n",
    "\n",
    "\"\"\""
   ]
  },
  {
   "cell_type": "code",
   "execution_count": 14,
   "metadata": {
    "scrolled": true
   },
   "outputs": [
    {
     "data": {
      "text/plain": [
       "900000"
      ]
     },
     "execution_count": 14,
     "metadata": {},
     "output_type": "execute_result"
    }
   ],
   "source": [
    "market.session[a_1].cash_available"
   ]
  },
  {
   "cell_type": "code",
   "execution_count": 15,
   "metadata": {},
   "outputs": [
    {
     "data": {
      "text/plain": [
       "[1000000]"
      ]
     },
     "execution_count": 15,
     "metadata": {},
     "output_type": "execute_result"
    }
   ],
   "source": [
    "market.session[a_1].cash"
   ]
  },
  {
   "cell_type": "code",
   "execution_count": 16,
   "metadata": {},
   "outputs": [
    {
     "data": {
      "text/html": [
       "<div>\n",
       "<style scoped>\n",
       "    .dataframe tbody tr th:only-of-type {\n",
       "        vertical-align: middle;\n",
       "    }\n",
       "\n",
       "    .dataframe tbody tr th {\n",
       "        vertical-align: top;\n",
       "    }\n",
       "\n",
       "    .dataframe thead th {\n",
       "        text-align: right;\n",
       "    }\n",
       "</style>\n",
       "<table border=\"1\" class=\"dataframe\">\n",
       "  <thead>\n",
       "    <tr style=\"text-align: right;\">\n",
       "      <th></th>\n",
       "    </tr>\n",
       "  </thead>\n",
       "  <tbody>\n",
       "  </tbody>\n",
       "</table>\n",
       "</div>"
      ],
      "text/plain": [
       "Empty DataFrame\n",
       "Columns: []\n",
       "Index: []"
      ]
     },
     "execution_count": 16,
     "metadata": {},
     "output_type": "execute_result"
    }
   ],
   "source": [
    "\"\"\"\n",
    "这里是交易前置内部的订单队列\n",
    "\"\"\"\n",
    "market.order_handler.order_queue()"
   ]
  },
  {
   "cell_type": "code",
   "execution_count": 17,
   "metadata": {},
   "outputs": [
    {
     "data": {
      "text/plain": [
       "[]"
      ]
     },
     "execution_count": 17,
     "metadata": {},
     "output_type": "execute_result"
    }
   ],
   "source": [
    "market.order_handler.order_queue.trade_list"
   ]
  },
  {
   "cell_type": "code",
   "execution_count": 18,
   "metadata": {},
   "outputs": [
    {
     "data": {
      "text/html": [
       "<div>\n",
       "<style scoped>\n",
       "    .dataframe tbody tr th:only-of-type {\n",
       "        vertical-align: middle;\n",
       "    }\n",
       "\n",
       "    .dataframe tbody tr th {\n",
       "        vertical-align: top;\n",
       "    }\n",
       "\n",
       "    .dataframe thead th {\n",
       "        text-align: right;\n",
       "    }\n",
       "</style>\n",
       "<table border=\"1\" class=\"dataframe\">\n",
       "  <thead>\n",
       "    <tr style=\"text-align: right;\">\n",
       "      <th></th>\n",
       "    </tr>\n",
       "  </thead>\n",
       "  <tbody>\n",
       "  </tbody>\n",
       "</table>\n",
       "</div>"
      ],
      "text/plain": [
       "Empty DataFrame\n",
       "Columns: []\n",
       "Index: []"
      ]
     },
     "execution_count": 18,
     "metadata": {},
     "output_type": "execute_result"
    }
   ],
   "source": [
    "#pending 是指的待成交列表\n",
    "market.order_handler.order_queue.pending"
   ]
  },
  {
   "cell_type": "code",
   "execution_count": 19,
   "metadata": {},
   "outputs": [
    {
     "name": "stderr",
     "output_type": "stream",
     "text": [
      "QUANTAXIS>> From Engine < QA_Thread backtest >: There are still 1 tasks to do\n"
     ]
    }
   ],
   "source": [
    "\"\"\"\n",
    "这个_trade是一个私有方法 只有模拟盘和回测才会有 实盘就是真的交易了 \n",
    "这个_trade是backtest类去调用的\n",
    "\n",
    "\"\"\"\n",
    "market._trade(QA.BROKER_TYPE.BACKETEST)"
   ]
  },
  {
   "cell_type": "code",
   "execution_count": 20,
   "metadata": {},
   "outputs": [
    {
     "name": "stdout",
     "output_type": "stream",
     "text": [
      "ON TRADE\n",
      "{'header': {'source': 'market', 'status': 200, 'code': '000001', 'session': {'user': '', 'strategy': '', 'account': 'Acc_fs4o5KcY'}, 'order_id': 'Order_p7aPmIG8', 'trade_id': 'Trade_qdGMe9W2'}, 'body': {'order': {'price': 13.0, 'code': '000001', 'amount': 7600, 'date': '2017-12-14', 'datetime': '2017-12-14 09:31:00', 'towards': 1}, 'market': {'open': 13.15, 'high': 13.31, 'low': 12.91, 'close': 13.0, 'volume': 1001998.0, 'code': '000001'}, 'fee': {'commission': 148.2, 'tax': 0}}}\n"
     ]
    },
    {
     "data": {
      "text/plain": [
       "'下面这两个是 查询  一个是异步查询 一个是同步的(no_wait)\\n异步不会阻塞当前线程 同步会阻塞'"
      ]
     },
     "execution_count": 20,
     "metadata": {},
     "output_type": "execute_result"
    },
    {
     "name": "stdout",
     "output_type": "stream",
     "text": [
      "ON TRADE\n",
      "{'header': {'source': 'market', 'status': 200, 'code': '000001', 'session': {'user': '', 'strategy': '', 'account': 'Acc_DNA29XT8'}, 'order_id': 'Order_ioKkrvBC', 'trade_id': 'Trade_BQnHUTkJ'}, 'body': {'order': {'price': 13.0, 'code': '000001', 'amount': 7600, 'date': '2017-12-14', 'datetime': '2017-12-14 09:31:00', 'towards': 1}, 'market': {'open': 13.15, 'high': 13.31, 'low': 12.91, 'close': 13.0, 'volume': 1001998.0, 'code': '000001'}, 'fee': {'commission': 148.2, 'tax': 0}}}\n"
     ]
    }
   ],
   "source": [
    "\"\"\"下面这两个是 查询  一个是异步查询 一个是同步的(no_wait)\n",
    "异步不会阻塞当前线程 同步会阻塞\"\"\""
   ]
  },
  {
   "cell_type": "code",
   "execution_count": 21,
   "metadata": {},
   "outputs": [
    {
     "name": "stderr",
     "output_type": "stream",
     "text": [
      "QUANTAXIS>> From Engine  <QA_ENGINE with ['backtest', 'simulation'] kernals>: There are still 1 tasks to do\n",
      "QUANTAXIS>> From Engine < QA_Thread backtest >: There are still 1 tasks to do\n"
     ]
    }
   ],
   "source": [
    "market.query_data(broker_name=QA.BROKER_TYPE.BACKETEST,data_type=QA.MARKETDATA_TYPE.DAY,market_type=QA.MARKET_TYPE.STOCK_DAY,\n",
    "                 code='000001',start='2017-12-14')"
   ]
  },
  {
   "cell_type": "code",
   "execution_count": 22,
   "metadata": {
    "scrolled": false
   },
   "outputs": [
    {
     "name": "stdout",
     "output_type": "stream",
     "text": [
      "ON QUERY\n",
      "[['000001' '13.15' '13.31' '12.91' '13.0' '1001998.0' '2017-12-14']]\n"
     ]
    },
    {
     "data": {
      "text/plain": [
       "array([['000001', '13.15', '13.31', '12.91', '13.0', '1001998.0',\n",
       "        '2017-12-14']],\n",
       "      dtype='<U10')"
      ]
     },
     "execution_count": 22,
     "metadata": {},
     "output_type": "execute_result"
    }
   ],
   "source": [
    "market.query_data_no_wait(broker_name=QA.BROKER_TYPE.BACKETEST,data_type=QA.MARKETDATA_TYPE.DAY,market_type=QA.MARKET_TYPE.STOCK_DAY,\n",
    "                 code='000001',start='2017-12-14')"
   ]
  },
  {
   "cell_type": "code",
   "execution_count": 23,
   "metadata": {},
   "outputs": [
    {
     "data": {
      "text/plain": [
       "< QA_Account Acc_fs4o5KcY Assets:999851.8 >"
      ]
     },
     "execution_count": 23,
     "metadata": {},
     "output_type": "execute_result"
    }
   ],
   "source": [
    "\"\"\"成交了以后 你可以看到账户的资产变化了\"\"\"\n",
    "market.session[a_1]"
   ]
  },
  {
   "cell_type": "code",
   "execution_count": 24,
   "metadata": {},
   "outputs": [
    {
     "data": {
      "text/html": [
       "<div>\n",
       "<style scoped>\n",
       "    .dataframe tbody tr th:only-of-type {\n",
       "        vertical-align: middle;\n",
       "    }\n",
       "\n",
       "    .dataframe tbody tr th {\n",
       "        vertical-align: top;\n",
       "    }\n",
       "\n",
       "    .dataframe thead th {\n",
       "        text-align: right;\n",
       "    }\n",
       "</style>\n",
       "<table border=\"1\" class=\"dataframe\">\n",
       "  <thead>\n",
       "    <tr style=\"text-align: right;\">\n",
       "      <th></th>\n",
       "    </tr>\n",
       "  </thead>\n",
       "  <tbody>\n",
       "  </tbody>\n",
       "</table>\n",
       "</div>"
      ],
      "text/plain": [
       "Empty DataFrame\n",
       "Columns: []\n",
       "Index: []"
      ]
     },
     "execution_count": 24,
     "metadata": {},
     "output_type": "execute_result"
    }
   ],
   "source": [
    "\"\"\"待成交列表被清空\"\"\"\n",
    "market.order_handler.order_queue.pending"
   ]
  },
  {
   "cell_type": "code",
   "execution_count": 25,
   "metadata": {},
   "outputs": [
    {
     "data": {
      "text/plain": [
       "[]"
      ]
     },
     "execution_count": 25,
     "metadata": {},
     "output_type": "execute_result"
    }
   ],
   "source": [
    "\"\"\"待成交队列清空\"\"\"\n",
    "market.order_handler.order_queue.trade_list"
   ]
  },
  {
   "cell_type": "code",
   "execution_count": 26,
   "metadata": {},
   "outputs": [
    {
     "data": {
      "text/plain": [
       "[1000000, 901051.8]"
      ]
     },
     "execution_count": 26,
     "metadata": {},
     "output_type": "execute_result"
    }
   ],
   "source": [
    "\"\"\"\n",
    "cash 现金减少\n",
    "\"\"\"\n",
    "market.session[a_1].cash"
   ]
  },
  {
   "cell_type": "code",
   "execution_count": 27,
   "metadata": {},
   "outputs": [
    {
     "data": {
      "text/plain": [
       "[1000000, 999851.8]"
      ]
     },
     "execution_count": 27,
     "metadata": {},
     "output_type": "execute_result"
    }
   ],
   "source": [
    "\"\"\"\n",
    "资产减少\n",
    "\"\"\"\n",
    "market.session[a_1].assets"
   ]
  },
  {
   "cell_type": "code",
   "execution_count": 28,
   "metadata": {},
   "outputs": [
    {
     "data": {
      "text/plain": [
       "[['datetime', 'code', 'price', 'amount', 'order_id', 'trade_id']]"
      ]
     },
     "execution_count": 28,
     "metadata": {},
     "output_type": "execute_result"
    }
   ],
   "source": [
    "\"\"\"\n",
    "因为没有触发每日结算时间 在T+1的市场 即使买入了也没有可卖的\n",
    "\"\"\"\n",
    "market.session[a_1].sell_available"
   ]
  },
  {
   "cell_type": "code",
   "execution_count": 29,
   "metadata": {},
   "outputs": [
    {
     "data": {
      "text/plain": [
       "[['2017-12-14 09:31:00',\n",
       "  '000001',\n",
       "  13.0,\n",
       "  7600.0,\n",
       "  'Order_p7aPmIG8',\n",
       "  'Trade_qdGMe9W2']]"
      ]
     },
     "execution_count": 29,
     "metadata": {},
     "output_type": "execute_result"
    }
   ],
   "source": [
    "\"\"\"\n",
    "持仓表增加\n",
    "\"\"\"\n",
    "market.session[a_1].hold"
   ]
  },
  {
   "cell_type": "code",
   "execution_count": 30,
   "metadata": {},
   "outputs": [
    {
     "data": {
      "text/html": [
       "<div>\n",
       "<style scoped>\n",
       "    .dataframe tbody tr th:only-of-type {\n",
       "        vertical-align: middle;\n",
       "    }\n",
       "\n",
       "    .dataframe tbody tr th {\n",
       "        vertical-align: top;\n",
       "    }\n",
       "\n",
       "    .dataframe thead th {\n",
       "        text-align: right;\n",
       "    }\n",
       "</style>\n",
       "<table border=\"1\" class=\"dataframe\">\n",
       "  <thead>\n",
       "    <tr style=\"text-align: right;\">\n",
       "      <th></th>\n",
       "      <th>datetime</th>\n",
       "      <th>code</th>\n",
       "      <th>price</th>\n",
       "      <th>amount</th>\n",
       "      <th>order_id</th>\n",
       "      <th>trade_id</th>\n",
       "    </tr>\n",
       "  </thead>\n",
       "  <tbody>\n",
       "    <tr>\n",
       "      <th>0</th>\n",
       "      <td>2017-12-14 09:31:00</td>\n",
       "      <td>000001</td>\n",
       "      <td>13.0</td>\n",
       "      <td>7600.0</td>\n",
       "      <td>Order_p7aPmIG8</td>\n",
       "      <td>Trade_qdGMe9W2</td>\n",
       "    </tr>\n",
       "  </tbody>\n",
       "</table>\n",
       "</div>"
      ],
      "text/plain": [
       "              datetime    code  price  amount        order_id        trade_id\n",
       "0  2017-12-14 09:31:00  000001   13.0  7600.0  Order_p7aPmIG8  Trade_qdGMe9W2"
      ]
     },
     "execution_count": 30,
     "metadata": {},
     "output_type": "execute_result"
    }
   ],
   "source": [
    "import pandas as pd\n",
    "\"\"\"用pandas打印的漂亮一点\"\"\"\n",
    "pd.DataFrame(data=market.session[a_1].hold,columns=market.session[a_1]._hold_headers)"
   ]
  },
  {
   "cell_type": "code",
   "execution_count": 31,
   "metadata": {},
   "outputs": [
    {
     "data": {
      "text/plain": [
       "{'body': {'account': {'assets': [1000000, 999851.8],\n",
       "   'cash': [1000000, 901051.8],\n",
       "   'detail': [['2017-12-14 09:31:00',\n",
       "     '000001',\n",
       "     13.0,\n",
       "     7600.0,\n",
       "     'Order_p7aPmIG8',\n",
       "     'Trade_qdGMe9W2',\n",
       "     [],\n",
       "     [],\n",
       "     [],\n",
       "     [],\n",
       "     7600.0,\n",
       "     148.2]],\n",
       "   'history': [['2017-12-14 09:31:00',\n",
       "     '000001',\n",
       "     13.0,\n",
       "     1,\n",
       "     7600.0,\n",
       "     'Order_p7aPmIG8',\n",
       "     'Trade_qdGMe9W2',\n",
       "     148.2]],\n",
       "   'hold': [['2017-12-14 09:31:00',\n",
       "     '000001',\n",
       "     13.0,\n",
       "     7600.0,\n",
       "     'Order_p7aPmIG8',\n",
       "     'Trade_qdGMe9W2']]},\n",
       "  'date_stamp': 1514635680.069061,\n",
       "  'time': '2017-12-30 20:08:00.069046'},\n",
       " 'header': {'cookie': 'Acc_fs4o5KcY',\n",
       "  'session': {'code': '000001', 'strategy': '', 'user': ''},\n",
       "  'source': 'account'}}"
      ]
     },
     "execution_count": 31,
     "metadata": {},
     "output_type": "execute_result"
    }
   ],
   "source": [
    "\"\"\"\n",
    "账户信息\n",
    "\n",
    "可以看到 减少的资产 主要是因为收了手续费\n",
    "\"\"\"\n",
    "market.session[a_1].message"
   ]
  },
  {
   "cell_type": "code",
   "execution_count": 32,
   "metadata": {},
   "outputs": [
    {
     "name": "stderr",
     "output_type": "stream",
     "text": [
      "QUANTAXIS>> From Engine  <QA_ENGINE with ['backtest', 'simulation'] kernals>: There are still 2 tasks to do\n"
     ]
    }
   ],
   "source": [
    "\"\"\"结算事件\"\"\"\n",
    "market._settle(QA.BROKER_TYPE.BACKETEST)"
   ]
  },
  {
   "cell_type": "code",
   "execution_count": 33,
   "metadata": {},
   "outputs": [
    {
     "name": "stderr",
     "output_type": "stream",
     "text": [
      "QUANTAXIS>> From Engine  <QA_ENGINE with ['backtest', 'simulation'] kernals>: There are still 1 tasks to do\n"
     ]
    },
    {
     "data": {
      "text/plain": [
       "[['datetime', 'code', 'price', 'amount', 'order_id', 'trade_id']]"
      ]
     },
     "execution_count": 33,
     "metadata": {},
     "output_type": "execute_result"
    }
   ],
   "source": [
    "\"\"\"\n",
    "结算完以后 可卖数量就会变成和持仓数一样\n",
    "\"\"\"\n",
    "market.session[a_1].sell_available"
   ]
  },
  {
   "cell_type": "code",
   "execution_count": 34,
   "metadata": {},
   "outputs": [
    {
     "name": "stderr",
     "output_type": "stream",
     "text": [
      "QUANTAXIS>> From Engine < QA_Thread backtest >: There are still 3 tasks to do\n"
     ]
    },
    {
     "data": {
      "text/html": [
       "<div>\n",
       "<style scoped>\n",
       "    .dataframe tbody tr th:only-of-type {\n",
       "        vertical-align: middle;\n",
       "    }\n",
       "\n",
       "    .dataframe tbody tr th {\n",
       "        vertical-align: top;\n",
       "    }\n",
       "\n",
       "    .dataframe thead th {\n",
       "        text-align: right;\n",
       "    }\n",
       "</style>\n",
       "<table border=\"1\" class=\"dataframe\">\n",
       "  <thead>\n",
       "    <tr style=\"text-align: right;\">\n",
       "      <th></th>\n",
       "    </tr>\n",
       "  </thead>\n",
       "  <tbody>\n",
       "  </tbody>\n",
       "</table>\n",
       "</div>"
      ],
      "text/plain": [
       "Empty DataFrame\n",
       "Columns: []\n",
       "Index: []"
      ]
     },
     "execution_count": 34,
     "metadata": {},
     "output_type": "execute_result"
    },
    {
     "name": "stderr",
     "output_type": "stream",
     "text": [
      "QUANTAXIS>> From Engine < QA_Thread backtest >: There are still 2 tasks to do\n",
      "QUANTAXIS>> From Engine < QA_Thread backtest >: There are still 1 tasks to do\n"
     ]
    }
   ],
   "source": [
    "\"\"\"\n",
    "结算完以后 待成交队列也被清空\n",
    "\"\"\"\n",
    "\n",
    "market.order_handler.order_queue()"
   ]
  },
  {
   "cell_type": "code",
   "execution_count": null,
   "metadata": {},
   "outputs": [],
   "source": []
  }
 ],
 "metadata": {
  "kernelspec": {
   "display_name": "Python 3",
   "language": "python",
   "name": "python3"
  },
  "language_info": {
   "codemirror_mode": {
    "name": "ipython",
    "version": 3
   },
   "file_extension": ".py",
   "mimetype": "text/x-python",
   "name": "python",
   "nbconvert_exporter": "python",
   "pygments_lexer": "ipython3",
   "version": "3.6.3"
  }
 },
 "nbformat": 4,
 "nbformat_minor": 2
}
