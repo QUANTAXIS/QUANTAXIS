{
 "cells": [
  {
   "cell_type": "code",
   "execution_count": 1,
   "metadata": {},
   "outputs": [
    {
     "name": "stderr",
     "output_type": "stream",
     "text": [
      "QUANTAXIS>> start QUANTAXIS\n",
      "QUANTAXIS>> Selecting the Best Server IP of TDX\n",
      "QUANTAXIS>> === The BEST SERVER ===\n",
      " stock_ip 115.238.90.165 future_ip 61.152.107.141\n",
      "QUANTAXIS>> Welcome to QUANTAXIS, the Version is remake-version\n",
      "QUANTAXIS>>  \n",
      " ```````````````````````````````````````````````````````````````````````````````````````````````````````````````````````` \n",
      "  ``########`````##````````##``````````##`````````####````````##```##########````````#``````##``````###```##`````######`` \n",
      "  `##``````## ```##````````##`````````####````````##`##```````##```````##```````````###``````##````##`````##```##`````##` \n",
      "  ##````````##```##````````##````````##`##````````##``##``````##```````##``````````####```````#```##``````##```##``````## \n",
      "  ##````````##```##````````##```````##```##```````##```##`````##```````##`````````##`##```````##`##```````##````##``````` \n",
      "  ##````````##```##````````##``````##`````##``````##````##````##```````##````````##``###```````###````````##`````##`````` \n",
      "  ##````````##```##````````##``````##``````##`````##`````##```##```````##```````##````##```````###````````##``````###```` \n",
      "  ##````````##```##````````##`````##````````##````##``````##``##```````##``````##``````##`````##`##```````##````````##``` \n",
      "  ##````````##```##````````##````#############````##```````##`##```````##`````###########`````##``##``````##`````````##`` \n",
      "  ###```````##```##````````##```##```````````##```##```````##`##```````##````##`````````##```##```##``````##```##`````##` \n",
      "  `##``````###````##``````###``##`````````````##``##````````####```````##```##``````````##``###````##`````##````##`````## \n",
      "  ``#########``````########```##``````````````###`##``````````##```````##``##````````````##`##``````##````##`````##````## \n",
      "  ````````#####`````````````````````````````````````````````````````````````````````````````````````````````````````####` \n",
      "  ``````````````````````````````````````````````````````````````````````````````````````````````````````````````````````` \n",
      "  ``````````````````````````Copyright``yutiansut``2017``````QUANTITATIVE FINANCIAL FRAMEWORK````````````````````````````` \n",
      "  ``````````````````````````````````````````````````````````````````````````````````````````````````````````````````````` \n",
      " ```````````````````````````````````````````````````````````````````````````````````````````````````````````````````````` \n",
      " ```````````````````````````````````````````````````````````````````````````````````````````````````````````````````````` \n",
      " \n"
     ]
    }
   ],
   "source": [
    "import QUANTAXIS as QA\n",
    "import threading\n",
    "import pandas as pd"
   ]
  },
  {
   "cell_type": "code",
   "execution_count": 2,
   "metadata": {},
   "outputs": [],
   "source": [
    "user = QA.QA_Portfolio()\n",
    "# 创建两个account\n",
    "#这里是创建一个资产组合,然后在组合里面创建两个account  你可以想象成股票里面的两个策略账户\n",
    "#然后返回的是这个账户的id\n",
    "a_1 = user.new_account()\n",
    "a_2 = user.new_account()\n"
   ]
  },
  {
   "cell_type": "code",
   "execution_count": null,
   "metadata": {},
   "outputs": [],
   "source": []
  },
  {
   "cell_type": "code",
   "execution_count": 3,
   "metadata": {},
   "outputs": [
    {
     "data": {
      "text/plain": [
       "'Acc_B9nSOCHM'"
      ]
     },
     "execution_count": 3,
     "metadata": {},
     "output_type": "execute_result"
    }
   ],
   "source": [
    "a_1"
   ]
  },
  {
   "cell_type": "code",
   "execution_count": 4,
   "metadata": {},
   "outputs": [
    {
     "name": "stdout",
     "output_type": "stream",
     "text": [
      "< QA_MARKET with ['backtest'] Broker >\n"
     ]
    }
   ],
   "source": [
    "\"\"\"\n",
    "然后这里 是创建一个交易前置  你可以理解成 创建了一个无界面的通达信客户端\n",
    "然后start()开启这个客户端\n",
    "连接到backtest的broker上 这个broker可以更换\n",
    "\"\"\"\n",
    "# 创建一个交易前置\n",
    "market = QA.QA_Market()\n",
    "# 交易前置连接broker \n",
    "market.start()\n",
    "market.connect(QA.RUNNING_ENVIRONMENT.BACKETEST)\n",
    "\n",
    "# 打印market\n",
    "print(market)\n",
    "\n"
   ]
  },
  {
   "cell_type": "code",
   "execution_count": 5,
   "metadata": {},
   "outputs": [
    {
     "data": {
      "text/plain": [
       "[<_MainThread(MainThread, started 139914029737728)>,\n",
       " <Thread(Thread-2, started daemon 139913883182848)>,\n",
       " <Heartbeat(Thread-3, started daemon 139913874790144)>,\n",
       " <HistorySavingThread(IPythonHistorySavingThread, started 139913643153152)>,\n",
       " <ParentPollerUnix(Thread-1, started daemon 139913634760448)>,\n",
       " <Thread(pymongo_server_monitor_thread, started daemon 139913130702592)>,\n",
       " <Thread(pymongo_kill_cursors_thread, started daemon 139913122309888)>,\n",
       " <Thread(pymongo_server_monitor_thread, started daemon 139913113917184)>,\n",
       " <Thread(pymongo_kill_cursors_thread, started daemon 139913105524480)>,\n",
       " <Thread(pymongo_server_monitor_thread, started daemon 139913097131776)>,\n",
       " <Thread(pymongo_kill_cursors_thread, started daemon 139913088739072)>,\n",
       " <Thread(pymongo_server_monitor_thread, started daemon 139912711612160)>,\n",
       " <Thread(pymongo_kill_cursors_thread, started daemon 139912703219456)>,\n",
       " <Thread(pymongo_server_monitor_thread, started daemon 139912694826752)>,\n",
       " <Thread(pymongo_kill_cursors_thread, started daemon 139912686434048)>,\n",
       " <Thread(pymongo_server_monitor_thread, started daemon 139912678041344)>,\n",
       " <Thread(pymongo_kill_cursors_thread, started daemon 139912669648640)>,\n",
       " <Thread(pymongo_server_monitor_thread, started daemon 139912250652416)>,\n",
       " <Thread(pymongo_kill_cursors_thread, started daemon 139912242259712)>,\n",
       " <Thread(pymongo_server_monitor_thread, started daemon 139912233867008)>,\n",
       " <Thread(pymongo_kill_cursors_thread, started daemon 139912225474304)>,\n",
       " <Thread(pymongo_server_monitor_thread, started daemon 139912217081600)>,\n",
       " <Thread(pymongo_kill_cursors_thread, started daemon 139912208688896)>,\n",
       " <Thread(pymongo_server_monitor_thread, started daemon 139912200296192)>,\n",
       " <Thread(pymongo_kill_cursors_thread, started daemon 139911646672640)>,\n",
       " <Thread(pymongo_server_monitor_thread, started daemon 139911638279936)>,\n",
       " <Thread(pymongo_kill_cursors_thread, started daemon 139911629887232)>,\n",
       " <Thread(pymongo_server_monitor_thread, started daemon 139911621494528)>,\n",
       " <Thread(pymongo_kill_cursors_thread, started daemon 139911613101824)>,\n",
       " <Thread(pymongo_server_monitor_thread, started daemon 139911604709120)>,\n",
       " <Thread(pymongo_kill_cursors_thread, started daemon 139911596316416)>,\n",
       " <Thread(pymongo_server_monitor_thread, started daemon 139911244019456)>,\n",
       " <Thread(pymongo_kill_cursors_thread, started daemon 139911235626752)>,\n",
       " <Thread(pymongo_server_monitor_thread, started daemon 139911227234048)>,\n",
       " <Thread(pymongo_kill_cursors_thread, started daemon 139911218841344)>,\n",
       " <Thread(pymongo_server_monitor_thread, started daemon 139911210448640)>,\n",
       " <Thread(pymongo_kill_cursors_thread, started daemon 139911202055936)>,\n",
       " <Thread(pymongo_server_monitor_thread, started daemon 139911193663232)>,\n",
       " <Thread(pymongo_kill_cursors_thread, started daemon 139911109801728)>,\n",
       " <Thread(pymongo_server_monitor_thread, started daemon 139911101409024)>,\n",
       " <Thread(pymongo_kill_cursors_thread, started daemon 139911093016320)>,\n",
       " <Thread(pymongo_server_monitor_thread, started daemon 139911084623616)>,\n",
       " <Thread(pymongo_kill_cursors_thread, started daemon 139911076230912)>,\n",
       " <Thread(pymongo_server_monitor_thread, started daemon 139911067838208)>,\n",
       " <Thread(pymongo_kill_cursors_thread, started daemon 139911059445504)>,\n",
       " <Thread(pymongo_server_monitor_thread, started daemon 139911051052800)>,\n",
       " <Thread(pymongo_kill_cursors_thread, started daemon 139911042660096)>,\n",
       " <Thread(pymongo_server_monitor_thread, started daemon 139911034267392)>,\n",
       " <Thread(pymongo_kill_cursors_thread, started daemon 139911025874688)>,\n",
       " <Thread(pymongo_server_monitor_thread, started daemon 139911017481984)>,\n",
       " <Thread(pymongo_kill_cursors_thread, started daemon 139911009089280)>,\n",
       " <Thread(pymongo_server_monitor_thread, started daemon 139911000696576)>,\n",
       " <Thread(pymongo_kill_cursors_thread, started daemon 139910992303872)>,\n",
       " <Thread(pymongo_server_monitor_thread, started daemon 139910983911168)>,\n",
       " <Thread(pymongo_kill_cursors_thread, started daemon 139910975518464)>,\n",
       " <Thread(pymongo_server_monitor_thread, started daemon 139910967125760)>,\n",
       " <Thread(pymongo_kill_cursors_thread, started daemon 139910958733056)>,\n",
       " <Thread(pymongo_server_monitor_thread, started daemon 139910950340352)>,\n",
       " <Thread(pymongo_kill_cursors_thread, started daemon 139910941947648)>,\n",
       " <Thread(pymongo_server_monitor_thread, started daemon 139910933554944)>,\n",
       " <Thread(pymongo_kill_cursors_thread, started daemon 139910925162240)>,\n",
       " <Thread(pymongo_server_monitor_thread, started daemon 139910916769536)>,\n",
       " <Thread(pymongo_kill_cursors_thread, started daemon 139910908376832)>,\n",
       " <Thread(pymongo_server_monitor_thread, started daemon 139910899984128)>,\n",
       " <Thread(pymongo_kill_cursors_thread, started daemon 139910891591424)>,\n",
       " <Thread(pymongo_server_monitor_thread, started daemon 139910883198720)>,\n",
       " <Thread(pymongo_kill_cursors_thread, started daemon 139910874806016)>,\n",
       " <Thread(pymongo_server_monitor_thread, started daemon 139910866413312)>,\n",
       " <Thread(pymongo_kill_cursors_thread, started daemon 139910858020608)>,\n",
       " <Thread(pymongo_server_monitor_thread, started daemon 139910849627904)>,\n",
       " <Thread(pymongo_kill_cursors_thread, started daemon 139910841235200)>,\n",
       " <Thread(pymongo_server_monitor_thread, started daemon 139910832842496)>,\n",
       " <Thread(pymongo_kill_cursors_thread, started daemon 139910824449792)>,\n",
       " <Thread(pymongo_server_monitor_thread, started daemon 139910816057088)>,\n",
       " <Thread(pymongo_kill_cursors_thread, started daemon 139910807664384)>,\n",
       " <Thread(pymongo_server_monitor_thread, started daemon 139910799271680)>,\n",
       " <Thread(pymongo_kill_cursors_thread, started daemon 139910790878976)>,\n",
       " <Thread(pymongo_server_monitor_thread, started daemon 139910782486272)>,\n",
       " <Thread(pymongo_kill_cursors_thread, started daemon 139910774093568)>,\n",
       " <Thread(pymongo_server_monitor_thread, started daemon 139910765700864)>,\n",
       " <Thread(pymongo_kill_cursors_thread, started daemon 139910757308160)>,\n",
       " <Thread(pymongo_server_monitor_thread, started daemon 139910748915456)>,\n",
       " <Thread(pymongo_kill_cursors_thread, started daemon 139910740522752)>,\n",
       " <Thread(pymongo_server_monitor_thread, started daemon 139910732130048)>,\n",
       " <Thread(pymongo_kill_cursors_thread, started daemon 139910723737344)>,\n",
       " <Thread(pymongo_server_monitor_thread, started daemon 139910715344640)>,\n",
       " <Thread(pymongo_kill_cursors_thread, started daemon 139910706951936)>,\n",
       " <Thread(pymongo_server_monitor_thread, started daemon 139910698559232)>,\n",
       " <Thread(pymongo_kill_cursors_thread, started daemon 139910690166528)>,\n",
       " <Thread(pymongo_server_monitor_thread, started daemon 139910681773824)>,\n",
       " <Thread(pymongo_kill_cursors_thread, started daemon 139910673381120)>,\n",
       " <Thread(pymongo_server_monitor_thread, started daemon 139910664988416)>,\n",
       " <Thread(pymongo_kill_cursors_thread, started daemon 139910656595712)>,\n",
       " <Thread(pymongo_server_monitor_thread, started daemon 139910648203008)>,\n",
       " <Thread(pymongo_kill_cursors_thread, started daemon 139910639810304)>,\n",
       " <Thread(pymongo_server_monitor_thread, started daemon 139910631417600)>,\n",
       " <Thread(pymongo_kill_cursors_thread, started daemon 139910623024896)>,\n",
       " <Thread(pymongo_server_monitor_thread, started daemon 139910614632192)>,\n",
       " <Thread(pymongo_kill_cursors_thread, started daemon 139910606239488)>,\n",
       " <Thread(pymongo_server_monitor_thread, started daemon 139910597846784)>,\n",
       " <Thread(pymongo_kill_cursors_thread, started daemon 139910589454080)>,\n",
       " <Thread(pymongo_server_monitor_thread, started daemon 139910581061376)>,\n",
       " <Thread(pymongo_kill_cursors_thread, started daemon 139910572668672)>,\n",
       " <Thread(pymongo_server_monitor_thread, started daemon 139910564275968)>,\n",
       " <Thread(pymongo_kill_cursors_thread, started daemon 139910555883264)>,\n",
       " <Thread(pymongo_server_monitor_thread, started daemon 139910547490560)>,\n",
       " <Thread(pymongo_kill_cursors_thread, started daemon 139910539097856)>,\n",
       " <Thread(pymongo_server_monitor_thread, started daemon 139910530705152)>,\n",
       " <Thread(pymongo_kill_cursors_thread, started daemon 139910522312448)>,\n",
       " <Thread(pymongo_server_monitor_thread, started daemon 139910513919744)>,\n",
       " <Thread(pymongo_kill_cursors_thread, started daemon 139910505527040)>,\n",
       " <Thread(pymongo_server_monitor_thread, started daemon 139910497134336)>,\n",
       " <Thread(pymongo_kill_cursors_thread, started daemon 139910488741632)>,\n",
       " <Thread(pymongo_server_monitor_thread, started daemon 139910480348928)>,\n",
       " <Thread(pymongo_kill_cursors_thread, started daemon 139910471956224)>,\n",
       " <Thread(pymongo_server_monitor_thread, started daemon 139910463563520)>,\n",
       " <Thread(pymongo_kill_cursors_thread, started daemon 139910455170816)>,\n",
       " <Thread(pymongo_server_monitor_thread, started daemon 139910446778112)>,\n",
       " <Thread(pymongo_kill_cursors_thread, started daemon 139910438385408)>,\n",
       " <Thread(pymongo_server_monitor_thread, started daemon 139910429992704)>,\n",
       " <Thread(pymongo_kill_cursors_thread, started daemon 139910421600000)>,\n",
       " <Thread(pymongo_server_monitor_thread, started daemon 139910413207296)>,\n",
       " <Thread(pymongo_kill_cursors_thread, started daemon 139910404814592)>,\n",
       " <Thread(pymongo_server_monitor_thread, started daemon 139910396421888)>,\n",
       " <Thread(pymongo_kill_cursors_thread, started daemon 139910388029184)>,\n",
       " <Thread(pymongo_server_monitor_thread, started daemon 139910379636480)>,\n",
       " <Thread(pymongo_kill_cursors_thread, started daemon 139910371243776)>,\n",
       " <Thread(pymongo_server_monitor_thread, started daemon 139910362851072)>,\n",
       " <Thread(pymongo_kill_cursors_thread, started daemon 139910354458368)>,\n",
       " <Thread(pymongo_server_monitor_thread, started daemon 139910346065664)>,\n",
       " <Thread(pymongo_kill_cursors_thread, started daemon 139910337672960)>,\n",
       " <Thread(pymongo_server_monitor_thread, started daemon 139910329280256)>,\n",
       " <Thread(pymongo_kill_cursors_thread, started daemon 139910320887552)>,\n",
       " <Thread(pymongo_server_monitor_thread, started daemon 139910312494848)>,\n",
       " <Thread(pymongo_kill_cursors_thread, started daemon 139910304102144)>,\n",
       " <Thread(pymongo_server_monitor_thread, started daemon 139910295709440)>,\n",
       " <Thread(pymongo_kill_cursors_thread, started daemon 139910287316736)>,\n",
       " <Thread(pymongo_server_monitor_thread, started daemon 139910278924032)>,\n",
       " <Thread(pymongo_kill_cursors_thread, started daemon 139910270531328)>,\n",
       " <Thread(pymongo_server_monitor_thread, started daemon 139910262138624)>,\n",
       " <Thread(pymongo_kill_cursors_thread, started daemon 139910253745920)>,\n",
       " <Thread(pymongo_server_monitor_thread, started daemon 139910245353216)>,\n",
       " <Thread(pymongo_kill_cursors_thread, started daemon 139910236960512)>,\n",
       "  <QA_ENGINE with ['backtest'] kernals>,\n",
       " < QA_Thread backtest >]"
      ]
     },
     "execution_count": 5,
     "metadata": {},
     "output_type": "execute_result"
    }
   ],
   "source": [
    "#线程里面 开启了一个broker的线程 \n",
    "threading.enumerate()"
   ]
  },
  {
   "cell_type": "code",
   "execution_count": 6,
   "metadata": {},
   "outputs": [
    {
     "data": {
      "text/plain": [
       "True"
      ]
     },
     "execution_count": 6,
     "metadata": {},
     "output_type": "execute_result"
    }
   ],
   "source": [
    "# 再连接一个模拟盘的BROKER\n",
    "market.connect(QA.RUNNING_ENVIRONMENT.SIMULATION)"
   ]
  },
  {
   "cell_type": "code",
   "execution_count": 7,
   "metadata": {},
   "outputs": [
    {
     "data": {
      "text/plain": [
       "[<_MainThread(MainThread, started 139914029737728)>,\n",
       " <Thread(Thread-2, started daemon 139913883182848)>,\n",
       " <Heartbeat(Thread-3, started daemon 139913874790144)>,\n",
       " <HistorySavingThread(IPythonHistorySavingThread, started 139913643153152)>,\n",
       " <ParentPollerUnix(Thread-1, started daemon 139913634760448)>,\n",
       " <Thread(pymongo_server_monitor_thread, started daemon 139913130702592)>,\n",
       " <Thread(pymongo_kill_cursors_thread, started daemon 139913122309888)>,\n",
       " <Thread(pymongo_server_monitor_thread, started daemon 139913113917184)>,\n",
       " <Thread(pymongo_kill_cursors_thread, started daemon 139913105524480)>,\n",
       " <Thread(pymongo_server_monitor_thread, started daemon 139913097131776)>,\n",
       " <Thread(pymongo_kill_cursors_thread, started daemon 139913088739072)>,\n",
       " <Thread(pymongo_server_monitor_thread, started daemon 139912711612160)>,\n",
       " <Thread(pymongo_kill_cursors_thread, started daemon 139912703219456)>,\n",
       " <Thread(pymongo_server_monitor_thread, started daemon 139912694826752)>,\n",
       " <Thread(pymongo_kill_cursors_thread, started daemon 139912686434048)>,\n",
       " <Thread(pymongo_server_monitor_thread, started daemon 139912678041344)>,\n",
       " <Thread(pymongo_kill_cursors_thread, started daemon 139912669648640)>,\n",
       " <Thread(pymongo_server_monitor_thread, started daemon 139912250652416)>,\n",
       " <Thread(pymongo_kill_cursors_thread, started daemon 139912242259712)>,\n",
       " <Thread(pymongo_server_monitor_thread, started daemon 139912233867008)>,\n",
       " <Thread(pymongo_kill_cursors_thread, started daemon 139912225474304)>,\n",
       " <Thread(pymongo_server_monitor_thread, started daemon 139912217081600)>,\n",
       " <Thread(pymongo_kill_cursors_thread, started daemon 139912208688896)>,\n",
       " <Thread(pymongo_server_monitor_thread, started daemon 139912200296192)>,\n",
       " <Thread(pymongo_kill_cursors_thread, started daemon 139911646672640)>,\n",
       " <Thread(pymongo_server_monitor_thread, started daemon 139911638279936)>,\n",
       " <Thread(pymongo_kill_cursors_thread, started daemon 139911629887232)>,\n",
       " <Thread(pymongo_server_monitor_thread, started daemon 139911621494528)>,\n",
       " <Thread(pymongo_kill_cursors_thread, started daemon 139911613101824)>,\n",
       " <Thread(pymongo_server_monitor_thread, started daemon 139911604709120)>,\n",
       " <Thread(pymongo_kill_cursors_thread, started daemon 139911596316416)>,\n",
       " <Thread(pymongo_server_monitor_thread, started daemon 139911244019456)>,\n",
       " <Thread(pymongo_kill_cursors_thread, started daemon 139911235626752)>,\n",
       " <Thread(pymongo_server_monitor_thread, started daemon 139911227234048)>,\n",
       " <Thread(pymongo_kill_cursors_thread, started daemon 139911218841344)>,\n",
       " <Thread(pymongo_server_monitor_thread, started daemon 139911210448640)>,\n",
       " <Thread(pymongo_kill_cursors_thread, started daemon 139911202055936)>,\n",
       " <Thread(pymongo_server_monitor_thread, started daemon 139911193663232)>,\n",
       " <Thread(pymongo_kill_cursors_thread, started daemon 139911109801728)>,\n",
       " <Thread(pymongo_server_monitor_thread, started daemon 139911101409024)>,\n",
       " <Thread(pymongo_kill_cursors_thread, started daemon 139911093016320)>,\n",
       " <Thread(pymongo_server_monitor_thread, started daemon 139911084623616)>,\n",
       " <Thread(pymongo_kill_cursors_thread, started daemon 139911076230912)>,\n",
       " <Thread(pymongo_server_monitor_thread, started daemon 139911067838208)>,\n",
       " <Thread(pymongo_kill_cursors_thread, started daemon 139911059445504)>,\n",
       " <Thread(pymongo_server_monitor_thread, started daemon 139911051052800)>,\n",
       " <Thread(pymongo_kill_cursors_thread, started daemon 139911042660096)>,\n",
       " <Thread(pymongo_server_monitor_thread, started daemon 139911034267392)>,\n",
       " <Thread(pymongo_kill_cursors_thread, started daemon 139911025874688)>,\n",
       " <Thread(pymongo_server_monitor_thread, started daemon 139911017481984)>,\n",
       " <Thread(pymongo_kill_cursors_thread, started daemon 139911009089280)>,\n",
       " <Thread(pymongo_server_monitor_thread, started daemon 139911000696576)>,\n",
       " <Thread(pymongo_kill_cursors_thread, started daemon 139910992303872)>,\n",
       " <Thread(pymongo_server_monitor_thread, started daemon 139910983911168)>,\n",
       " <Thread(pymongo_kill_cursors_thread, started daemon 139910975518464)>,\n",
       " <Thread(pymongo_server_monitor_thread, started daemon 139910967125760)>,\n",
       " <Thread(pymongo_kill_cursors_thread, started daemon 139910958733056)>,\n",
       " <Thread(pymongo_server_monitor_thread, started daemon 139910950340352)>,\n",
       " <Thread(pymongo_kill_cursors_thread, started daemon 139910941947648)>,\n",
       " <Thread(pymongo_server_monitor_thread, started daemon 139910933554944)>,\n",
       " <Thread(pymongo_kill_cursors_thread, started daemon 139910925162240)>,\n",
       " <Thread(pymongo_server_monitor_thread, started daemon 139910916769536)>,\n",
       " <Thread(pymongo_kill_cursors_thread, started daemon 139910908376832)>,\n",
       " <Thread(pymongo_server_monitor_thread, started daemon 139910899984128)>,\n",
       " <Thread(pymongo_kill_cursors_thread, started daemon 139910891591424)>,\n",
       " <Thread(pymongo_server_monitor_thread, started daemon 139910883198720)>,\n",
       " <Thread(pymongo_kill_cursors_thread, started daemon 139910874806016)>,\n",
       " <Thread(pymongo_server_monitor_thread, started daemon 139910866413312)>,\n",
       " <Thread(pymongo_kill_cursors_thread, started daemon 139910858020608)>,\n",
       " <Thread(pymongo_server_monitor_thread, started daemon 139910849627904)>,\n",
       " <Thread(pymongo_kill_cursors_thread, started daemon 139910841235200)>,\n",
       " <Thread(pymongo_server_monitor_thread, started daemon 139910832842496)>,\n",
       " <Thread(pymongo_kill_cursors_thread, started daemon 139910824449792)>,\n",
       " <Thread(pymongo_server_monitor_thread, started daemon 139910816057088)>,\n",
       " <Thread(pymongo_kill_cursors_thread, started daemon 139910807664384)>,\n",
       " <Thread(pymongo_server_monitor_thread, started daemon 139910799271680)>,\n",
       " <Thread(pymongo_kill_cursors_thread, started daemon 139910790878976)>,\n",
       " <Thread(pymongo_server_monitor_thread, started daemon 139910782486272)>,\n",
       " <Thread(pymongo_kill_cursors_thread, started daemon 139910774093568)>,\n",
       " <Thread(pymongo_server_monitor_thread, started daemon 139910765700864)>,\n",
       " <Thread(pymongo_kill_cursors_thread, started daemon 139910757308160)>,\n",
       " <Thread(pymongo_server_monitor_thread, started daemon 139910748915456)>,\n",
       " <Thread(pymongo_kill_cursors_thread, started daemon 139910740522752)>,\n",
       " <Thread(pymongo_server_monitor_thread, started daemon 139910732130048)>,\n",
       " <Thread(pymongo_kill_cursors_thread, started daemon 139910723737344)>,\n",
       " <Thread(pymongo_server_monitor_thread, started daemon 139910715344640)>,\n",
       " <Thread(pymongo_kill_cursors_thread, started daemon 139910706951936)>,\n",
       " <Thread(pymongo_server_monitor_thread, started daemon 139910698559232)>,\n",
       " <Thread(pymongo_kill_cursors_thread, started daemon 139910690166528)>,\n",
       " <Thread(pymongo_server_monitor_thread, started daemon 139910681773824)>,\n",
       " <Thread(pymongo_kill_cursors_thread, started daemon 139910673381120)>,\n",
       " <Thread(pymongo_server_monitor_thread, started daemon 139910664988416)>,\n",
       " <Thread(pymongo_kill_cursors_thread, started daemon 139910656595712)>,\n",
       " <Thread(pymongo_server_monitor_thread, started daemon 139910648203008)>,\n",
       " <Thread(pymongo_kill_cursors_thread, started daemon 139910639810304)>,\n",
       " <Thread(pymongo_server_monitor_thread, started daemon 139910631417600)>,\n",
       " <Thread(pymongo_kill_cursors_thread, started daemon 139910623024896)>,\n",
       " <Thread(pymongo_server_monitor_thread, started daemon 139910614632192)>,\n",
       " <Thread(pymongo_kill_cursors_thread, started daemon 139910606239488)>,\n",
       " <Thread(pymongo_server_monitor_thread, started daemon 139910597846784)>,\n",
       " <Thread(pymongo_kill_cursors_thread, started daemon 139910589454080)>,\n",
       " <Thread(pymongo_server_monitor_thread, started daemon 139910581061376)>,\n",
       " <Thread(pymongo_kill_cursors_thread, started daemon 139910572668672)>,\n",
       " <Thread(pymongo_server_monitor_thread, started daemon 139910564275968)>,\n",
       " <Thread(pymongo_kill_cursors_thread, started daemon 139910555883264)>,\n",
       " <Thread(pymongo_server_monitor_thread, started daemon 139910547490560)>,\n",
       " <Thread(pymongo_kill_cursors_thread, started daemon 139910539097856)>,\n",
       " <Thread(pymongo_server_monitor_thread, started daemon 139910530705152)>,\n",
       " <Thread(pymongo_kill_cursors_thread, started daemon 139910522312448)>,\n",
       " <Thread(pymongo_server_monitor_thread, started daemon 139910513919744)>,\n",
       " <Thread(pymongo_kill_cursors_thread, started daemon 139910505527040)>,\n",
       " <Thread(pymongo_server_monitor_thread, started daemon 139910497134336)>,\n",
       " <Thread(pymongo_kill_cursors_thread, started daemon 139910488741632)>,\n",
       " <Thread(pymongo_server_monitor_thread, started daemon 139910480348928)>,\n",
       " <Thread(pymongo_kill_cursors_thread, started daemon 139910471956224)>,\n",
       " <Thread(pymongo_server_monitor_thread, started daemon 139910463563520)>,\n",
       " <Thread(pymongo_kill_cursors_thread, started daemon 139910455170816)>,\n",
       " <Thread(pymongo_server_monitor_thread, started daemon 139910446778112)>,\n",
       " <Thread(pymongo_kill_cursors_thread, started daemon 139910438385408)>,\n",
       " <Thread(pymongo_server_monitor_thread, started daemon 139910429992704)>,\n",
       " <Thread(pymongo_kill_cursors_thread, started daemon 139910421600000)>,\n",
       " <Thread(pymongo_server_monitor_thread, started daemon 139910413207296)>,\n",
       " <Thread(pymongo_kill_cursors_thread, started daemon 139910404814592)>,\n",
       " <Thread(pymongo_server_monitor_thread, started daemon 139910396421888)>,\n",
       " <Thread(pymongo_kill_cursors_thread, started daemon 139910388029184)>,\n",
       " <Thread(pymongo_server_monitor_thread, started daemon 139910379636480)>,\n",
       " <Thread(pymongo_kill_cursors_thread, started daemon 139910371243776)>,\n",
       " <Thread(pymongo_server_monitor_thread, started daemon 139910362851072)>,\n",
       " <Thread(pymongo_kill_cursors_thread, started daemon 139910354458368)>,\n",
       " <Thread(pymongo_server_monitor_thread, started daemon 139910346065664)>,\n",
       " <Thread(pymongo_kill_cursors_thread, started daemon 139910337672960)>,\n",
       " <Thread(pymongo_server_monitor_thread, started daemon 139910329280256)>,\n",
       " <Thread(pymongo_kill_cursors_thread, started daemon 139910320887552)>,\n",
       " <Thread(pymongo_server_monitor_thread, started daemon 139910312494848)>,\n",
       " <Thread(pymongo_kill_cursors_thread, started daemon 139910304102144)>,\n",
       " <Thread(pymongo_server_monitor_thread, started daemon 139910295709440)>,\n",
       " <Thread(pymongo_kill_cursors_thread, started daemon 139910287316736)>,\n",
       " <Thread(pymongo_server_monitor_thread, started daemon 139910278924032)>,\n",
       " <Thread(pymongo_kill_cursors_thread, started daemon 139910270531328)>,\n",
       " <Thread(pymongo_server_monitor_thread, started daemon 139910262138624)>,\n",
       " <Thread(pymongo_kill_cursors_thread, started daemon 139910253745920)>,\n",
       " <Thread(pymongo_server_monitor_thread, started daemon 139910245353216)>,\n",
       " <Thread(pymongo_kill_cursors_thread, started daemon 139910236960512)>,\n",
       "  <QA_ENGINE with ['backtest', 'simulation'] kernals>,\n",
       " < QA_Thread backtest >,\n",
       " < QA_Thread simulation >]"
      ]
     },
     "execution_count": 7,
     "metadata": {},
     "output_type": "execute_result"
    }
   ],
   "source": [
    "\"\"\"\n",
    "然后我们假设又连进了模拟盘 看到这时候引擎里面有两个broker了\n",
    "好比是通达信连了实盘又连了模拟盘\n",
    "\"\"\"\n",
    "threading.enumerate()"
   ]
  },
  {
   "cell_type": "code",
   "execution_count": null,
   "metadata": {},
   "outputs": [],
   "source": []
  },
  {
   "cell_type": "code",
   "execution_count": 8,
   "metadata": {},
   "outputs": [
    {
     "name": "stdout",
     "output_type": "stream",
     "text": [
      "['Acc_B9nSOCHM', 'Acc_A2RcQxPU']\n"
     ]
    }
   ],
   "source": [
    "\"\"\"\n",
    "登陆到这个交易前置上 把你刚才的两个账户\n",
    "\"\"\"\n",
    "# 登陆交易\n",
    "market.login(a_1,QA.BROKER_TYPE.BACKETEST)\n",
    "market.login(a_2,QA.BROKER_TYPE.BACKETEST)\n",
    "# 打印市场中的交易账户\n",
    "print(market.get_account_id())\n",
    "\n"
   ]
  },
  {
   "cell_type": "code",
   "execution_count": null,
   "metadata": {},
   "outputs": [],
   "source": []
  },
  {
   "cell_type": "code",
   "execution_count": null,
   "metadata": {},
   "outputs": [],
   "source": []
  },
  {
   "cell_type": "code",
   "execution_count": 9,
   "metadata": {
    "scrolled": true
   },
   "outputs": [],
   "source": [
    "#然后这里 往交易前置里面添加订单 这个操作是异步的"
   ]
  },
  {
   "cell_type": "code",
   "execution_count": 10,
   "metadata": {},
   "outputs": [],
   "source": [
    "#这两个是 每个账户都下了单"
   ]
  },
  {
   "cell_type": "code",
   "execution_count": 11,
   "metadata": {},
   "outputs": [
    {
     "name": "stderr",
     "output_type": "stream",
     "text": [
      "QUANTAXIS>> From Engine < QA_Thread backtest >: There are still 1 tasks to do\n"
     ]
    }
   ],
   "source": [
    "market.insert_order(account_id=a_1, amount=100000,price=None, amount_model=QA.AMOUNT_MODEL.BY_PRICE,time='2017-12-14', code='000001', \n",
    "                    order_model=QA.ORDER_MODEL.CLOSE, towards=QA.ORDER_DIRECTION.BUY,market_type=QA.MARKET_TYPE.STOCK_DAY,\n",
    "                   data_type=QA.MARKETDATA_TYPE.DAY,broker_name=QA.BROKER_TYPE.BACKETEST)"
   ]
  },
  {
   "cell_type": "code",
   "execution_count": 12,
   "metadata": {},
   "outputs": [
    {
     "name": "stdout",
     "output_type": "stream",
     "text": [
      "< QA_Order datetime:2017-12-14 09:31:00 code:000001 price:13.0 towards:1 btype:0x01 order_id:Order_domTvaAH account:Acc_B9nSOCHM status:300 >\n"
     ]
    },
    {
     "name": "stderr",
     "output_type": "stream",
     "text": [
      "QUANTAXIS>> From Engine  <QA_ENGINE with ['backtest', 'simulation'] kernals>: There are still 1 tasks to do\n",
      "QUANTAXIS>> From Engine < QA_Thread backtest >: There are still 1 tasks to do\n"
     ]
    }
   ],
   "source": [
    "market.insert_order(account_id=a_2, amount=100000,price=None, amount_model=QA.AMOUNT_MODEL.BY_PRICE,time='2017-12-14', code='000001', \n",
    "                    order_model=QA.ORDER_MODEL.CLOSE, towards=QA.ORDER_DIRECTION.BUY,market_type=QA.MARKET_TYPE.STOCK_DAY,\n",
    "                   data_type=QA.MARKETDATA_TYPE.DAY,broker_name=QA.BROKER_TYPE.BACKETEST)"
   ]
  },
  {
   "cell_type": "code",
   "execution_count": 13,
   "metadata": {},
   "outputs": [
    {
     "data": {
      "text/plain": [
       "'\\n下单以后 现金不会减少 但是可用现金会被扣除\\n因为如果是市价单 你的成交价未定\\n没法直接减少现金\\n可用现金减少 cash不减少 等到settle 等到成功交易的时候 才会扣cash\\n\\n'"
      ]
     },
     "execution_count": 13,
     "metadata": {},
     "output_type": "execute_result"
    },
    {
     "name": "stdout",
     "output_type": "stream",
     "text": [
      "< QA_Order datetime:2017-12-14 09:31:00 code:000001 price:13.0 towards:1 btype:0x01 order_id:Order_H4AP3sgU account:Acc_A2RcQxPU status:300 >\n"
     ]
    }
   ],
   "source": [
    "#\n",
    "\"\"\"\n",
    "下单以后 现金不会减少 但是可用现金会被扣除\n",
    "因为如果是市价单 你的成交价未定\n",
    "没法直接减少现金\n",
    "可用现金减少 cash不减少 等到settle 等到成功交易的时候 才会扣cash\n",
    "\n",
    "\"\"\""
   ]
  },
  {
   "cell_type": "code",
   "execution_count": 14,
   "metadata": {
    "scrolled": true
   },
   "outputs": [
    {
     "data": {
      "text/plain": [
       "900000"
      ]
     },
     "execution_count": 14,
     "metadata": {},
     "output_type": "execute_result"
    }
   ],
   "source": [
    "market.session[a_1].cash_available"
   ]
  },
  {
   "cell_type": "code",
   "execution_count": 15,
   "metadata": {},
   "outputs": [
    {
     "data": {
      "text/plain": [
       "[1000000]"
      ]
     },
     "execution_count": 15,
     "metadata": {},
     "output_type": "execute_result"
    }
   ],
   "source": [
    "market.session[a_1].cash"
   ]
  },
  {
   "cell_type": "code",
   "execution_count": 16,
   "metadata": {},
   "outputs": [
    {
     "data": {
      "text/html": [
       "<div>\n",
       "<style scoped>\n",
       "    .dataframe tbody tr th:only-of-type {\n",
       "        vertical-align: middle;\n",
       "    }\n",
       "\n",
       "    .dataframe tbody tr th {\n",
       "        vertical-align: top;\n",
       "    }\n",
       "\n",
       "    .dataframe thead th {\n",
       "        text-align: right;\n",
       "    }\n",
       "</style>\n",
       "<table border=\"1\" class=\"dataframe\">\n",
       "  <thead>\n",
       "    <tr style=\"text-align: right;\">\n",
       "      <th></th>\n",
       "    </tr>\n",
       "  </thead>\n",
       "  <tbody>\n",
       "  </tbody>\n",
       "</table>\n",
       "</div>"
      ],
      "text/plain": [
       "Empty DataFrame\n",
       "Columns: []\n",
       "Index: []"
      ]
     },
     "execution_count": 16,
     "metadata": {},
     "output_type": "execute_result"
    }
   ],
   "source": [
    "\"\"\"\n",
    "这里是交易前置内部的订单队列\n",
    "\"\"\"\n",
    "market.order_handler.order_queue()"
   ]
  },
  {
   "cell_type": "code",
   "execution_count": 17,
   "metadata": {},
   "outputs": [
    {
     "data": {
      "text/html": [
       "<div>\n",
       "<style scoped>\n",
       "    .dataframe tbody tr th:only-of-type {\n",
       "        vertical-align: middle;\n",
       "    }\n",
       "\n",
       "    .dataframe tbody tr th {\n",
       "        vertical-align: top;\n",
       "    }\n",
       "\n",
       "    .dataframe thead th {\n",
       "        text-align: right;\n",
       "    }\n",
       "</style>\n",
       "<table border=\"1\" class=\"dataframe\">\n",
       "  <thead>\n",
       "    <tr style=\"text-align: right;\">\n",
       "      <th></th>\n",
       "      <th>account_cookie</th>\n",
       "      <th>amount</th>\n",
       "      <th>amount_model</th>\n",
       "      <th>code</th>\n",
       "      <th>data_type</th>\n",
       "      <th>date</th>\n",
       "      <th>datetime</th>\n",
       "      <th>market_type</th>\n",
       "      <th>order_id</th>\n",
       "      <th>order_model</th>\n",
       "      <th>price</th>\n",
       "      <th>sending_time</th>\n",
       "      <th>status</th>\n",
       "      <th>strategy</th>\n",
       "      <th>towards</th>\n",
       "      <th>trade_id</th>\n",
       "      <th>transact_time</th>\n",
       "      <th>type</th>\n",
       "      <th>user</th>\n",
       "    </tr>\n",
       "    <tr>\n",
       "      <th>order_id</th>\n",
       "      <th></th>\n",
       "      <th></th>\n",
       "      <th></th>\n",
       "      <th></th>\n",
       "      <th></th>\n",
       "      <th></th>\n",
       "      <th></th>\n",
       "      <th></th>\n",
       "      <th></th>\n",
       "      <th></th>\n",
       "      <th></th>\n",
       "      <th></th>\n",
       "      <th></th>\n",
       "      <th></th>\n",
       "      <th></th>\n",
       "      <th></th>\n",
       "      <th></th>\n",
       "      <th></th>\n",
       "      <th></th>\n",
       "    </tr>\n",
       "  </thead>\n",
       "  <tbody>\n",
       "    <tr>\n",
       "      <th>Order_domTvaAH</th>\n",
       "      <td>Acc_B9nSOCHM</td>\n",
       "      <td>100000</td>\n",
       "      <td>by_price</td>\n",
       "      <td>000001</td>\n",
       "      <td>day</td>\n",
       "      <td>2017-12-14</td>\n",
       "      <td>2017-12-14 09:31:00</td>\n",
       "      <td>0x01</td>\n",
       "      <td>Order_domTvaAH</td>\n",
       "      <td>close</td>\n",
       "      <td>13.0</td>\n",
       "      <td>2017-12-14 09:31:00</td>\n",
       "      <td>300</td>\n",
       "      <td></td>\n",
       "      <td>1</td>\n",
       "      <td>None</td>\n",
       "      <td>None</td>\n",
       "      <td>0x01</td>\n",
       "      <td></td>\n",
       "    </tr>\n",
       "    <tr>\n",
       "      <th>Order_H4AP3sgU</th>\n",
       "      <td>Acc_A2RcQxPU</td>\n",
       "      <td>100000</td>\n",
       "      <td>by_price</td>\n",
       "      <td>000001</td>\n",
       "      <td>day</td>\n",
       "      <td>2017-12-14</td>\n",
       "      <td>2017-12-14 09:31:00</td>\n",
       "      <td>0x01</td>\n",
       "      <td>Order_H4AP3sgU</td>\n",
       "      <td>close</td>\n",
       "      <td>13.0</td>\n",
       "      <td>2017-12-14 09:31:00</td>\n",
       "      <td>300</td>\n",
       "      <td></td>\n",
       "      <td>1</td>\n",
       "      <td>None</td>\n",
       "      <td>None</td>\n",
       "      <td>0x01</td>\n",
       "      <td></td>\n",
       "    </tr>\n",
       "  </tbody>\n",
       "</table>\n",
       "</div>"
      ],
      "text/plain": [
       "               account_cookie  amount amount_model    code data_type  \\\n",
       "order_id                                                               \n",
       "Order_domTvaAH   Acc_B9nSOCHM  100000     by_price  000001       day   \n",
       "Order_H4AP3sgU   Acc_A2RcQxPU  100000     by_price  000001       day   \n",
       "\n",
       "                      date             datetime market_type        order_id  \\\n",
       "order_id                                                                      \n",
       "Order_domTvaAH  2017-12-14  2017-12-14 09:31:00        0x01  Order_domTvaAH   \n",
       "Order_H4AP3sgU  2017-12-14  2017-12-14 09:31:00        0x01  Order_H4AP3sgU   \n",
       "\n",
       "               order_model  price         sending_time  status strategy  \\\n",
       "order_id                                                                  \n",
       "Order_domTvaAH       close   13.0  2017-12-14 09:31:00     300            \n",
       "Order_H4AP3sgU       close   13.0  2017-12-14 09:31:00     300            \n",
       "\n",
       "                towards trade_id transact_time  type user  \n",
       "order_id                                                   \n",
       "Order_domTvaAH        1     None          None  0x01       \n",
       "Order_H4AP3sgU        1     None          None  0x01       "
      ]
     },
     "execution_count": 17,
     "metadata": {},
     "output_type": "execute_result"
    }
   ],
   "source": [
    "market.broker[QA.BROKER_TYPE.BACKETEST].order_handler.order_queue()"
   ]
  },
  {
   "cell_type": "code",
   "execution_count": null,
   "metadata": {},
   "outputs": [],
   "source": []
  },
  {
   "cell_type": "code",
   "execution_count": 18,
   "metadata": {},
   "outputs": [
    {
     "data": {
      "text/plain": [
       "[]"
      ]
     },
     "execution_count": 18,
     "metadata": {},
     "output_type": "execute_result"
    }
   ],
   "source": [
    "market.order_handler.order_queue.trade_list"
   ]
  },
  {
   "cell_type": "code",
   "execution_count": 19,
   "metadata": {},
   "outputs": [
    {
     "data": {
      "text/plain": [
       "[< QA_Order datetime:2017-12-14 09:31:00 code:000001 price:13.0 towards:1 btype:0x01 order_id:Order_domTvaAH account:Acc_B9nSOCHM status:100 >,\n",
       " < QA_Order datetime:2017-12-14 09:31:00 code:000001 price:13.0 towards:1 btype:0x01 order_id:Order_H4AP3sgU account:Acc_A2RcQxPU status:100 >]"
      ]
     },
     "execution_count": 19,
     "metadata": {},
     "output_type": "execute_result"
    }
   ],
   "source": [
    "market.broker[QA.BROKER_TYPE.BACKETEST].order_handler.order_queue.trade_list"
   ]
  },
  {
   "cell_type": "code",
   "execution_count": 20,
   "metadata": {},
   "outputs": [
    {
     "data": {
      "text/html": [
       "<div>\n",
       "<style scoped>\n",
       "    .dataframe tbody tr th:only-of-type {\n",
       "        vertical-align: middle;\n",
       "    }\n",
       "\n",
       "    .dataframe tbody tr th {\n",
       "        vertical-align: top;\n",
       "    }\n",
       "\n",
       "    .dataframe thead th {\n",
       "        text-align: right;\n",
       "    }\n",
       "</style>\n",
       "<table border=\"1\" class=\"dataframe\">\n",
       "  <thead>\n",
       "    <tr style=\"text-align: right;\">\n",
       "      <th></th>\n",
       "    </tr>\n",
       "  </thead>\n",
       "  <tbody>\n",
       "  </tbody>\n",
       "</table>\n",
       "</div>"
      ],
      "text/plain": [
       "Empty DataFrame\n",
       "Columns: []\n",
       "Index: []"
      ]
     },
     "execution_count": 20,
     "metadata": {},
     "output_type": "execute_result"
    }
   ],
   "source": [
    "#pending 是指的待成交列表\n",
    "market.order_handler.order_queue.pending"
   ]
  },
  {
   "cell_type": "code",
   "execution_count": 21,
   "metadata": {},
   "outputs": [
    {
     "data": {
      "text/html": [
       "<div>\n",
       "<style scoped>\n",
       "    .dataframe tbody tr th:only-of-type {\n",
       "        vertical-align: middle;\n",
       "    }\n",
       "\n",
       "    .dataframe tbody tr th {\n",
       "        vertical-align: top;\n",
       "    }\n",
       "\n",
       "    .dataframe thead th {\n",
       "        text-align: right;\n",
       "    }\n",
       "</style>\n",
       "<table border=\"1\" class=\"dataframe\">\n",
       "  <thead>\n",
       "    <tr style=\"text-align: right;\">\n",
       "      <th></th>\n",
       "      <th>account_cookie</th>\n",
       "      <th>amount</th>\n",
       "      <th>amount_model</th>\n",
       "      <th>code</th>\n",
       "      <th>data_type</th>\n",
       "      <th>date</th>\n",
       "      <th>datetime</th>\n",
       "      <th>market_type</th>\n",
       "      <th>order_id</th>\n",
       "      <th>order_model</th>\n",
       "      <th>price</th>\n",
       "      <th>sending_time</th>\n",
       "      <th>status</th>\n",
       "      <th>strategy</th>\n",
       "      <th>towards</th>\n",
       "      <th>trade_id</th>\n",
       "      <th>transact_time</th>\n",
       "      <th>type</th>\n",
       "      <th>user</th>\n",
       "    </tr>\n",
       "    <tr>\n",
       "      <th>order_id</th>\n",
       "      <th></th>\n",
       "      <th></th>\n",
       "      <th></th>\n",
       "      <th></th>\n",
       "      <th></th>\n",
       "      <th></th>\n",
       "      <th></th>\n",
       "      <th></th>\n",
       "      <th></th>\n",
       "      <th></th>\n",
       "      <th></th>\n",
       "      <th></th>\n",
       "      <th></th>\n",
       "      <th></th>\n",
       "      <th></th>\n",
       "      <th></th>\n",
       "      <th></th>\n",
       "      <th></th>\n",
       "      <th></th>\n",
       "    </tr>\n",
       "  </thead>\n",
       "  <tbody>\n",
       "    <tr>\n",
       "      <th>Order_domTvaAH</th>\n",
       "      <td>Acc_B9nSOCHM</td>\n",
       "      <td>100000</td>\n",
       "      <td>by_price</td>\n",
       "      <td>000001</td>\n",
       "      <td>day</td>\n",
       "      <td>2017-12-14</td>\n",
       "      <td>2017-12-14 09:31:00</td>\n",
       "      <td>0x01</td>\n",
       "      <td>Order_domTvaAH</td>\n",
       "      <td>close</td>\n",
       "      <td>13.0</td>\n",
       "      <td>2017-12-14 09:31:00</td>\n",
       "      <td>300</td>\n",
       "      <td></td>\n",
       "      <td>1</td>\n",
       "      <td>None</td>\n",
       "      <td>None</td>\n",
       "      <td>0x01</td>\n",
       "      <td></td>\n",
       "    </tr>\n",
       "    <tr>\n",
       "      <th>Order_H4AP3sgU</th>\n",
       "      <td>Acc_A2RcQxPU</td>\n",
       "      <td>100000</td>\n",
       "      <td>by_price</td>\n",
       "      <td>000001</td>\n",
       "      <td>day</td>\n",
       "      <td>2017-12-14</td>\n",
       "      <td>2017-12-14 09:31:00</td>\n",
       "      <td>0x01</td>\n",
       "      <td>Order_H4AP3sgU</td>\n",
       "      <td>close</td>\n",
       "      <td>13.0</td>\n",
       "      <td>2017-12-14 09:31:00</td>\n",
       "      <td>300</td>\n",
       "      <td></td>\n",
       "      <td>1</td>\n",
       "      <td>None</td>\n",
       "      <td>None</td>\n",
       "      <td>0x01</td>\n",
       "      <td></td>\n",
       "    </tr>\n",
       "  </tbody>\n",
       "</table>\n",
       "</div>"
      ],
      "text/plain": [
       "               account_cookie  amount amount_model    code data_type  \\\n",
       "order_id                                                               \n",
       "Order_domTvaAH   Acc_B9nSOCHM  100000     by_price  000001       day   \n",
       "Order_H4AP3sgU   Acc_A2RcQxPU  100000     by_price  000001       day   \n",
       "\n",
       "                      date             datetime market_type        order_id  \\\n",
       "order_id                                                                      \n",
       "Order_domTvaAH  2017-12-14  2017-12-14 09:31:00        0x01  Order_domTvaAH   \n",
       "Order_H4AP3sgU  2017-12-14  2017-12-14 09:31:00        0x01  Order_H4AP3sgU   \n",
       "\n",
       "               order_model  price         sending_time  status strategy  \\\n",
       "order_id                                                                  \n",
       "Order_domTvaAH       close   13.0  2017-12-14 09:31:00     300            \n",
       "Order_H4AP3sgU       close   13.0  2017-12-14 09:31:00     300            \n",
       "\n",
       "                towards trade_id transact_time  type user  \n",
       "order_id                                                   \n",
       "Order_domTvaAH        1     None          None  0x01       \n",
       "Order_H4AP3sgU        1     None          None  0x01       "
      ]
     },
     "execution_count": 21,
     "metadata": {},
     "output_type": "execute_result"
    }
   ],
   "source": [
    "market.broker[QA.BROKER_TYPE.BACKETEST].order_handler.order_queue.pending"
   ]
  },
  {
   "cell_type": "code",
   "execution_count": 22,
   "metadata": {},
   "outputs": [
    {
     "name": "stderr",
     "output_type": "stream",
     "text": [
      "QUANTAXIS>> From Engine  <QA_ENGINE with ['backtest', 'simulation'] kernals>: There are still 1 tasks to do\n",
      "QUANTAXIS>> From Engine < QA_Thread backtest >: There are still 1 tasks to do\n"
     ]
    }
   ],
   "source": [
    "\"\"\"\n",
    "这个_trade是一个私有方法 只有模拟盘和回测才会有 实盘就是真的交易了 \n",
    "这个_trade是backtest类去调用的\n",
    "\n",
    "\"\"\"\n",
    "market._trade(QA.BROKER_TYPE.BACKETEST)"
   ]
  },
  {
   "cell_type": "code",
   "execution_count": 23,
   "metadata": {},
   "outputs": [
    {
     "data": {
      "text/plain": [
       "'下面这两个是 查询  一个是异步查询 一个是同步的(no_wait)\\n异步不会阻塞当前线程 同步会阻塞'"
      ]
     },
     "execution_count": 23,
     "metadata": {},
     "output_type": "execute_result"
    },
    {
     "name": "stdout",
     "output_type": "stream",
     "text": [
      "ON TRADE\n",
      "{'header': {'source': 'market', 'status': 200, 'code': '000001', 'session': {'user': '', 'strategy': '', 'account': 'Acc_B9nSOCHM'}, 'order_id': 'Order_domTvaAH', 'trade_id': 'Trade_dNOieoBn'}, 'body': {'order': {'price': 13.0, 'code': '000001', 'amount': 7600, 'date': '2017-12-14', 'datetime': '2017-12-14 09:31:00', 'towards': 1}, 'market': {'open': 13.15, 'high': 13.31, 'low': 12.91, 'close': 13.0, 'volume': 1001998.0, 'code': '000001'}, 'fee': {'commission': 148.2, 'tax': 0}}}\n",
      "ON TRADE\n",
      "{'header': {'source': 'market', 'status': 200, 'code': '000001', 'session': {'user': '', 'strategy': '', 'account': 'Acc_A2RcQxPU'}, 'order_id': 'Order_H4AP3sgU', 'trade_id': 'Trade_bLWpYKsy'}, 'body': {'order': {'price': 13.0, 'code': '000001', 'amount': 7600, 'date': '2017-12-14', 'datetime': '2017-12-14 09:31:00', 'towards': 1}, 'market': {'open': 13.15, 'high': 13.31, 'low': 12.91, 'close': 13.0, 'volume': 1001998.0, 'code': '000001'}, 'fee': {'commission': 148.2, 'tax': 0}}}\n"
     ]
    }
   ],
   "source": [
    "\"\"\"下面这两个是 查询  一个是异步查询 一个是同步的(no_wait)\n",
    "异步不会阻塞当前线程 同步会阻塞\"\"\""
   ]
  },
  {
   "cell_type": "code",
   "execution_count": 24,
   "metadata": {},
   "outputs": [
    {
     "name": "stderr",
     "output_type": "stream",
     "text": [
      "QUANTAXIS>> From Engine  <QA_ENGINE with ['backtest', 'simulation'] kernals>: There are still 1 tasks to do\n"
     ]
    }
   ],
   "source": [
    "market.query_data(broker_name=QA.BROKER_TYPE.BACKETEST,data_type=QA.MARKETDATA_TYPE.DAY,market_type=QA.MARKET_TYPE.STOCK_DAY,\n",
    "                 code='000001',start='2017-12-14')"
   ]
  },
  {
   "cell_type": "code",
   "execution_count": 25,
   "metadata": {
    "scrolled": false
   },
   "outputs": [
    {
     "name": "stderr",
     "output_type": "stream",
     "text": [
      "QUANTAXIS>> From Engine < QA_Thread backtest >: There are still 1 tasks to do\n"
     ]
    },
    {
     "data": {
      "text/plain": [
       "array([['000001', '13.15', '13.31', '12.91', '13.0', '1001998.0',\n",
       "        '2017-12-14']],\n",
       "      dtype='<U10')"
      ]
     },
     "execution_count": 25,
     "metadata": {},
     "output_type": "execute_result"
    },
    {
     "name": "stdout",
     "output_type": "stream",
     "text": [
      "ON QUERY\n",
      "[['000001' '13.15' '13.31' '12.91' '13.0' '1001998.0' '2017-12-14']]\n"
     ]
    }
   ],
   "source": [
    "market.query_data_no_wait(broker_name=QA.BROKER_TYPE.BACKETEST,data_type=QA.MARKETDATA_TYPE.DAY,market_type=QA.MARKET_TYPE.STOCK_DAY,\n",
    "                 code='000001',start='2017-12-14')"
   ]
  },
  {
   "cell_type": "code",
   "execution_count": 26,
   "metadata": {},
   "outputs": [
    {
     "data": {
      "text/plain": [
       "< QA_Account Acc_B9nSOCHM Assets:999851.8 >"
      ]
     },
     "execution_count": 26,
     "metadata": {},
     "output_type": "execute_result"
    }
   ],
   "source": [
    "\"\"\"成交了以后 你可以看到账户的资产变化了\"\"\"\n",
    "market.session[a_1]"
   ]
  },
  {
   "cell_type": "code",
   "execution_count": 27,
   "metadata": {},
   "outputs": [
    {
     "data": {
      "text/html": [
       "<div>\n",
       "<style scoped>\n",
       "    .dataframe tbody tr th:only-of-type {\n",
       "        vertical-align: middle;\n",
       "    }\n",
       "\n",
       "    .dataframe tbody tr th {\n",
       "        vertical-align: top;\n",
       "    }\n",
       "\n",
       "    .dataframe thead th {\n",
       "        text-align: right;\n",
       "    }\n",
       "</style>\n",
       "<table border=\"1\" class=\"dataframe\">\n",
       "  <thead>\n",
       "    <tr style=\"text-align: right;\">\n",
       "      <th></th>\n",
       "    </tr>\n",
       "  </thead>\n",
       "  <tbody>\n",
       "  </tbody>\n",
       "</table>\n",
       "</div>"
      ],
      "text/plain": [
       "Empty DataFrame\n",
       "Columns: []\n",
       "Index: []"
      ]
     },
     "execution_count": 27,
     "metadata": {},
     "output_type": "execute_result"
    }
   ],
   "source": [
    "\"\"\"待成交列表被清空\"\"\"\n",
    "market.order_handler.order_queue.pending"
   ]
  },
  {
   "cell_type": "code",
   "execution_count": 28,
   "metadata": {},
   "outputs": [
    {
     "data": {
      "text/html": [
       "<div>\n",
       "<style scoped>\n",
       "    .dataframe tbody tr th:only-of-type {\n",
       "        vertical-align: middle;\n",
       "    }\n",
       "\n",
       "    .dataframe tbody tr th {\n",
       "        vertical-align: top;\n",
       "    }\n",
       "\n",
       "    .dataframe thead th {\n",
       "        text-align: right;\n",
       "    }\n",
       "</style>\n",
       "<table border=\"1\" class=\"dataframe\">\n",
       "  <thead>\n",
       "    <tr style=\"text-align: right;\">\n",
       "      <th></th>\n",
       "      <th>account_cookie</th>\n",
       "      <th>amount</th>\n",
       "      <th>amount_model</th>\n",
       "      <th>code</th>\n",
       "      <th>data_type</th>\n",
       "      <th>date</th>\n",
       "      <th>datetime</th>\n",
       "      <th>market_type</th>\n",
       "      <th>order_id</th>\n",
       "      <th>order_model</th>\n",
       "      <th>price</th>\n",
       "      <th>sending_time</th>\n",
       "      <th>status</th>\n",
       "      <th>strategy</th>\n",
       "      <th>towards</th>\n",
       "      <th>trade_id</th>\n",
       "      <th>transact_time</th>\n",
       "      <th>type</th>\n",
       "      <th>user</th>\n",
       "    </tr>\n",
       "    <tr>\n",
       "      <th>order_id</th>\n",
       "      <th></th>\n",
       "      <th></th>\n",
       "      <th></th>\n",
       "      <th></th>\n",
       "      <th></th>\n",
       "      <th></th>\n",
       "      <th></th>\n",
       "      <th></th>\n",
       "      <th></th>\n",
       "      <th></th>\n",
       "      <th></th>\n",
       "      <th></th>\n",
       "      <th></th>\n",
       "      <th></th>\n",
       "      <th></th>\n",
       "      <th></th>\n",
       "      <th></th>\n",
       "      <th></th>\n",
       "      <th></th>\n",
       "    </tr>\n",
       "  </thead>\n",
       "  <tbody>\n",
       "  </tbody>\n",
       "</table>\n",
       "</div>"
      ],
      "text/plain": [
       "Empty DataFrame\n",
       "Columns: [account_cookie, amount, amount_model, code, data_type, date, datetime, market_type, order_id, order_model, price, sending_time, status, strategy, towards, trade_id, transact_time, type, user]\n",
       "Index: []"
      ]
     },
     "execution_count": 28,
     "metadata": {},
     "output_type": "execute_result"
    }
   ],
   "source": [
    "market.broker[QA.BROKER_TYPE.BACKETEST].order_handler.order_queue.pending"
   ]
  },
  {
   "cell_type": "code",
   "execution_count": 29,
   "metadata": {},
   "outputs": [
    {
     "data": {
      "text/plain": [
       "[]"
      ]
     },
     "execution_count": 29,
     "metadata": {},
     "output_type": "execute_result"
    }
   ],
   "source": [
    "\"\"\"待成交队列清空\"\"\"\n",
    "market.order_handler.order_queue.trade_list"
   ]
  },
  {
   "cell_type": "code",
   "execution_count": 30,
   "metadata": {},
   "outputs": [
    {
     "data": {
      "text/plain": [
       "[]"
      ]
     },
     "execution_count": 30,
     "metadata": {},
     "output_type": "execute_result"
    }
   ],
   "source": [
    "market.broker[QA.BROKER_TYPE.BACKETEST].order_handler.order_queue.trade_list"
   ]
  },
  {
   "cell_type": "code",
   "execution_count": 31,
   "metadata": {},
   "outputs": [
    {
     "data": {
      "text/html": [
       "<div>\n",
       "<style scoped>\n",
       "    .dataframe tbody tr th:only-of-type {\n",
       "        vertical-align: middle;\n",
       "    }\n",
       "\n",
       "    .dataframe tbody tr th {\n",
       "        vertical-align: top;\n",
       "    }\n",
       "\n",
       "    .dataframe thead th {\n",
       "        text-align: right;\n",
       "    }\n",
       "</style>\n",
       "<table border=\"1\" class=\"dataframe\">\n",
       "  <thead>\n",
       "    <tr style=\"text-align: right;\">\n",
       "      <th></th>\n",
       "      <th>account_cookie</th>\n",
       "      <th>amount</th>\n",
       "      <th>amount_model</th>\n",
       "      <th>code</th>\n",
       "      <th>data_type</th>\n",
       "      <th>date</th>\n",
       "      <th>datetime</th>\n",
       "      <th>market_type</th>\n",
       "      <th>order_id</th>\n",
       "      <th>order_model</th>\n",
       "      <th>price</th>\n",
       "      <th>sending_time</th>\n",
       "      <th>status</th>\n",
       "      <th>strategy</th>\n",
       "      <th>towards</th>\n",
       "      <th>trade_id</th>\n",
       "      <th>transact_time</th>\n",
       "      <th>type</th>\n",
       "      <th>user</th>\n",
       "    </tr>\n",
       "    <tr>\n",
       "      <th>order_id</th>\n",
       "      <th></th>\n",
       "      <th></th>\n",
       "      <th></th>\n",
       "      <th></th>\n",
       "      <th></th>\n",
       "      <th></th>\n",
       "      <th></th>\n",
       "      <th></th>\n",
       "      <th></th>\n",
       "      <th></th>\n",
       "      <th></th>\n",
       "      <th></th>\n",
       "      <th></th>\n",
       "      <th></th>\n",
       "      <th></th>\n",
       "      <th></th>\n",
       "      <th></th>\n",
       "      <th></th>\n",
       "      <th></th>\n",
       "    </tr>\n",
       "  </thead>\n",
       "  <tbody>\n",
       "    <tr>\n",
       "      <th>Order_domTvaAH</th>\n",
       "      <td>Acc_B9nSOCHM</td>\n",
       "      <td>100000</td>\n",
       "      <td>by_price</td>\n",
       "      <td>000001</td>\n",
       "      <td>day</td>\n",
       "      <td>2017-12-14</td>\n",
       "      <td>2017-12-14 09:31:00</td>\n",
       "      <td>0x01</td>\n",
       "      <td>Order_domTvaAH</td>\n",
       "      <td>close</td>\n",
       "      <td>13.0</td>\n",
       "      <td>2017-12-14 09:31:00</td>\n",
       "      <td>200</td>\n",
       "      <td></td>\n",
       "      <td>1</td>\n",
       "      <td>None</td>\n",
       "      <td>None</td>\n",
       "      <td>0x01</td>\n",
       "      <td></td>\n",
       "    </tr>\n",
       "    <tr>\n",
       "      <th>Order_H4AP3sgU</th>\n",
       "      <td>Acc_A2RcQxPU</td>\n",
       "      <td>100000</td>\n",
       "      <td>by_price</td>\n",
       "      <td>000001</td>\n",
       "      <td>day</td>\n",
       "      <td>2017-12-14</td>\n",
       "      <td>2017-12-14 09:31:00</td>\n",
       "      <td>0x01</td>\n",
       "      <td>Order_H4AP3sgU</td>\n",
       "      <td>close</td>\n",
       "      <td>13.0</td>\n",
       "      <td>2017-12-14 09:31:00</td>\n",
       "      <td>200</td>\n",
       "      <td></td>\n",
       "      <td>1</td>\n",
       "      <td>None</td>\n",
       "      <td>None</td>\n",
       "      <td>0x01</td>\n",
       "      <td></td>\n",
       "    </tr>\n",
       "  </tbody>\n",
       "</table>\n",
       "</div>"
      ],
      "text/plain": [
       "               account_cookie  amount amount_model    code data_type  \\\n",
       "order_id                                                               \n",
       "Order_domTvaAH   Acc_B9nSOCHM  100000     by_price  000001       day   \n",
       "Order_H4AP3sgU   Acc_A2RcQxPU  100000     by_price  000001       day   \n",
       "\n",
       "                      date             datetime market_type        order_id  \\\n",
       "order_id                                                                      \n",
       "Order_domTvaAH  2017-12-14  2017-12-14 09:31:00        0x01  Order_domTvaAH   \n",
       "Order_H4AP3sgU  2017-12-14  2017-12-14 09:31:00        0x01  Order_H4AP3sgU   \n",
       "\n",
       "               order_model  price         sending_time  status strategy  \\\n",
       "order_id                                                                  \n",
       "Order_domTvaAH       close   13.0  2017-12-14 09:31:00     200            \n",
       "Order_H4AP3sgU       close   13.0  2017-12-14 09:31:00     200            \n",
       "\n",
       "                towards trade_id transact_time  type user  \n",
       "order_id                                                   \n",
       "Order_domTvaAH        1     None          None  0x01       \n",
       "Order_H4AP3sgU        1     None          None  0x01       "
      ]
     },
     "execution_count": 31,
     "metadata": {},
     "output_type": "execute_result"
    }
   ],
   "source": [
    "market.broker[QA.BROKER_TYPE.BACKETEST].order_handler.order_queue()"
   ]
  },
  {
   "cell_type": "code",
   "execution_count": 32,
   "metadata": {},
   "outputs": [
    {
     "data": {
      "text/plain": [
       "[1000000, 901051.8]"
      ]
     },
     "execution_count": 32,
     "metadata": {},
     "output_type": "execute_result"
    }
   ],
   "source": [
    "\"\"\"\n",
    "cash 现金减少\n",
    "\"\"\"\n",
    "market.session[a_1].cash"
   ]
  },
  {
   "cell_type": "code",
   "execution_count": 33,
   "metadata": {},
   "outputs": [
    {
     "data": {
      "text/plain": [
       "[1000000, 999851.8]"
      ]
     },
     "execution_count": 33,
     "metadata": {},
     "output_type": "execute_result"
    }
   ],
   "source": [
    "\"\"\"\n",
    "资产减少\n",
    "\"\"\"\n",
    "market.session[a_1].assets"
   ]
  },
  {
   "cell_type": "code",
   "execution_count": 34,
   "metadata": {},
   "outputs": [
    {
     "data": {
      "text/plain": [
       "[['datetime', 'code', 'price', 'amount', 'order_id', 'trade_id']]"
      ]
     },
     "execution_count": 34,
     "metadata": {},
     "output_type": "execute_result"
    }
   ],
   "source": [
    "\"\"\"\n",
    "因为没有触发每日结算时间 在T+1的市场 即使买入了也没有可卖的\n",
    "\"\"\"\n",
    "market.session[a_1].sell_available"
   ]
  },
  {
   "cell_type": "code",
   "execution_count": 35,
   "metadata": {},
   "outputs": [
    {
     "data": {
      "text/plain": [
       "[['2017-12-14 09:31:00',\n",
       "  '000001',\n",
       "  13.0,\n",
       "  7600.0,\n",
       "  'Order_domTvaAH',\n",
       "  'Trade_dNOieoBn']]"
      ]
     },
     "execution_count": 35,
     "metadata": {},
     "output_type": "execute_result"
    }
   ],
   "source": [
    "\"\"\"\n",
    "持仓表增加\n",
    "\"\"\"\n",
    "market.session[a_1].hold"
   ]
  },
  {
   "cell_type": "code",
   "execution_count": 36,
   "metadata": {},
   "outputs": [
    {
     "data": {
      "text/html": [
       "<div>\n",
       "<style scoped>\n",
       "    .dataframe tbody tr th:only-of-type {\n",
       "        vertical-align: middle;\n",
       "    }\n",
       "\n",
       "    .dataframe tbody tr th {\n",
       "        vertical-align: top;\n",
       "    }\n",
       "\n",
       "    .dataframe thead th {\n",
       "        text-align: right;\n",
       "    }\n",
       "</style>\n",
       "<table border=\"1\" class=\"dataframe\">\n",
       "  <thead>\n",
       "    <tr style=\"text-align: right;\">\n",
       "      <th></th>\n",
       "      <th>datetime</th>\n",
       "      <th>code</th>\n",
       "      <th>price</th>\n",
       "      <th>amount</th>\n",
       "      <th>order_id</th>\n",
       "      <th>trade_id</th>\n",
       "    </tr>\n",
       "  </thead>\n",
       "  <tbody>\n",
       "    <tr>\n",
       "      <th>0</th>\n",
       "      <td>2017-12-14 09:31:00</td>\n",
       "      <td>000001</td>\n",
       "      <td>13.0</td>\n",
       "      <td>7600.0</td>\n",
       "      <td>Order_domTvaAH</td>\n",
       "      <td>Trade_dNOieoBn</td>\n",
       "    </tr>\n",
       "  </tbody>\n",
       "</table>\n",
       "</div>"
      ],
      "text/plain": [
       "              datetime    code  price  amount        order_id        trade_id\n",
       "0  2017-12-14 09:31:00  000001   13.0  7600.0  Order_domTvaAH  Trade_dNOieoBn"
      ]
     },
     "execution_count": 36,
     "metadata": {},
     "output_type": "execute_result"
    }
   ],
   "source": [
    "# import pandas as pd\n",
    "\"\"\"用pandas打印的漂亮一点\"\"\"\n",
    "import pandas as pd\n",
    "pd.DataFrame(data=market.session[a_1].hold,columns=market.session[a_1]._hold_headers)"
   ]
  },
  {
   "cell_type": "code",
   "execution_count": 37,
   "metadata": {},
   "outputs": [
    {
     "data": {
      "text/plain": [
       "{'body': {'account': {'assets': [1000000, 999851.8],\n",
       "   'cash': [1000000, 901051.8],\n",
       "   'detail': [['2017-12-14 09:31:00',\n",
       "     '000001',\n",
       "     13.0,\n",
       "     7600.0,\n",
       "     'Order_domTvaAH',\n",
       "     'Trade_dNOieoBn',\n",
       "     [],\n",
       "     [],\n",
       "     [],\n",
       "     [],\n",
       "     7600.0,\n",
       "     148.2]],\n",
       "   'history': [['2017-12-14 09:31:00',\n",
       "     '000001',\n",
       "     13.0,\n",
       "     1,\n",
       "     7600.0,\n",
       "     'Order_domTvaAH',\n",
       "     'Trade_dNOieoBn',\n",
       "     148.2]],\n",
       "   'hold': [['2017-12-14 09:31:00',\n",
       "     '000001',\n",
       "     13.0,\n",
       "     7600.0,\n",
       "     'Order_domTvaAH',\n",
       "     'Trade_dNOieoBn']]},\n",
       "  'date_stamp': 1514637383.524482,\n",
       "  'time': '2017-12-30 20:36:23.524467'},\n",
       " 'header': {'cookie': 'Acc_B9nSOCHM',\n",
       "  'session': {'code': '000001', 'strategy': '', 'user': ''},\n",
       "  'source': 'account'}}"
      ]
     },
     "execution_count": 37,
     "metadata": {},
     "output_type": "execute_result"
    }
   ],
   "source": [
    "\"\"\"\n",
    "账户信息\n",
    "\n",
    "可以看到 减少的资产 主要是因为收了手续费\n",
    "\"\"\"\n",
    "market.session[a_1].message"
   ]
  },
  {
   "cell_type": "code",
   "execution_count": 38,
   "metadata": {},
   "outputs": [
    {
     "name": "stderr",
     "output_type": "stream",
     "text": [
      "QUANTAXIS>> From Engine  <QA_ENGINE with ['backtest', 'simulation'] kernals>: There are still 3 tasks to do\n",
      "QUANTAXIS>> From Engine  <QA_ENGINE with ['backtest', 'simulation'] kernals>: There are still 2 tasks to do\n",
      "QUANTAXIS>> From Engine  <QA_ENGINE with ['backtest', 'simulation'] kernals>: There are still 1 tasks to do\n",
      "QUANTAXIS>> From Engine < QA_Thread backtest >: There are still 3 tasks to do\n"
     ]
    }
   ],
   "source": [
    "\"\"\"结算事件\"\"\"\n",
    "market._settle(QA.BROKER_TYPE.BACKETEST)"
   ]
  },
  {
   "cell_type": "code",
   "execution_count": 39,
   "metadata": {},
   "outputs": [
    {
     "name": "stderr",
     "output_type": "stream",
     "text": [
      "QUANTAXIS>> From Engine < QA_Thread backtest >: There are still 2 tasks to do\n",
      "QUANTAXIS>> From Engine < QA_Thread backtest >: There are still 1 tasks to do\n"
     ]
    },
    {
     "data": {
      "text/plain": [
       "[['datetime', 'code', 'price', 'amount', 'order_id', 'trade_id']]"
      ]
     },
     "execution_count": 39,
     "metadata": {},
     "output_type": "execute_result"
    }
   ],
   "source": [
    "\"\"\"\n",
    "结算完以后 可卖数量就会变成和持仓数一样\n",
    "\"\"\"\n",
    "market.session[a_1].sell_available"
   ]
  },
  {
   "cell_type": "code",
   "execution_count": 40,
   "metadata": {},
   "outputs": [
    {
     "data": {
      "text/html": [
       "<div>\n",
       "<style scoped>\n",
       "    .dataframe tbody tr th:only-of-type {\n",
       "        vertical-align: middle;\n",
       "    }\n",
       "\n",
       "    .dataframe tbody tr th {\n",
       "        vertical-align: top;\n",
       "    }\n",
       "\n",
       "    .dataframe thead th {\n",
       "        text-align: right;\n",
       "    }\n",
       "</style>\n",
       "<table border=\"1\" class=\"dataframe\">\n",
       "  <thead>\n",
       "    <tr style=\"text-align: right;\">\n",
       "      <th></th>\n",
       "    </tr>\n",
       "  </thead>\n",
       "  <tbody>\n",
       "  </tbody>\n",
       "</table>\n",
       "</div>"
      ],
      "text/plain": [
       "Empty DataFrame\n",
       "Columns: []\n",
       "Index: []"
      ]
     },
     "execution_count": 40,
     "metadata": {},
     "output_type": "execute_result"
    }
   ],
   "source": [
    "\"\"\"\n",
    "结算完以后 待成交队列也被清空\n",
    "\"\"\"\n",
    "\n",
    "market.order_handler.order_queue()"
   ]
  },
  {
   "cell_type": "code",
   "execution_count": 41,
   "metadata": {},
   "outputs": [
    {
     "data": {
      "text/html": [
       "<div>\n",
       "<style scoped>\n",
       "    .dataframe tbody tr th:only-of-type {\n",
       "        vertical-align: middle;\n",
       "    }\n",
       "\n",
       "    .dataframe tbody tr th {\n",
       "        vertical-align: top;\n",
       "    }\n",
       "\n",
       "    .dataframe thead th {\n",
       "        text-align: right;\n",
       "    }\n",
       "</style>\n",
       "<table border=\"1\" class=\"dataframe\">\n",
       "  <thead>\n",
       "    <tr style=\"text-align: right;\">\n",
       "      <th></th>\n",
       "    </tr>\n",
       "  </thead>\n",
       "  <tbody>\n",
       "  </tbody>\n",
       "</table>\n",
       "</div>"
      ],
      "text/plain": [
       "Empty DataFrame\n",
       "Columns: []\n",
       "Index: []"
      ]
     },
     "execution_count": 41,
     "metadata": {},
     "output_type": "execute_result"
    }
   ],
   "source": [
    "market.broker[QA.BROKER_TYPE.BACKETEST].order_handler.order_queue()"
   ]
  },
  {
   "cell_type": "code",
   "execution_count": null,
   "metadata": {},
   "outputs": [],
   "source": []
  },
  {
   "cell_type": "code",
   "execution_count": null,
   "metadata": {},
   "outputs": [],
   "source": []
  }
 ],
 "metadata": {
  "kernelspec": {
   "display_name": "Python 3",
   "language": "python",
   "name": "python3"
  },
  "language_info": {
   "codemirror_mode": {
    "name": "ipython",
    "version": 3
   },
   "file_extension": ".py",
   "mimetype": "text/x-python",
   "name": "python",
   "nbconvert_exporter": "python",
   "pygments_lexer": "ipython3",
   "version": "3.6.3"
  }
 },
 "nbformat": 4,
 "nbformat_minor": 2
}
