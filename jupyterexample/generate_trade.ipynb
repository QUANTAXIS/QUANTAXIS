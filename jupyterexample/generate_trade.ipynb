{
 "cells": [
  {
   "cell_type": "code",
   "execution_count": 1,
   "metadata": {},
   "outputs": [
    {
     "name": "stderr",
     "output_type": "stream",
     "text": [
      "QUANTAXIS>> start QUANTAXIS\n",
      "QUANTAXIS>> Selecting the Best Server IP of TDX\n",
      "QUANTAXIS>> === The BEST SERVER ===\n",
      " stock_ip 218.75.126.9 future_ip 61.152.107.141\n",
      "QUANTAXIS>> Welcome to QUANTAXIS, the Version is remake-version\n",
      "QUANTAXIS>>  \n",
      " ```````````````````````````````````````````````````````````````````````````````````````````````````````````````````````` \n",
      "  ``########`````##````````##``````````##`````````####````````##```##########````````#``````##``````###```##`````######`` \n",
      "  `##``````## ```##````````##`````````####````````##`##```````##```````##```````````###``````##````##`````##```##`````##` \n",
      "  ##````````##```##````````##````````##`##````````##``##``````##```````##``````````####```````#```##``````##```##``````## \n",
      "  ##````````##```##````````##```````##```##```````##```##`````##```````##`````````##`##```````##`##```````##````##``````` \n",
      "  ##````````##```##````````##``````##`````##``````##````##````##```````##````````##``###```````###````````##`````##`````` \n",
      "  ##````````##```##````````##``````##``````##`````##`````##```##```````##```````##````##```````###````````##``````###```` \n",
      "  ##````````##```##````````##`````##````````##````##``````##``##```````##``````##``````##`````##`##```````##````````##``` \n",
      "  ##````````##```##````````##````#############````##```````##`##```````##`````###########`````##``##``````##`````````##`` \n",
      "  ###```````##```##````````##```##```````````##```##```````##`##```````##````##`````````##```##```##``````##```##`````##` \n",
      "  `##``````###````##``````###``##`````````````##``##````````####```````##```##``````````##``###````##`````##````##`````## \n",
      "  ``#########``````########```##``````````````###`##``````````##```````##``##````````````##`##``````##````##`````##````## \n",
      "  ````````#####`````````````````````````````````````````````````````````````````````````````````````````````````````####` \n",
      "  ``````````````````````````````````````````````````````````````````````````````````````````````````````````````````````` \n",
      "  ``````````````````````````Copyright``yutiansut``2017``````QUANTITATIVE FINANCIAL FRAMEWORK````````````````````````````` \n",
      "  ``````````````````````````````````````````````````````````````````````````````````````````````````````````````````````` \n",
      " ```````````````````````````````````````````````````````````````````````````````````````````````````````````````````````` \n",
      " ```````````````````````````````````````````````````````````````````````````````````````````````````````````````````````` \n",
      " \n"
     ]
    },
    {
     "name": "stdout",
     "output_type": "stream",
     "text": [
      "< QA_MARKET with ['backtest'] Broker >\n",
      "< QA_Order datetime:2017-01-03 09:31:00 code:000001 price:9.16 towards:1 btype:0x01 order_id:Order_65WP4gAM account:Acc_MqjLEKbs status:300 >===== SETTLED None =====\n",
      "\n",
      "< QA_Order datetime:2017-01-03 09:31:00 code:000007 price:26.1 towards:1 btype:0x01 order_id:Order_xRK6ybIh account:Acc_MqjLEKbs status:300 >\n",
      "===== SETTLED None =====< QA_Order datetime:2017-01-04 09:31:00 code:000002 price:20.85 towards:1 btype:0x01 order_id:Order_qB5vxh8C account:Acc_MqjLEKbs status:300 >\n",
      "\n",
      "===== SETTLED None =====< QA_Order datetime:2017-01-05 09:31:00 code:000001 price:9.17 towards:-1 btype:0x01 order_id:Order_XaJUIiHu account:Acc_MqjLEKbs status:300 >\n",
      "\n",
      "===== SETTLED None =====\n",
      "< QA_Order datetime:2017-01-05 09:31:00 code:000004 price:44.44 towards:1 btype:0x01 order_id:Order_hN4CT2fn account:Acc_MqjLEKbs status:300 >\n",
      "===== SETTLED None =====< QA_Order datetime:2017-01-05 09:31:00 code:000007 price:26.24 towards:1 btype:0x01 order_id:Order_ZTa2qD71 account:Acc_MqjLEKbs status:300 >\n",
      "\n",
      "===== SETTLED None =====< QA_Order datetime:2017-01-06 09:31:00 code:000001 price:9.13 towards:1 btype:0x01 order_id:Order_EcPZo2mv account:Acc_MqjLEKbs status:300 >\n",
      "\n",
      "< QA_Order datetime:2017-01-06 09:31:00 code:000002 price:20.64 towards:1 btype:0x01 order_id:Order_bmnIRCQB account:Acc_MqjLEKbs status:300 >\n",
      "===== SETTLED None =====< QA_Order datetime:2017-01-06 09:31:00 code:000004 price:43.96 towards:1 btype:0x01 order_id:Order_s0Gfgcdw account:Acc_MqjLEKbs status:300 >\n",
      "\n"
     ]
    },
    {
     "name": "stderr",
     "output_type": "stream",
     "text": [
      "QUANTAXIS>> MARKET WARING: SOMEING WRONG WITH ORDER \n",
      " \n"
     ]
    },
    {
     "name": "stdout",
     "output_type": "stream",
     "text": [
      "< QA_Order datetime:2017-01-06 09:31:00 code:000007 price:25.45 towards:-1 btype:0x01 order_id:Order_IjvbMSta account:Acc_MqjLEKbs status:300 >\n"
     ]
    },
    {
     "name": "stderr",
     "output_type": "stream",
     "text": [
      "QUANTAXIS>> code 000002 date 2017-01-12 price None order_model close amount_model by_amount"
     ]
    },
    {
     "name": "stdout",
     "output_type": "stream",
     "text": [
      "< QA_Order datetime:2017-01-09 09:31:00 code:000001 price:9.15 towards:-1 btype:0x01 order_id:Order_QLdkFn9M account:Acc_MqjLEKbs status:300 >"
     ]
    },
    {
     "name": "stderr",
     "output_type": "stream",
     "text": [
      "\n"
     ]
    },
    {
     "name": "stdout",
     "output_type": "stream",
     "text": [
      "\n",
      "===== SETTLED None =====< QA_Order datetime:2017-01-09 09:31:00 code:000002 price:20.66 towards:-1 btype:0x01 order_id:Order_n6d4SzF3 account:Acc_MqjLEKbs status:300 >\n",
      "\n",
      "===== SETTLED None =====< QA_Order datetime:2017-01-09 09:31:00 code:000004 price:43.01 towards:1 btype:0x01 order_id:Order_q3FpnSeD account:Acc_MqjLEKbs status:300 >\n",
      "\n",
      "< QA_Order datetime:2017-01-09 09:31:00 code:000007 price:25.09 towards:1 btype:0x01 order_id:Order_V0lDAMoG account:Acc_MqjLEKbs status:300 >\n"
     ]
    },
    {
     "name": "stderr",
     "output_type": "stream",
     "text": [
      "QUANTAXIS>> MARKET WARING: SOMEING WRONG WITH ORDER \n",
      " \n"
     ]
    },
    {
     "name": "stdout",
     "output_type": "stream",
     "text": [
      "< QA_Order datetime:2017-01-10 09:31:00 code:000001 price:9.15 towards:1 btype:0x01 order_id:Order_ODJG86FQ account:Acc_MqjLEKbs status:300 >"
     ]
    },
    {
     "name": "stderr",
     "output_type": "stream",
     "text": [
      "QUANTAXIS>> code 000007 date 2017-01-16 price None order_model close amount_model by_amount"
     ]
    },
    {
     "name": "stdout",
     "output_type": "stream",
     "text": [
      "\n"
     ]
    },
    {
     "name": "stderr",
     "output_type": "stream",
     "text": [
      "\n"
     ]
    },
    {
     "name": "stdout",
     "output_type": "stream",
     "text": [
      "< QA_Order datetime:2017-01-11 09:31:00 code:000001 price:9.14 towards:1 btype:0x01 order_id:Order_LibQyx6m account:Acc_MqjLEKbs status:300 >===== SETTLED None =====\n",
      "\n",
      "< QA_Order datetime:2017-01-11 09:31:00 code:000002 price:20.4 towards:1 btype:0x01 order_id:Order_Qcv4VuWE account:Acc_MqjLEKbs status:300 >"
     ]
    },
    {
     "name": "stderr",
     "output_type": "stream",
     "text": [
      "QUANTAXIS>> MARKET WARING: SOMEING WRONG WITH ORDER \n",
      " "
     ]
    },
    {
     "name": "stdout",
     "output_type": "stream",
     "text": [
      "\n"
     ]
    },
    {
     "name": "stderr",
     "output_type": "stream",
     "text": [
      "\n"
     ]
    },
    {
     "name": "stdout",
     "output_type": "stream",
     "text": [
      "< QA_Order datetime:2017-01-11 09:31:00 code:000004 price:42.45 towards:1 btype:0x01 order_id:Order_RIpfZDrx account:Acc_MqjLEKbs status:300 >"
     ]
    },
    {
     "name": "stderr",
     "output_type": "stream",
     "text": [
      "QUANTAXIS>> code 000007 date 2017-01-17 price None order_model close amount_model by_amount"
     ]
    },
    {
     "name": "stdout",
     "output_type": "stream",
     "text": [
      "\n"
     ]
    },
    {
     "name": "stderr",
     "output_type": "stream",
     "text": [
      "\n"
     ]
    },
    {
     "name": "stdout",
     "output_type": "stream",
     "text": [
      "< QA_Order datetime:2017-01-11 09:31:00 code:000007 price:24.85 towards:1 btype:0x01 order_id:Order_gPvELHRs account:Acc_MqjLEKbs status:300 >===== SETTLED None =====\n",
      "\n",
      "< QA_Order datetime:2017-01-12 09:31:00 code:000001 price:9.15 towards:1 btype:0x01 order_id:Order_7tEDzsG9 account:Acc_MqjLEKbs status:300 >\n"
     ]
    },
    {
     "name": "stderr",
     "output_type": "stream",
     "text": [
      "QUANTAXIS>> MARKET WARING: SOMEING WRONG WITH ORDER \n",
      " \n"
     ]
    },
    {
     "name": "stdout",
     "output_type": "stream",
     "text": [
      "< QA_Order datetime:2017-01-12 09:31:00 code:000004 price:42.05 towards:-1 btype:0x01 order_id:Order_KfvZFkqS account:Acc_MqjLEKbs status:300 >"
     ]
    },
    {
     "name": "stderr",
     "output_type": "stream",
     "text": [
      "QUANTAXIS>> code 000007 date 2017-01-18 price None order_model close amount_model by_amount"
     ]
    },
    {
     "name": "stdout",
     "output_type": "stream",
     "text": [
      "\n"
     ]
    },
    {
     "name": "stderr",
     "output_type": "stream",
     "text": [
      "\n"
     ]
    },
    {
     "name": "stdout",
     "output_type": "stream",
     "text": [
      "< QA_Order datetime:2017-01-12 09:31:00 code:000007 price:24.61 towards:1 btype:0x01 order_id:Order_8GYmDjFf account:Acc_MqjLEKbs status:300 >\n",
      "===== SETTLED None =====\n",
      "< QA_Order datetime:2017-01-13 09:31:00 code:000001 price:9.16 towards:-1 btype:0x01 order_id:Order_atrSkcXn account:Acc_MqjLEKbs status:300 >\n"
     ]
    },
    {
     "name": "stderr",
     "output_type": "stream",
     "text": [
      "QUANTAXIS>> MARKET WARING: SOMEING WRONG WITH ORDER \n",
      " "
     ]
    },
    {
     "name": "stdout",
     "output_type": "stream",
     "text": [
      "< QA_Order datetime:2017-01-13 09:31:00 code:000002 price:21.81 towards:-1 btype:0x01 order_id:Order_MvIyLPrj account:Acc_MqjLEKbs status:300 >"
     ]
    },
    {
     "name": "stderr",
     "output_type": "stream",
     "text": [
      "\n"
     ]
    },
    {
     "name": "stdout",
     "output_type": "stream",
     "text": [
      "\n"
     ]
    },
    {
     "name": "stderr",
     "output_type": "stream",
     "text": [
      "QUANTAXIS>> code 000007 date 2017-01-19 price None order_model close amount_model by_amount"
     ]
    },
    {
     "name": "stdout",
     "output_type": "stream",
     "text": [
      "< QA_Order datetime:2017-01-13 09:31:00 code:000004 price:41.0 towards:-1 btype:0x01 order_id:Order_iE76fY5C account:Acc_MqjLEKbs status:300 >"
     ]
    },
    {
     "name": "stderr",
     "output_type": "stream",
     "text": [
      "\n"
     ]
    },
    {
     "name": "stdout",
     "output_type": "stream",
     "text": [
      "\n",
      "===== SETTLED None =====< QA_Order datetime:2017-01-13 09:31:00 code:000007 price:23.81 towards:1 btype:0x01 order_id:Order_97vahLjY account:Acc_MqjLEKbs status:300 >\n",
      "\n",
      "< QA_Order datetime:2017-01-16 09:31:00 code:000002 price:21.0 towards:1 btype:0x01 order_id:Order_eUF4Vy1W account:Acc_MqjLEKbs status:300 >"
     ]
    },
    {
     "name": "stderr",
     "output_type": "stream",
     "text": [
      "QUANTAXIS>> MARKET WARING: SOMEING WRONG WITH ORDER \n",
      " "
     ]
    },
    {
     "name": "stdout",
     "output_type": "stream",
     "text": [
      "\n"
     ]
    },
    {
     "name": "stderr",
     "output_type": "stream",
     "text": [
      "\n",
      "QUANTAXIS>> code 000007 date 2017-01-20 price None order_model close amount_model by_amount"
     ]
    },
    {
     "name": "stdout",
     "output_type": "stream",
     "text": [
      "< QA_Order datetime:2017-01-16 09:31:00 code:000004 price:38.26 towards:1 btype:0x01 order_id:Order_yrIEz9cu account:Acc_MqjLEKbs status:300 >"
     ]
    },
    {
     "name": "stderr",
     "output_type": "stream",
     "text": [
      "\n"
     ]
    },
    {
     "name": "stdout",
     "output_type": "stream",
     "text": [
      "\n",
      "===== SETTLED None =====< QA_Order datetime:2017-01-17 09:31:00 code:000001 price:9.15 towards:1 btype:0x01 order_id:Order_0S3lvUTA account:Acc_MqjLEKbs status:300 >\n",
      "\n",
      "< QA_Order datetime:2017-01-17 09:31:00 code:000002 price:20.8 towards:1 btype:0x01 order_id:Order_jAYZyqxD account:Acc_MqjLEKbs status:300 >\n"
     ]
    },
    {
     "name": "stderr",
     "output_type": "stream",
     "text": [
      "QUANTAXIS>> MARKET WARING: SOMEING WRONG WITH ORDER \n",
      " "
     ]
    },
    {
     "name": "stdout",
     "output_type": "stream",
     "text": [
      "< QA_Order datetime:2017-01-17 09:31:00 code:000004 price:37.37 towards:1 btype:0x01 order_id:Order_oKUifzCc account:Acc_MqjLEKbs status:300 >"
     ]
    },
    {
     "name": "stderr",
     "output_type": "stream",
     "text": [
      "\n"
     ]
    },
    {
     "name": "stdout",
     "output_type": "stream",
     "text": [
      "\n"
     ]
    },
    {
     "name": "stderr",
     "output_type": "stream",
     "text": [
      "QUANTAXIS>> code 000007 date 2017-01-23 price None order_model close amount_model by_amount"
     ]
    },
    {
     "name": "stdout",
     "output_type": "stream",
     "text": [
      "< QA_Order datetime:2017-01-18 09:31:00 code:000001 price:9.17 towards:1 btype:0x01 order_id:Order_pGAYFszP account:Acc_MqjLEKbs status:300 >"
     ]
    },
    {
     "name": "stderr",
     "output_type": "stream",
     "text": [
      "\n"
     ]
    },
    {
     "name": "stdout",
     "output_type": "stream",
     "text": [
      "\n",
      "< QA_Order datetime:2017-01-18 09:31:00 code:000002 price:20.92 towards:1 btype:0x01 order_id:Order_nGHcbyf1 account:Acc_MqjLEKbs status:300 >\n",
      "===== SETTLED None =====\n",
      "< QA_Order datetime:2017-01-18 09:31:00 code:000004 price:37.15 towards:1 btype:0x01 order_id:Order_lfEoTDiK account:Acc_MqjLEKbs status:300 >"
     ]
    },
    {
     "name": "stderr",
     "output_type": "stream",
     "text": [
      "QUANTAXIS>> MARKET WARING: SOMEING WRONG WITH ORDER \n",
      " "
     ]
    },
    {
     "name": "stdout",
     "output_type": "stream",
     "text": [
      "\n",
      "< QA_Order datetime:2017-01-19 09:31:00 code:000001 price:9.18 towards:-1 btype:0x01 order_id:Order_4WNGR6ys account:Acc_MqjLEKbs status:300 >"
     ]
    },
    {
     "name": "stderr",
     "output_type": "stream",
     "text": [
      "\n"
     ]
    },
    {
     "name": "stdout",
     "output_type": "stream",
     "text": [
      "\n"
     ]
    },
    {
     "name": "stderr",
     "output_type": "stream",
     "text": [
      "QUANTAXIS>> code 000007 date 2017-01-24 price None order_model close amount_model by_amount"
     ]
    },
    {
     "name": "stdout",
     "output_type": "stream",
     "text": [
      "< QA_Order datetime:2017-01-19 09:31:00 code:000002 price:20.6 towards:1 btype:0x01 order_id:Order_WTbYGV6A account:Acc_MqjLEKbs status:300 >"
     ]
    },
    {
     "name": "stderr",
     "output_type": "stream",
     "text": [
      "\n"
     ]
    },
    {
     "name": "stdout",
     "output_type": "stream",
     "text": [
      "\n",
      "< QA_Order datetime:2017-01-19 09:31:00 code:000004 price:35.69 towards:1 btype:0x01 order_id:Order_JqLfBhWN account:Acc_MqjLEKbs status:300 >===== SETTLED None =====\n",
      "\n"
     ]
    },
    {
     "name": "stderr",
     "output_type": "stream",
     "text": [
      "QUANTAXIS>> MARKET WARING: SOMEING WRONG WITH ORDER \n",
      " "
     ]
    },
    {
     "name": "stdout",
     "output_type": "stream",
     "text": [
      "< QA_Order datetime:2017-01-20 09:31:00 code:000001 price:9.22 towards:-1 btype:0x01 order_id:Order_xNeXAIbw account:Acc_MqjLEKbs status:300 >"
     ]
    },
    {
     "name": "stderr",
     "output_type": "stream",
     "text": [
      "\n"
     ]
    },
    {
     "name": "stdout",
     "output_type": "stream",
     "text": [
      "\n"
     ]
    },
    {
     "name": "stderr",
     "output_type": "stream",
     "text": [
      "QUANTAXIS>> code 000007 date 2017-01-25 price None order_model close amount_model by_amount"
     ]
    },
    {
     "name": "stdout",
     "output_type": "stream",
     "text": [
      "< QA_Order datetime:2017-01-20 09:31:00 code:000002 price:20.68 towards:1 btype:0x01 order_id:Order_3YRJbTL6 account:Acc_MqjLEKbs status:300 >"
     ]
    },
    {
     "name": "stderr",
     "output_type": "stream",
     "text": [
      "\n"
     ]
    },
    {
     "name": "stdout",
     "output_type": "stream",
     "text": [
      "\n",
      "===== SETTLED None =====< QA_Order datetime:2017-01-20 09:31:00 code:000004 price:36.48 towards:-1 btype:0x01 order_id:Order_mMtwgYaG account:Acc_MqjLEKbs status:300 >\n",
      "\n"
     ]
    },
    {
     "name": "stderr",
     "output_type": "stream",
     "text": [
      "QUANTAXIS>> MARKET WARING: SOMEING WRONG WITH ORDER \n",
      " "
     ]
    },
    {
     "name": "stdout",
     "output_type": "stream",
     "text": [
      "< QA_Order datetime:2017-01-23 09:31:00 code:000001 price:9.22 towards:1 btype:0x01 order_id:Order_yKd3SGAo account:Acc_MqjLEKbs status:300 >"
     ]
    },
    {
     "name": "stderr",
     "output_type": "stream",
     "text": [
      "\n"
     ]
    },
    {
     "name": "stdout",
     "output_type": "stream",
     "text": [
      "\n"
     ]
    },
    {
     "name": "stderr",
     "output_type": "stream",
     "text": [
      "QUANTAXIS>> code 000007 date 2017-01-26 price None order_model close amount_model by_amount\n"
     ]
    },
    {
     "name": "stdout",
     "output_type": "stream",
     "text": [
      "< QA_Order datetime:2017-01-23 09:31:00 code:000002 price:20.74 towards:-1 btype:0x01 order_id:Order_NKGZ263x account:Acc_MqjLEKbs status:300 >===== SETTLED None =====\n",
      "\n",
      "< QA_Order datetime:2017-01-23 09:31:00 code:000004 price:37.56 towards:-1 btype:0x01 order_id:Order_bLF96Xp5 account:Acc_MqjLEKbs status:300 >\n",
      "< QA_Order datetime:2017-01-24 09:31:00 code:000001 price:9.27 towards:1 btype:0x01 order_id:Order_EFUywMaG account:Acc_MqjLEKbs status:300 >\n",
      "< QA_Order datetime:2017-01-24 09:31:00 code:000002 price:20.69 towards:1 btype:0x01 order_id:Order_RwbLnfd5 account:Acc_MqjLEKbs status:300 >\n",
      "< QA_Order datetime:2017-01-24 09:31:00 code:000004 price:38.63 towards:1 btype:0x01 order_id:Order_d9TWRuJ7 account:Acc_MqjLEKbs status:300 >\n",
      "< QA_Order datetime:2017-01-25 09:31:00 code:000001 price:9.26 towards:-1 btype:0x01 order_id:Order_SysvDzof account:Acc_MqjLEKbs status:300 >\n",
      "< QA_Order datetime:2017-01-25 09:31:00 code:000002 price:20.61 towards:1 btype:0x01 order_id:Order_an7hwcSH account:Acc_MqjLEKbs status:300 >\n",
      "< QA_Order datetime:2017-01-25 09:31:00 code:000004 price:38.25 towards:-1 btype:0x01 order_id:Order_AScFh2ZE account:Acc_MqjLEKbs status:300 >\n",
      "< QA_Order datetime:2017-01-26 09:31:00 code:000001 price:9.33 towards:-1 btype:0x01 order_id:Order_R4lEkvxJ account:Acc_MqjLEKbs status:300 >\n",
      "< QA_Order datetime:2017-01-26 09:31:00 code:000002 price:20.68 towards:-1 btype:0x01 order_id:Order_MoIiKVvw account:Acc_MqjLEKbs status:300 >\n",
      "< QA_Order datetime:2017-01-26 09:31:00 code:000004 price:38.29 towards:-1 btype:0x01 order_id:Order_ZRKQN9hL account:Acc_MqjLEKbs status:300 >\n",
      "[['2017-01-03 09:31:00', '000001', 9.16, 1000.0, 'Order_65WP4gAM', 'Trade_yL7CxgrJ', 13.74], ['2017-01-03 09:31:00', '000007', 26.1, 1000.0, 'Order_xRK6ybIh', 'Trade_OnwCfE0S', 39.150000000000006], ['2017-01-04 09:31:00', '000002', 20.85, 1000.0, 'Order_qB5vxh8C', 'Trade_oYNzBQIg', 31.275000000000006], ['2017-01-05 09:31:00', '000001', 9.17, -1000.0, 'Order_XaJUIiHu', 'Trade_gVQwb7J5', 13.754999999999999], ['2017-01-05 09:31:00', '000004', 44.44, 1000.0, 'Order_hN4CT2fn', 'Trade_7EqJUTi0', 66.66], ['2017-01-05 09:31:00', '000007', 26.24, 1000.0, 'Order_ZTa2qD71', 'Trade_mDGRpihZ', 39.36], ['2017-01-06 09:31:00', '000001', 9.13, 1000.0, 'Order_EcPZo2mv', 'Trade_07EdRFKc', 13.695000000000002], ['2017-01-06 09:31:00', '000002', 20.64, 1000.0, 'Order_bmnIRCQB', 'Trade_8hXSdEtw', 30.96], ['2017-01-06 09:31:00', '000004', 43.96, 1000.0, 'Order_s0Gfgcdw', 'Trade_JgayKk0b', 65.94], ['2017-01-06 09:31:00', '000007', 25.45, -1000.0, 'Order_IjvbMSta', 'Trade_GIQHiftx', 38.175], ['2017-01-09 09:31:00', '000001', 9.15, -1000.0, 'Order_QLdkFn9M', 'Trade_nySbaW0p', 13.725000000000001], ['2017-01-09 09:31:00', '000002', 20.66, -1000.0, 'Order_n6d4SzF3', 'Trade_R4htdpMy', 30.99], ['2017-01-09 09:31:00', '000004', 43.01, 1000.0, 'Order_q3FpnSeD', 'Trade_iJdFq6eH', 64.515], ['2017-01-09 09:31:00', '000007', 25.09, 1000.0, 'Order_V0lDAMoG', 'Trade_1GCVaBuz', 37.635000000000005], ['2017-01-10 09:31:00', '000001', 9.15, 1000.0, 'Order_ODJG86FQ', 'Trade_ajgNLtO7', 13.725000000000001], ['2017-01-11 09:31:00', '000001', 9.14, 1000.0, 'Order_LibQyx6m', 'Trade_IswrBJYQ', 13.71], ['2017-01-11 09:31:00', '000002', 20.4, 1000.0, 'Order_Qcv4VuWE', 'Trade_2cnLWY9J', 30.599999999999998], ['2017-01-11 09:31:00', '000004', 42.45, 1000.0, 'Order_RIpfZDrx', 'Trade_fFxj2BMY', 63.67500000000001], ['2017-01-11 09:31:00', '000007', 24.85, 1000.0, 'Order_gPvELHRs', 'Trade_thLTy4R0', 37.275000000000006], ['2017-01-12 09:31:00', '000001', 9.15, 1000.0, 'Order_7tEDzsG9', 'Trade_eLsVaThO', 13.725000000000001], ['2017-01-12 09:31:00', '000004', 42.05, -1000.0, 'Order_KfvZFkqS', 'Trade_02i4DzHs', 63.07499999999999], ['2017-01-12 09:31:00', '000007', 24.61, 1000.0, 'Order_8GYmDjFf', 'Trade_ctGRMo5l', 36.915000000000006], ['2017-01-13 09:31:00', '000001', 9.16, -1000.0, 'Order_atrSkcXn', 'Trade_xtDO6XuZ', 13.74], ['2017-01-13 09:31:00', '000002', 21.81, -1000.0, 'Order_MvIyLPrj', 'Trade_xJ73mlK1', 32.715], ['2017-01-13 09:31:00', '000004', 41.0, -1000.0, 'Order_iE76fY5C', 'Trade_7ZV1aTz5', 61.5], ['2017-01-13 09:31:00', '000007', 23.81, 1000.0, 'Order_97vahLjY', 'Trade_2dN7GX0o', 35.714999999999996], ['2017-01-16 09:31:00', '000002', 21.0, 1000.0, 'Order_eUF4Vy1W', 'Trade_YsrIdf8i', 31.5], ['2017-01-16 09:31:00', '000004', 38.26, 1000.0, 'Order_yrIEz9cu', 'Trade_mAaQT3LH', 57.38999999999999], ['2017-01-17 09:31:00', '000001', 9.15, 1000.0, 'Order_0S3lvUTA', 'Trade_h1MwcA6H', 13.725000000000001], ['2017-01-17 09:31:00', '000002', 20.8, 1000.0, 'Order_jAYZyqxD', 'Trade_mhsguFf1', 31.200000000000003], ['2017-01-17 09:31:00', '000004', 37.37, 1000.0, 'Order_oKUifzCc', 'Trade_LQNsfpCS', 56.055], ['2017-01-18 09:31:00', '000001', 9.17, 1000.0, 'Order_pGAYFszP', 'Trade_D6Ss3Obl', 13.754999999999999], ['2017-01-18 09:31:00', '000002', 20.92, 1000.0, 'Order_nGHcbyf1', 'Trade_qWOEKfwI', 31.380000000000006], ['2017-01-18 09:31:00', '000004', 37.15, 1000.0, 'Order_lfEoTDiK', 'Trade_pGxSJUO5', 55.724999999999994], ['2017-01-19 09:31:00', '000001', 9.18, -1000.0, 'Order_4WNGR6ys', 'Trade_6NPDgiV1', 13.77], ['2017-01-19 09:31:00', '000002', 20.6, 1000.0, 'Order_WTbYGV6A', 'Trade_XwsfdMoJ', 30.900000000000002], ['2017-01-19 09:31:00', '000004', 35.69, 1000.0, 'Order_JqLfBhWN', 'Trade_YhPnFgB4', 53.535], ['2017-01-20 09:31:00', '000001', 9.22, -1000.0, 'Order_xNeXAIbw', 'Trade_W2gHytYU', 13.830000000000002], ['2017-01-20 09:31:00', '000002', 20.68, 1000.0, 'Order_3YRJbTL6', 'Trade_JYSpidqy', 31.02], ['2017-01-20 09:31:00', '000004', 36.48, -1000.0, 'Order_mMtwgYaG', 'Trade_jSmQpqnV', 54.72], ['2017-01-23 09:31:00', '000001', 9.22, 1000.0, 'Order_yKd3SGAo', 'Trade_HDjlJ6Ue', 13.830000000000002], ['2017-01-23 09:31:00', '000002', 20.74, -1000.0, 'Order_NKGZ263x', 'Trade_Nhok69d5', 31.11], ['2017-01-23 09:31:00', '000004', 37.56, -1000.0, 'Order_bLF96Xp5', 'Trade_NsUeYyGw', 56.34], ['2017-01-24 09:31:00', '000001', 9.27, 1000.0, 'Order_EFUywMaG', 'Trade_AnCg7BRb', 13.905], ['2017-01-24 09:31:00', '000002', 20.69, 1000.0, 'Order_RwbLnfd5', 'Trade_xLfA0Czl', 31.035000000000004], ['2017-01-24 09:31:00', '000004', 38.63, 1000.0, 'Order_d9TWRuJ7', 'Trade_slArpViF', 57.945], ['2017-01-25 09:31:00', '000001', 9.26, -1000.0, 'Order_SysvDzof', 'Trade_xboJzicy', 13.889999999999999], ['2017-01-25 09:31:00', '000002', 20.61, 1000.0, 'Order_an7hwcSH', 'Trade_CfmBAhS2', 30.915000000000003], ['2017-01-25 09:31:00', '000004', 38.25, -1000.0, 'Order_AScFh2ZE', 'Trade_ofhMOV5v', 57.375], ['2017-01-26 09:31:00', '000001', 9.33, -1000.0, 'Order_R4lEkvxJ', 'Trade_bTCye3lv', 13.995000000000001], ['2017-01-26 09:31:00', '000002', 20.68, -1000.0, 'Order_MoIiKVvw', 'Trade_BtcmzGfS', 31.02], ['2017-01-26 09:31:00', '000004', 38.29, -1000.0, 'Order_ZRKQN9hL', 'Trade_poUYWdn3', 57.435]]\n",
      "[1000000, 990826.26, 964687.11, 943805.835, 952962.08, 908455.4199999999, 882176.0599999999, 873032.365, 852361.405, 808335.4650000001, 833747.29, 842883.5650000001, 863512.5750000001, 820438.06, 795310.425, 786146.7000000001, 776992.9900000001, 756562.3900000001, 714048.7150000001, 689161.4400000001, 679997.7150000001, 721984.6400000001, 697337.7250000001, 706483.9850000001, 728261.2700000001, 769199.7700000001, 745354.0550000002, 724322.5550000002, 686005.1650000002, 676841.4400000002, 656010.2400000002, 618584.1850000002, 609400.4300000002, 588449.0500000002, 551243.3250000002, 560409.5550000002, 539778.6550000001, 504035.12000000017, 513241.29000000015, 492530.27000000014, 528955.5500000002, 519721.72000000015, 540430.6100000002, 577934.2700000003, 568650.3650000002, 547929.3300000002, 509241.3850000002, 518487.49500000017, 497846.5800000002, 536039.2050000002, 545355.2100000002, 566004.1900000002, 604236.7550000001]\n",
      "604236.7550000001\n",
      "               datetime    code  price  amount        order_id  \\\n",
      "0   2017-01-03 09:31:00  000001   9.16  1000.0  Order_65WP4gAM   \n",
      "1   2017-01-03 09:31:00  000007  26.10  1000.0  Order_xRK6ybIh   \n",
      "2   2017-01-04 09:31:00  000002  20.85  1000.0  Order_qB5vxh8C   \n",
      "3   2017-01-05 09:31:00  000001   9.17 -1000.0  Order_XaJUIiHu   \n",
      "4   2017-01-05 09:31:00  000004  44.44  1000.0  Order_hN4CT2fn   \n",
      "5   2017-01-05 09:31:00  000007  26.24  1000.0  Order_ZTa2qD71   \n",
      "6   2017-01-06 09:31:00  000001   9.13  1000.0  Order_EcPZo2mv   \n",
      "7   2017-01-06 09:31:00  000002  20.64  1000.0  Order_bmnIRCQB   \n",
      "8   2017-01-06 09:31:00  000004  43.96  1000.0  Order_s0Gfgcdw   \n",
      "9   2017-01-06 09:31:00  000007  25.45 -1000.0  Order_IjvbMSta   \n",
      "10  2017-01-09 09:31:00  000001   9.15 -1000.0  Order_QLdkFn9M   \n",
      "11  2017-01-09 09:31:00  000002  20.66 -1000.0  Order_n6d4SzF3   \n",
      "12  2017-01-09 09:31:00  000004  43.01  1000.0  Order_q3FpnSeD   \n",
      "13  2017-01-09 09:31:00  000007  25.09  1000.0  Order_V0lDAMoG   \n",
      "14  2017-01-10 09:31:00  000001   9.15  1000.0  Order_ODJG86FQ   \n",
      "15  2017-01-11 09:31:00  000001   9.14  1000.0  Order_LibQyx6m   \n",
      "16  2017-01-11 09:31:00  000002  20.40  1000.0  Order_Qcv4VuWE   \n",
      "17  2017-01-11 09:31:00  000004  42.45  1000.0  Order_RIpfZDrx   \n",
      "18  2017-01-11 09:31:00  000007  24.85  1000.0  Order_gPvELHRs   \n",
      "19  2017-01-12 09:31:00  000001   9.15  1000.0  Order_7tEDzsG9   \n",
      "20  2017-01-12 09:31:00  000004  42.05 -1000.0  Order_KfvZFkqS   \n",
      "21  2017-01-12 09:31:00  000007  24.61  1000.0  Order_8GYmDjFf   \n",
      "22  2017-01-13 09:31:00  000001   9.16 -1000.0  Order_atrSkcXn   \n",
      "23  2017-01-13 09:31:00  000002  21.81 -1000.0  Order_MvIyLPrj   \n",
      "24  2017-01-13 09:31:00  000004  41.00 -1000.0  Order_iE76fY5C   \n",
      "25  2017-01-13 09:31:00  000007  23.81  1000.0  Order_97vahLjY   \n",
      "26  2017-01-16 09:31:00  000002  21.00  1000.0  Order_eUF4Vy1W   \n",
      "27  2017-01-16 09:31:00  000004  38.26  1000.0  Order_yrIEz9cu   \n",
      "28  2017-01-17 09:31:00  000001   9.15  1000.0  Order_0S3lvUTA   \n",
      "29  2017-01-17 09:31:00  000002  20.80  1000.0  Order_jAYZyqxD   \n",
      "30  2017-01-17 09:31:00  000004  37.37  1000.0  Order_oKUifzCc   \n",
      "31  2017-01-18 09:31:00  000001   9.17  1000.0  Order_pGAYFszP   \n",
      "32  2017-01-18 09:31:00  000002  20.92  1000.0  Order_nGHcbyf1   \n",
      "33  2017-01-18 09:31:00  000004  37.15  1000.0  Order_lfEoTDiK   \n",
      "34  2017-01-19 09:31:00  000001   9.18 -1000.0  Order_4WNGR6ys   \n",
      "35  2017-01-19 09:31:00  000002  20.60  1000.0  Order_WTbYGV6A   \n",
      "36  2017-01-19 09:31:00  000004  35.69  1000.0  Order_JqLfBhWN   \n",
      "37  2017-01-20 09:31:00  000001   9.22 -1000.0  Order_xNeXAIbw   \n",
      "38  2017-01-20 09:31:00  000002  20.68  1000.0  Order_3YRJbTL6   \n",
      "39  2017-01-20 09:31:00  000004  36.48 -1000.0  Order_mMtwgYaG   \n",
      "40  2017-01-23 09:31:00  000001   9.22  1000.0  Order_yKd3SGAo   \n",
      "41  2017-01-23 09:31:00  000002  20.74 -1000.0  Order_NKGZ263x   \n",
      "42  2017-01-23 09:31:00  000004  37.56 -1000.0  Order_bLF96Xp5   \n",
      "43  2017-01-24 09:31:00  000001   9.27  1000.0  Order_EFUywMaG   \n",
      "44  2017-01-24 09:31:00  000002  20.69  1000.0  Order_RwbLnfd5   \n",
      "45  2017-01-24 09:31:00  000004  38.63  1000.0  Order_d9TWRuJ7   \n",
      "46  2017-01-25 09:31:00  000001   9.26 -1000.0  Order_SysvDzof   \n",
      "47  2017-01-25 09:31:00  000002  20.61  1000.0  Order_an7hwcSH   \n",
      "48  2017-01-25 09:31:00  000004  38.25 -1000.0  Order_AScFh2ZE   \n",
      "49  2017-01-26 09:31:00  000001   9.33 -1000.0  Order_R4lEkvxJ   \n",
      "50  2017-01-26 09:31:00  000002  20.68 -1000.0  Order_MoIiKVvw   \n",
      "51  2017-01-26 09:31:00  000004  38.29 -1000.0  Order_ZRKQN9hL   \n",
      "\n",
      "          trade_id  commission_fee  \n",
      "0   Trade_yL7CxgrJ          13.740  \n",
      "1   Trade_OnwCfE0S          39.150  \n",
      "2   Trade_oYNzBQIg          31.275  \n",
      "3   Trade_gVQwb7J5          13.755  \n",
      "4   Trade_7EqJUTi0          66.660  \n",
      "5   Trade_mDGRpihZ          39.360  \n",
      "6   Trade_07EdRFKc          13.695  \n",
      "7   Trade_8hXSdEtw          30.960  \n",
      "8   Trade_JgayKk0b          65.940  \n",
      "9   Trade_GIQHiftx          38.175  \n",
      "10  Trade_nySbaW0p          13.725  \n",
      "11  Trade_R4htdpMy          30.990  \n",
      "12  Trade_iJdFq6eH          64.515  \n",
      "13  Trade_1GCVaBuz          37.635  \n",
      "14  Trade_ajgNLtO7          13.725  \n",
      "15  Trade_IswrBJYQ          13.710  \n",
      "16  Trade_2cnLWY9J          30.600  \n",
      "17  Trade_fFxj2BMY          63.675  \n",
      "18  Trade_thLTy4R0          37.275  \n",
      "19  Trade_eLsVaThO          13.725  \n",
      "20  Trade_02i4DzHs          63.075  \n",
      "21  Trade_ctGRMo5l          36.915  \n",
      "22  Trade_xtDO6XuZ          13.740  \n",
      "23  Trade_xJ73mlK1          32.715  \n",
      "24  Trade_7ZV1aTz5          61.500  \n",
      "25  Trade_2dN7GX0o          35.715  \n",
      "26  Trade_YsrIdf8i          31.500  \n",
      "27  Trade_mAaQT3LH          57.390  \n",
      "28  Trade_h1MwcA6H          13.725  \n",
      "29  Trade_mhsguFf1          31.200  \n",
      "30  Trade_LQNsfpCS          56.055  \n",
      "31  Trade_D6Ss3Obl          13.755  \n",
      "32  Trade_qWOEKfwI          31.380  \n",
      "33  Trade_pGxSJUO5          55.725  \n",
      "34  Trade_6NPDgiV1          13.770  \n",
      "35  Trade_XwsfdMoJ          30.900  \n",
      "36  Trade_YhPnFgB4          53.535  \n",
      "37  Trade_W2gHytYU          13.830  \n",
      "38  Trade_JYSpidqy          31.020  \n",
      "39  Trade_jSmQpqnV          54.720  \n",
      "40  Trade_HDjlJ6Ue          13.830  \n",
      "41  Trade_Nhok69d5          31.110  \n",
      "42  Trade_NsUeYyGw          56.340  \n",
      "43  Trade_AnCg7BRb          13.905  \n",
      "44  Trade_xLfA0Czl          31.035  \n",
      "45  Trade_slArpViF          57.945  \n",
      "46  Trade_xboJzicy          13.890  \n",
      "47  Trade_CfmBAhS2          30.915  \n",
      "48  Trade_ofhMOV5v          57.375  \n",
      "49  Trade_bTCye3lv          13.995  \n",
      "50  Trade_BtcmzGfS          31.020  \n"
     ]
    },
    {
     "name": "stdout",
     "output_type": "stream",
     "text": [
      "51  Trade_poUYWdn3          57.435  \n",
      "code\n",
      "000001    2000.0\n",
      "000002    6000.0\n",
      "000004    3000.0\n",
      "000007    5000.0\n",
      "Name: amount, dtype: float64\n"
     ]
    }
   ],
   "source": [
    "import QUANTAXIS as QA\n",
    "import random\n",
    "market = QA.QA_Market()\n",
    "user = QA.QA_Portfolio()\n",
    "# 创建两个account\n",
    "# 这里是创建一个资产组合,然后在组合里面创建两个account  你可以想象成股票里面的两个策略账户\n",
    "# 然后返回的是这个账户的id\n",
    "a_1 = user.new_account()\n",
    "\n",
    "market.start()\n",
    "market.connect(QA.RUNNING_ENVIRONMENT.BACKETEST)\n",
    "\n",
    "# 打印market\n",
    "print(market)\n",
    "\n",
    "\n",
    "\"\"\"\n",
    "登陆到这个交易前置上 把你刚才的两个账户\n",
    "\"\"\"\n",
    "# 登陆交易\n",
    "market.login(QA.BROKER_TYPE.BACKETEST, a_1, user.get_account(a_1))\n",
    "for date in QA.QA_util_get_trade_range('2017-01-01','2017-01-31'):\n",
    "    for code in ['000001', '000002', '000004', '000007']:\n",
    "        if random.random()<0.5:\n",
    "            market.insert_order(account_id=a_1, amount=1000, price=None, amount_model=QA.AMOUNT_MODEL.BY_AMOUNT, time=date, code=code,\n",
    "                                order_model=QA.ORDER_MODEL.CLOSE, towards=QA.ORDER_DIRECTION.BUY, market_type=QA.MARKET_TYPE.STOCK_DAY,\n",
    "                                data_type=QA.MARKETDATA_TYPE.DAY, broker_name=QA.BROKER_TYPE.BACKETEST)\n",
    "        else:\n",
    "            try:\n",
    "                market.insert_order(account_id=a_1, amount=1000, price=None, amount_model=QA.AMOUNT_MODEL.BY_AMOUNT, time=date, code=code,\n",
    "                                    order_model=QA.ORDER_MODEL.CLOSE, towards=QA.ORDER_DIRECTION.SELL, market_type=QA.MARKET_TYPE.STOCK_DAY,\n",
    "                                    data_type=QA.MARKETDATA_TYPE.DAY, broker_name=QA.BROKER_TYPE.BACKETEST)\n",
    "            except:\n",
    "                pass\n",
    "    market._settle(QA.BROKER_TYPE.BACKETEST)\n",
    "        \n",
    "while True:\n",
    "    if market.clear():\n",
    "        break\n",
    "print(user.get_account(a_1).history)\n",
    "print(user.get_account(a_1).cash)\n",
    "print(user.get_account(a_1).cash_available)\n",
    "print(user.get_account(a_1).history_table)\n",
    "print(user.get_account(a_1).hold)\n"
   ]
  },
  {
   "cell_type": "code",
   "execution_count": 2,
   "metadata": {},
   "outputs": [
    {
     "data": {
      "text/html": [
       "<div>\n",
       "<style>\n",
       "    .dataframe thead tr:only-child th {\n",
       "        text-align: right;\n",
       "    }\n",
       "\n",
       "    .dataframe thead th {\n",
       "        text-align: left;\n",
       "    }\n",
       "\n",
       "    .dataframe tbody tr th {\n",
       "        vertical-align: top;\n",
       "    }\n",
       "</style>\n",
       "<table border=\"1\" class=\"dataframe\">\n",
       "  <thead>\n",
       "    <tr style=\"text-align: right;\">\n",
       "      <th></th>\n",
       "      <th>datetime</th>\n",
       "      <th>code</th>\n",
       "      <th>price</th>\n",
       "      <th>amount</th>\n",
       "      <th>order_id</th>\n",
       "      <th>trade_id</th>\n",
       "      <th>commission_fee</th>\n",
       "    </tr>\n",
       "  </thead>\n",
       "  <tbody>\n",
       "    <tr>\n",
       "      <th>0</th>\n",
       "      <td>2017-01-03 09:31:00</td>\n",
       "      <td>000001</td>\n",
       "      <td>9.16</td>\n",
       "      <td>1000.0</td>\n",
       "      <td>Order_65WP4gAM</td>\n",
       "      <td>Trade_yL7CxgrJ</td>\n",
       "      <td>13.740</td>\n",
       "    </tr>\n",
       "    <tr>\n",
       "      <th>1</th>\n",
       "      <td>2017-01-03 09:31:00</td>\n",
       "      <td>000007</td>\n",
       "      <td>26.10</td>\n",
       "      <td>1000.0</td>\n",
       "      <td>Order_xRK6ybIh</td>\n",
       "      <td>Trade_OnwCfE0S</td>\n",
       "      <td>39.150</td>\n",
       "    </tr>\n",
       "    <tr>\n",
       "      <th>2</th>\n",
       "      <td>2017-01-04 09:31:00</td>\n",
       "      <td>000002</td>\n",
       "      <td>20.85</td>\n",
       "      <td>1000.0</td>\n",
       "      <td>Order_qB5vxh8C</td>\n",
       "      <td>Trade_oYNzBQIg</td>\n",
       "      <td>31.275</td>\n",
       "    </tr>\n",
       "    <tr>\n",
       "      <th>3</th>\n",
       "      <td>2017-01-05 09:31:00</td>\n",
       "      <td>000001</td>\n",
       "      <td>9.17</td>\n",
       "      <td>-1000.0</td>\n",
       "      <td>Order_XaJUIiHu</td>\n",
       "      <td>Trade_gVQwb7J5</td>\n",
       "      <td>13.755</td>\n",
       "    </tr>\n",
       "    <tr>\n",
       "      <th>4</th>\n",
       "      <td>2017-01-05 09:31:00</td>\n",
       "      <td>000004</td>\n",
       "      <td>44.44</td>\n",
       "      <td>1000.0</td>\n",
       "      <td>Order_hN4CT2fn</td>\n",
       "      <td>Trade_7EqJUTi0</td>\n",
       "      <td>66.660</td>\n",
       "    </tr>\n",
       "    <tr>\n",
       "      <th>5</th>\n",
       "      <td>2017-01-05 09:31:00</td>\n",
       "      <td>000007</td>\n",
       "      <td>26.24</td>\n",
       "      <td>1000.0</td>\n",
       "      <td>Order_ZTa2qD71</td>\n",
       "      <td>Trade_mDGRpihZ</td>\n",
       "      <td>39.360</td>\n",
       "    </tr>\n",
       "    <tr>\n",
       "      <th>6</th>\n",
       "      <td>2017-01-06 09:31:00</td>\n",
       "      <td>000001</td>\n",
       "      <td>9.13</td>\n",
       "      <td>1000.0</td>\n",
       "      <td>Order_EcPZo2mv</td>\n",
       "      <td>Trade_07EdRFKc</td>\n",
       "      <td>13.695</td>\n",
       "    </tr>\n",
       "    <tr>\n",
       "      <th>7</th>\n",
       "      <td>2017-01-06 09:31:00</td>\n",
       "      <td>000002</td>\n",
       "      <td>20.64</td>\n",
       "      <td>1000.0</td>\n",
       "      <td>Order_bmnIRCQB</td>\n",
       "      <td>Trade_8hXSdEtw</td>\n",
       "      <td>30.960</td>\n",
       "    </tr>\n",
       "    <tr>\n",
       "      <th>8</th>\n",
       "      <td>2017-01-06 09:31:00</td>\n",
       "      <td>000004</td>\n",
       "      <td>43.96</td>\n",
       "      <td>1000.0</td>\n",
       "      <td>Order_s0Gfgcdw</td>\n",
       "      <td>Trade_JgayKk0b</td>\n",
       "      <td>65.940</td>\n",
       "    </tr>\n",
       "    <tr>\n",
       "      <th>9</th>\n",
       "      <td>2017-01-06 09:31:00</td>\n",
       "      <td>000007</td>\n",
       "      <td>25.45</td>\n",
       "      <td>-1000.0</td>\n",
       "      <td>Order_IjvbMSta</td>\n",
       "      <td>Trade_GIQHiftx</td>\n",
       "      <td>38.175</td>\n",
       "    </tr>\n",
       "    <tr>\n",
       "      <th>10</th>\n",
       "      <td>2017-01-09 09:31:00</td>\n",
       "      <td>000001</td>\n",
       "      <td>9.15</td>\n",
       "      <td>-1000.0</td>\n",
       "      <td>Order_QLdkFn9M</td>\n",
       "      <td>Trade_nySbaW0p</td>\n",
       "      <td>13.725</td>\n",
       "    </tr>\n",
       "    <tr>\n",
       "      <th>11</th>\n",
       "      <td>2017-01-09 09:31:00</td>\n",
       "      <td>000002</td>\n",
       "      <td>20.66</td>\n",
       "      <td>-1000.0</td>\n",
       "      <td>Order_n6d4SzF3</td>\n",
       "      <td>Trade_R4htdpMy</td>\n",
       "      <td>30.990</td>\n",
       "    </tr>\n",
       "    <tr>\n",
       "      <th>12</th>\n",
       "      <td>2017-01-09 09:31:00</td>\n",
       "      <td>000004</td>\n",
       "      <td>43.01</td>\n",
       "      <td>1000.0</td>\n",
       "      <td>Order_q3FpnSeD</td>\n",
       "      <td>Trade_iJdFq6eH</td>\n",
       "      <td>64.515</td>\n",
       "    </tr>\n",
       "    <tr>\n",
       "      <th>13</th>\n",
       "      <td>2017-01-09 09:31:00</td>\n",
       "      <td>000007</td>\n",
       "      <td>25.09</td>\n",
       "      <td>1000.0</td>\n",
       "      <td>Order_V0lDAMoG</td>\n",
       "      <td>Trade_1GCVaBuz</td>\n",
       "      <td>37.635</td>\n",
       "    </tr>\n",
       "    <tr>\n",
       "      <th>14</th>\n",
       "      <td>2017-01-10 09:31:00</td>\n",
       "      <td>000001</td>\n",
       "      <td>9.15</td>\n",
       "      <td>1000.0</td>\n",
       "      <td>Order_ODJG86FQ</td>\n",
       "      <td>Trade_ajgNLtO7</td>\n",
       "      <td>13.725</td>\n",
       "    </tr>\n",
       "    <tr>\n",
       "      <th>15</th>\n",
       "      <td>2017-01-11 09:31:00</td>\n",
       "      <td>000001</td>\n",
       "      <td>9.14</td>\n",
       "      <td>1000.0</td>\n",
       "      <td>Order_LibQyx6m</td>\n",
       "      <td>Trade_IswrBJYQ</td>\n",
       "      <td>13.710</td>\n",
       "    </tr>\n",
       "    <tr>\n",
       "      <th>16</th>\n",
       "      <td>2017-01-11 09:31:00</td>\n",
       "      <td>000002</td>\n",
       "      <td>20.40</td>\n",
       "      <td>1000.0</td>\n",
       "      <td>Order_Qcv4VuWE</td>\n",
       "      <td>Trade_2cnLWY9J</td>\n",
       "      <td>30.600</td>\n",
       "    </tr>\n",
       "    <tr>\n",
       "      <th>17</th>\n",
       "      <td>2017-01-11 09:31:00</td>\n",
       "      <td>000004</td>\n",
       "      <td>42.45</td>\n",
       "      <td>1000.0</td>\n",
       "      <td>Order_RIpfZDrx</td>\n",
       "      <td>Trade_fFxj2BMY</td>\n",
       "      <td>63.675</td>\n",
       "    </tr>\n",
       "    <tr>\n",
       "      <th>18</th>\n",
       "      <td>2017-01-11 09:31:00</td>\n",
       "      <td>000007</td>\n",
       "      <td>24.85</td>\n",
       "      <td>1000.0</td>\n",
       "      <td>Order_gPvELHRs</td>\n",
       "      <td>Trade_thLTy4R0</td>\n",
       "      <td>37.275</td>\n",
       "    </tr>\n",
       "    <tr>\n",
       "      <th>19</th>\n",
       "      <td>2017-01-12 09:31:00</td>\n",
       "      <td>000001</td>\n",
       "      <td>9.15</td>\n",
       "      <td>1000.0</td>\n",
       "      <td>Order_7tEDzsG9</td>\n",
       "      <td>Trade_eLsVaThO</td>\n",
       "      <td>13.725</td>\n",
       "    </tr>\n",
       "    <tr>\n",
       "      <th>20</th>\n",
       "      <td>2017-01-12 09:31:00</td>\n",
       "      <td>000004</td>\n",
       "      <td>42.05</td>\n",
       "      <td>-1000.0</td>\n",
       "      <td>Order_KfvZFkqS</td>\n",
       "      <td>Trade_02i4DzHs</td>\n",
       "      <td>63.075</td>\n",
       "    </tr>\n",
       "    <tr>\n",
       "      <th>21</th>\n",
       "      <td>2017-01-12 09:31:00</td>\n",
       "      <td>000007</td>\n",
       "      <td>24.61</td>\n",
       "      <td>1000.0</td>\n",
       "      <td>Order_8GYmDjFf</td>\n",
       "      <td>Trade_ctGRMo5l</td>\n",
       "      <td>36.915</td>\n",
       "    </tr>\n",
       "    <tr>\n",
       "      <th>22</th>\n",
       "      <td>2017-01-13 09:31:00</td>\n",
       "      <td>000001</td>\n",
       "      <td>9.16</td>\n",
       "      <td>-1000.0</td>\n",
       "      <td>Order_atrSkcXn</td>\n",
       "      <td>Trade_xtDO6XuZ</td>\n",
       "      <td>13.740</td>\n",
       "    </tr>\n",
       "    <tr>\n",
       "      <th>23</th>\n",
       "      <td>2017-01-13 09:31:00</td>\n",
       "      <td>000002</td>\n",
       "      <td>21.81</td>\n",
       "      <td>-1000.0</td>\n",
       "      <td>Order_MvIyLPrj</td>\n",
       "      <td>Trade_xJ73mlK1</td>\n",
       "      <td>32.715</td>\n",
       "    </tr>\n",
       "    <tr>\n",
       "      <th>24</th>\n",
       "      <td>2017-01-13 09:31:00</td>\n",
       "      <td>000004</td>\n",
       "      <td>41.00</td>\n",
       "      <td>-1000.0</td>\n",
       "      <td>Order_iE76fY5C</td>\n",
       "      <td>Trade_7ZV1aTz5</td>\n",
       "      <td>61.500</td>\n",
       "    </tr>\n",
       "    <tr>\n",
       "      <th>25</th>\n",
       "      <td>2017-01-13 09:31:00</td>\n",
       "      <td>000007</td>\n",
       "      <td>23.81</td>\n",
       "      <td>1000.0</td>\n",
       "      <td>Order_97vahLjY</td>\n",
       "      <td>Trade_2dN7GX0o</td>\n",
       "      <td>35.715</td>\n",
       "    </tr>\n",
       "    <tr>\n",
       "      <th>26</th>\n",
       "      <td>2017-01-16 09:31:00</td>\n",
       "      <td>000002</td>\n",
       "      <td>21.00</td>\n",
       "      <td>1000.0</td>\n",
       "      <td>Order_eUF4Vy1W</td>\n",
       "      <td>Trade_YsrIdf8i</td>\n",
       "      <td>31.500</td>\n",
       "    </tr>\n",
       "    <tr>\n",
       "      <th>27</th>\n",
       "      <td>2017-01-16 09:31:00</td>\n",
       "      <td>000004</td>\n",
       "      <td>38.26</td>\n",
       "      <td>1000.0</td>\n",
       "      <td>Order_yrIEz9cu</td>\n",
       "      <td>Trade_mAaQT3LH</td>\n",
       "      <td>57.390</td>\n",
       "    </tr>\n",
       "    <tr>\n",
       "      <th>28</th>\n",
       "      <td>2017-01-17 09:31:00</td>\n",
       "      <td>000001</td>\n",
       "      <td>9.15</td>\n",
       "      <td>1000.0</td>\n",
       "      <td>Order_0S3lvUTA</td>\n",
       "      <td>Trade_h1MwcA6H</td>\n",
       "      <td>13.725</td>\n",
       "    </tr>\n",
       "    <tr>\n",
       "      <th>29</th>\n",
       "      <td>2017-01-17 09:31:00</td>\n",
       "      <td>000002</td>\n",
       "      <td>20.80</td>\n",
       "      <td>1000.0</td>\n",
       "      <td>Order_jAYZyqxD</td>\n",
       "      <td>Trade_mhsguFf1</td>\n",
       "      <td>31.200</td>\n",
       "    </tr>\n",
       "    <tr>\n",
       "      <th>30</th>\n",
       "      <td>2017-01-17 09:31:00</td>\n",
       "      <td>000004</td>\n",
       "      <td>37.37</td>\n",
       "      <td>1000.0</td>\n",
       "      <td>Order_oKUifzCc</td>\n",
       "      <td>Trade_LQNsfpCS</td>\n",
       "      <td>56.055</td>\n",
       "    </tr>\n",
       "    <tr>\n",
       "      <th>31</th>\n",
       "      <td>2017-01-18 09:31:00</td>\n",
       "      <td>000001</td>\n",
       "      <td>9.17</td>\n",
       "      <td>1000.0</td>\n",
       "      <td>Order_pGAYFszP</td>\n",
       "      <td>Trade_D6Ss3Obl</td>\n",
       "      <td>13.755</td>\n",
       "    </tr>\n",
       "    <tr>\n",
       "      <th>32</th>\n",
       "      <td>2017-01-18 09:31:00</td>\n",
       "      <td>000002</td>\n",
       "      <td>20.92</td>\n",
       "      <td>1000.0</td>\n",
       "      <td>Order_nGHcbyf1</td>\n",
       "      <td>Trade_qWOEKfwI</td>\n",
       "      <td>31.380</td>\n",
       "    </tr>\n",
       "    <tr>\n",
       "      <th>33</th>\n",
       "      <td>2017-01-18 09:31:00</td>\n",
       "      <td>000004</td>\n",
       "      <td>37.15</td>\n",
       "      <td>1000.0</td>\n",
       "      <td>Order_lfEoTDiK</td>\n",
       "      <td>Trade_pGxSJUO5</td>\n",
       "      <td>55.725</td>\n",
       "    </tr>\n",
       "    <tr>\n",
       "      <th>34</th>\n",
       "      <td>2017-01-19 09:31:00</td>\n",
       "      <td>000001</td>\n",
       "      <td>9.18</td>\n",
       "      <td>-1000.0</td>\n",
       "      <td>Order_4WNGR6ys</td>\n",
       "      <td>Trade_6NPDgiV1</td>\n",
       "      <td>13.770</td>\n",
       "    </tr>\n",
       "    <tr>\n",
       "      <th>35</th>\n",
       "      <td>2017-01-19 09:31:00</td>\n",
       "      <td>000002</td>\n",
       "      <td>20.60</td>\n",
       "      <td>1000.0</td>\n",
       "      <td>Order_WTbYGV6A</td>\n",
       "      <td>Trade_XwsfdMoJ</td>\n",
       "      <td>30.900</td>\n",
       "    </tr>\n",
       "    <tr>\n",
       "      <th>36</th>\n",
       "      <td>2017-01-19 09:31:00</td>\n",
       "      <td>000004</td>\n",
       "      <td>35.69</td>\n",
       "      <td>1000.0</td>\n",
       "      <td>Order_JqLfBhWN</td>\n",
       "      <td>Trade_YhPnFgB4</td>\n",
       "      <td>53.535</td>\n",
       "    </tr>\n",
       "    <tr>\n",
       "      <th>37</th>\n",
       "      <td>2017-01-20 09:31:00</td>\n",
       "      <td>000001</td>\n",
       "      <td>9.22</td>\n",
       "      <td>-1000.0</td>\n",
       "      <td>Order_xNeXAIbw</td>\n",
       "      <td>Trade_W2gHytYU</td>\n",
       "      <td>13.830</td>\n",
       "    </tr>\n",
       "    <tr>\n",
       "      <th>38</th>\n",
       "      <td>2017-01-20 09:31:00</td>\n",
       "      <td>000002</td>\n",
       "      <td>20.68</td>\n",
       "      <td>1000.0</td>\n",
       "      <td>Order_3YRJbTL6</td>\n",
       "      <td>Trade_JYSpidqy</td>\n",
       "      <td>31.020</td>\n",
       "    </tr>\n",
       "    <tr>\n",
       "      <th>39</th>\n",
       "      <td>2017-01-20 09:31:00</td>\n",
       "      <td>000004</td>\n",
       "      <td>36.48</td>\n",
       "      <td>-1000.0</td>\n",
       "      <td>Order_mMtwgYaG</td>\n",
       "      <td>Trade_jSmQpqnV</td>\n",
       "      <td>54.720</td>\n",
       "    </tr>\n",
       "    <tr>\n",
       "      <th>40</th>\n",
       "      <td>2017-01-23 09:31:00</td>\n",
       "      <td>000001</td>\n",
       "      <td>9.22</td>\n",
       "      <td>1000.0</td>\n",
       "      <td>Order_yKd3SGAo</td>\n",
       "      <td>Trade_HDjlJ6Ue</td>\n",
       "      <td>13.830</td>\n",
       "    </tr>\n",
       "    <tr>\n",
       "      <th>41</th>\n",
       "      <td>2017-01-23 09:31:00</td>\n",
       "      <td>000002</td>\n",
       "      <td>20.74</td>\n",
       "      <td>-1000.0</td>\n",
       "      <td>Order_NKGZ263x</td>\n",
       "      <td>Trade_Nhok69d5</td>\n",
       "      <td>31.110</td>\n",
       "    </tr>\n",
       "    <tr>\n",
       "      <th>42</th>\n",
       "      <td>2017-01-23 09:31:00</td>\n",
       "      <td>000004</td>\n",
       "      <td>37.56</td>\n",
       "      <td>-1000.0</td>\n",
       "      <td>Order_bLF96Xp5</td>\n",
       "      <td>Trade_NsUeYyGw</td>\n",
       "      <td>56.340</td>\n",
       "    </tr>\n",
       "    <tr>\n",
       "      <th>43</th>\n",
       "      <td>2017-01-24 09:31:00</td>\n",
       "      <td>000001</td>\n",
       "      <td>9.27</td>\n",
       "      <td>1000.0</td>\n",
       "      <td>Order_EFUywMaG</td>\n",
       "      <td>Trade_AnCg7BRb</td>\n",
       "      <td>13.905</td>\n",
       "    </tr>\n",
       "    <tr>\n",
       "      <th>44</th>\n",
       "      <td>2017-01-24 09:31:00</td>\n",
       "      <td>000002</td>\n",
       "      <td>20.69</td>\n",
       "      <td>1000.0</td>\n",
       "      <td>Order_RwbLnfd5</td>\n",
       "      <td>Trade_xLfA0Czl</td>\n",
       "      <td>31.035</td>\n",
       "    </tr>\n",
       "    <tr>\n",
       "      <th>45</th>\n",
       "      <td>2017-01-24 09:31:00</td>\n",
       "      <td>000004</td>\n",
       "      <td>38.63</td>\n",
       "      <td>1000.0</td>\n",
       "      <td>Order_d9TWRuJ7</td>\n",
       "      <td>Trade_slArpViF</td>\n",
       "      <td>57.945</td>\n",
       "    </tr>\n",
       "    <tr>\n",
       "      <th>46</th>\n",
       "      <td>2017-01-25 09:31:00</td>\n",
       "      <td>000001</td>\n",
       "      <td>9.26</td>\n",
       "      <td>-1000.0</td>\n",
       "      <td>Order_SysvDzof</td>\n",
       "      <td>Trade_xboJzicy</td>\n",
       "      <td>13.890</td>\n",
       "    </tr>\n",
       "    <tr>\n",
       "      <th>47</th>\n",
       "      <td>2017-01-25 09:31:00</td>\n",
       "      <td>000002</td>\n",
       "      <td>20.61</td>\n",
       "      <td>1000.0</td>\n",
       "      <td>Order_an7hwcSH</td>\n",
       "      <td>Trade_CfmBAhS2</td>\n",
       "      <td>30.915</td>\n",
       "    </tr>\n",
       "    <tr>\n",
       "      <th>48</th>\n",
       "      <td>2017-01-25 09:31:00</td>\n",
       "      <td>000004</td>\n",
       "      <td>38.25</td>\n",
       "      <td>-1000.0</td>\n",
       "      <td>Order_AScFh2ZE</td>\n",
       "      <td>Trade_ofhMOV5v</td>\n",
       "      <td>57.375</td>\n",
       "    </tr>\n",
       "    <tr>\n",
       "      <th>49</th>\n",
       "      <td>2017-01-26 09:31:00</td>\n",
       "      <td>000001</td>\n",
       "      <td>9.33</td>\n",
       "      <td>-1000.0</td>\n",
       "      <td>Order_R4lEkvxJ</td>\n",
       "      <td>Trade_bTCye3lv</td>\n",
       "      <td>13.995</td>\n",
       "    </tr>\n",
       "    <tr>\n",
       "      <th>50</th>\n",
       "      <td>2017-01-26 09:31:00</td>\n",
       "      <td>000002</td>\n",
       "      <td>20.68</td>\n",
       "      <td>-1000.0</td>\n",
       "      <td>Order_MoIiKVvw</td>\n",
       "      <td>Trade_BtcmzGfS</td>\n",
       "      <td>31.020</td>\n",
       "    </tr>\n",
       "    <tr>\n",
       "      <th>51</th>\n",
       "      <td>2017-01-26 09:31:00</td>\n",
       "      <td>000004</td>\n",
       "      <td>38.29</td>\n",
       "      <td>-1000.0</td>\n",
       "      <td>Order_ZRKQN9hL</td>\n",
       "      <td>Trade_poUYWdn3</td>\n",
       "      <td>57.435</td>\n",
       "    </tr>\n",
       "  </tbody>\n",
       "</table>\n",
       "</div>"
      ],
      "text/plain": [
       "               datetime    code  price  amount        order_id  \\\n",
       "0   2017-01-03 09:31:00  000001   9.16  1000.0  Order_65WP4gAM   \n",
       "1   2017-01-03 09:31:00  000007  26.10  1000.0  Order_xRK6ybIh   \n",
       "2   2017-01-04 09:31:00  000002  20.85  1000.0  Order_qB5vxh8C   \n",
       "3   2017-01-05 09:31:00  000001   9.17 -1000.0  Order_XaJUIiHu   \n",
       "4   2017-01-05 09:31:00  000004  44.44  1000.0  Order_hN4CT2fn   \n",
       "5   2017-01-05 09:31:00  000007  26.24  1000.0  Order_ZTa2qD71   \n",
       "6   2017-01-06 09:31:00  000001   9.13  1000.0  Order_EcPZo2mv   \n",
       "7   2017-01-06 09:31:00  000002  20.64  1000.0  Order_bmnIRCQB   \n",
       "8   2017-01-06 09:31:00  000004  43.96  1000.0  Order_s0Gfgcdw   \n",
       "9   2017-01-06 09:31:00  000007  25.45 -1000.0  Order_IjvbMSta   \n",
       "10  2017-01-09 09:31:00  000001   9.15 -1000.0  Order_QLdkFn9M   \n",
       "11  2017-01-09 09:31:00  000002  20.66 -1000.0  Order_n6d4SzF3   \n",
       "12  2017-01-09 09:31:00  000004  43.01  1000.0  Order_q3FpnSeD   \n",
       "13  2017-01-09 09:31:00  000007  25.09  1000.0  Order_V0lDAMoG   \n",
       "14  2017-01-10 09:31:00  000001   9.15  1000.0  Order_ODJG86FQ   \n",
       "15  2017-01-11 09:31:00  000001   9.14  1000.0  Order_LibQyx6m   \n",
       "16  2017-01-11 09:31:00  000002  20.40  1000.0  Order_Qcv4VuWE   \n",
       "17  2017-01-11 09:31:00  000004  42.45  1000.0  Order_RIpfZDrx   \n",
       "18  2017-01-11 09:31:00  000007  24.85  1000.0  Order_gPvELHRs   \n",
       "19  2017-01-12 09:31:00  000001   9.15  1000.0  Order_7tEDzsG9   \n",
       "20  2017-01-12 09:31:00  000004  42.05 -1000.0  Order_KfvZFkqS   \n",
       "21  2017-01-12 09:31:00  000007  24.61  1000.0  Order_8GYmDjFf   \n",
       "22  2017-01-13 09:31:00  000001   9.16 -1000.0  Order_atrSkcXn   \n",
       "23  2017-01-13 09:31:00  000002  21.81 -1000.0  Order_MvIyLPrj   \n",
       "24  2017-01-13 09:31:00  000004  41.00 -1000.0  Order_iE76fY5C   \n",
       "25  2017-01-13 09:31:00  000007  23.81  1000.0  Order_97vahLjY   \n",
       "26  2017-01-16 09:31:00  000002  21.00  1000.0  Order_eUF4Vy1W   \n",
       "27  2017-01-16 09:31:00  000004  38.26  1000.0  Order_yrIEz9cu   \n",
       "28  2017-01-17 09:31:00  000001   9.15  1000.0  Order_0S3lvUTA   \n",
       "29  2017-01-17 09:31:00  000002  20.80  1000.0  Order_jAYZyqxD   \n",
       "30  2017-01-17 09:31:00  000004  37.37  1000.0  Order_oKUifzCc   \n",
       "31  2017-01-18 09:31:00  000001   9.17  1000.0  Order_pGAYFszP   \n",
       "32  2017-01-18 09:31:00  000002  20.92  1000.0  Order_nGHcbyf1   \n",
       "33  2017-01-18 09:31:00  000004  37.15  1000.0  Order_lfEoTDiK   \n",
       "34  2017-01-19 09:31:00  000001   9.18 -1000.0  Order_4WNGR6ys   \n",
       "35  2017-01-19 09:31:00  000002  20.60  1000.0  Order_WTbYGV6A   \n",
       "36  2017-01-19 09:31:00  000004  35.69  1000.0  Order_JqLfBhWN   \n",
       "37  2017-01-20 09:31:00  000001   9.22 -1000.0  Order_xNeXAIbw   \n",
       "38  2017-01-20 09:31:00  000002  20.68  1000.0  Order_3YRJbTL6   \n",
       "39  2017-01-20 09:31:00  000004  36.48 -1000.0  Order_mMtwgYaG   \n",
       "40  2017-01-23 09:31:00  000001   9.22  1000.0  Order_yKd3SGAo   \n",
       "41  2017-01-23 09:31:00  000002  20.74 -1000.0  Order_NKGZ263x   \n",
       "42  2017-01-23 09:31:00  000004  37.56 -1000.0  Order_bLF96Xp5   \n",
       "43  2017-01-24 09:31:00  000001   9.27  1000.0  Order_EFUywMaG   \n",
       "44  2017-01-24 09:31:00  000002  20.69  1000.0  Order_RwbLnfd5   \n",
       "45  2017-01-24 09:31:00  000004  38.63  1000.0  Order_d9TWRuJ7   \n",
       "46  2017-01-25 09:31:00  000001   9.26 -1000.0  Order_SysvDzof   \n",
       "47  2017-01-25 09:31:00  000002  20.61  1000.0  Order_an7hwcSH   \n",
       "48  2017-01-25 09:31:00  000004  38.25 -1000.0  Order_AScFh2ZE   \n",
       "49  2017-01-26 09:31:00  000001   9.33 -1000.0  Order_R4lEkvxJ   \n",
       "50  2017-01-26 09:31:00  000002  20.68 -1000.0  Order_MoIiKVvw   \n",
       "51  2017-01-26 09:31:00  000004  38.29 -1000.0  Order_ZRKQN9hL   \n",
       "\n",
       "          trade_id  commission_fee  \n",
       "0   Trade_yL7CxgrJ          13.740  \n",
       "1   Trade_OnwCfE0S          39.150  \n",
       "2   Trade_oYNzBQIg          31.275  \n",
       "3   Trade_gVQwb7J5          13.755  \n",
       "4   Trade_7EqJUTi0          66.660  \n",
       "5   Trade_mDGRpihZ          39.360  \n",
       "6   Trade_07EdRFKc          13.695  \n",
       "7   Trade_8hXSdEtw          30.960  \n",
       "8   Trade_JgayKk0b          65.940  \n",
       "9   Trade_GIQHiftx          38.175  \n",
       "10  Trade_nySbaW0p          13.725  \n",
       "11  Trade_R4htdpMy          30.990  \n",
       "12  Trade_iJdFq6eH          64.515  \n",
       "13  Trade_1GCVaBuz          37.635  \n",
       "14  Trade_ajgNLtO7          13.725  \n",
       "15  Trade_IswrBJYQ          13.710  \n",
       "16  Trade_2cnLWY9J          30.600  \n",
       "17  Trade_fFxj2BMY          63.675  \n",
       "18  Trade_thLTy4R0          37.275  \n",
       "19  Trade_eLsVaThO          13.725  \n",
       "20  Trade_02i4DzHs          63.075  \n",
       "21  Trade_ctGRMo5l          36.915  \n",
       "22  Trade_xtDO6XuZ          13.740  \n",
       "23  Trade_xJ73mlK1          32.715  \n",
       "24  Trade_7ZV1aTz5          61.500  \n",
       "25  Trade_2dN7GX0o          35.715  \n",
       "26  Trade_YsrIdf8i          31.500  \n",
       "27  Trade_mAaQT3LH          57.390  \n",
       "28  Trade_h1MwcA6H          13.725  \n",
       "29  Trade_mhsguFf1          31.200  \n",
       "30  Trade_LQNsfpCS          56.055  \n",
       "31  Trade_D6Ss3Obl          13.755  \n",
       "32  Trade_qWOEKfwI          31.380  \n",
       "33  Trade_pGxSJUO5          55.725  \n",
       "34  Trade_6NPDgiV1          13.770  \n",
       "35  Trade_XwsfdMoJ          30.900  \n",
       "36  Trade_YhPnFgB4          53.535  \n",
       "37  Trade_W2gHytYU          13.830  \n",
       "38  Trade_JYSpidqy          31.020  \n",
       "39  Trade_jSmQpqnV          54.720  \n",
       "40  Trade_HDjlJ6Ue          13.830  \n",
       "41  Trade_Nhok69d5          31.110  \n",
       "42  Trade_NsUeYyGw          56.340  \n",
       "43  Trade_AnCg7BRb          13.905  \n",
       "44  Trade_xLfA0Czl          31.035  \n",
       "45  Trade_slArpViF          57.945  \n",
       "46  Trade_xboJzicy          13.890  \n",
       "47  Trade_CfmBAhS2          30.915  \n",
       "48  Trade_ofhMOV5v          57.375  \n",
       "49  Trade_bTCye3lv          13.995  \n",
       "50  Trade_BtcmzGfS          31.020  \n",
       "51  Trade_poUYWdn3          57.435  "
      ]
     },
     "execution_count": 2,
     "metadata": {},
     "output_type": "execute_result"
    }
   ],
   "source": [
    "user.get_account(a_1).history_table"
   ]
  },
  {
   "cell_type": "code",
   "execution_count": 3,
   "metadata": {},
   "outputs": [],
   "source": [
    "r=QA.QA_Risk(user.get_account(a_1))"
   ]
  },
  {
   "cell_type": "code",
   "execution_count": null,
   "metadata": {},
   "outputs": [],
   "source": []
  },
  {
   "cell_type": "code",
   "execution_count": null,
   "metadata": {},
   "outputs": [],
   "source": []
  }
 ],
 "metadata": {
  "kernelspec": {
   "display_name": "Python 3",
   "language": "python",
   "name": "python3"
  },
  "language_info": {
   "codemirror_mode": {
    "name": "ipython",
    "version": 3
   },
   "file_extension": ".py",
   "mimetype": "text/x-python",
   "name": "python",
   "nbconvert_exporter": "python",
   "pygments_lexer": "ipython3",
   "version": "3.6.3"
  }
 },
 "nbformat": 4,
 "nbformat_minor": 2
}
