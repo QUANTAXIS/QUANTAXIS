{
 "cells": [
  {
   "cell_type": "code",
   "execution_count": 1,
   "metadata": {},
   "outputs": [
    {
     "name": "stderr",
     "output_type": "stream",
     "text": [
      "QUANTAXIS>> start QUANTAXIS\n",
      "QUANTAXIS>> Welcome to QUANTAXIS, the Version is 1.0.65\n",
      "QUANTAXIS>>  \n",
      " ```````````````````````````````````````````````````````````````````````````````````````````````````````````````````````` \n",
      "  ``########`````##````````##``````````##`````````####````````##```##########````````#``````##``````###```##`````######`` \n",
      "  `##``````## ```##````````##`````````####````````##`##```````##```````##```````````###``````##````##`````##```##`````##` \n",
      "  ##````````##```##````````##````````##`##````````##``##``````##```````##``````````####```````#```##``````##```##``````## \n",
      "  ##````````##```##````````##```````##```##```````##```##`````##```````##`````````##`##```````##`##```````##````##``````` \n",
      "  ##````````##```##````````##``````##`````##``````##````##````##```````##````````##``###```````###````````##`````##`````` \n",
      "  ##````````##```##````````##``````##``````##`````##`````##```##```````##```````##````##```````###````````##``````###```` \n",
      "  ##````````##```##````````##`````##````````##````##``````##``##```````##``````##``````##`````##`##```````##````````##``` \n",
      "  ##````````##```##````````##````#############````##```````##`##```````##`````###########`````##``##``````##`````````##`` \n",
      "  ###```````##```##````````##```##```````````##```##```````##`##```````##````##`````````##```##```##``````##```##`````##` \n",
      "  `##``````###````##``````###``##`````````````##``##````````####```````##```##``````````##``###````##`````##````##`````## \n",
      "  ``#########``````########```##``````````````###`##``````````##```````##``##````````````##`##``````##````##`````###``### \n",
      "  ````````#####`````````````````````````````````````````````````````````````````````````````````````````````````````##``  \n",
      "  ``````````````````````````````````````````````````````````````````````````````````````````````````````````````````````` \n",
      "  ``````````````````````````Copyright``yutiansut``2018``````QUANTITATIVE FINANCIAL FRAMEWORK````````````````````````````` \n",
      "  ``````````````````````````````````````````````````````````````````````````````````````````````````````````````````````` \n",
      " ```````````````````````````````````````````````````````````````````````````````````````````````````````````````````````` \n",
      " ```````````````````````````````````````````````````````````````````````````````````````````````````````````````````````` \n",
      " \n"
     ]
    }
   ],
   "source": [
    "import QUANTAXIS as QA\n",
    "import random\n",
    "market = QA.QA_Market()\n",
    "user = QA.QA_Portfolio()\n",
    "# 创建两个account\n",
    "# 这里是创建一个资产组合,然后在组合里面创建两个account  你可以想象成股票里面的两个策略账户\n",
    "# 然后返回的是这个账户的id\n",
    "a_1 = user.new_account()"
   ]
  },
  {
   "cell_type": "code",
   "execution_count": 2,
   "metadata": {},
   "outputs": [
    {
     "data": {
      "text/plain": [
       "< QA_Account Acc_5QXDj4oR>"
      ]
     },
     "execution_count": 2,
     "metadata": {},
     "output_type": "execute_result"
    }
   ],
   "source": [
    "a_1"
   ]
  },
  {
   "cell_type": "code",
   "execution_count": 3,
   "metadata": {},
   "outputs": [
    {
     "name": "stdout",
     "output_type": "stream",
     "text": [
      "<QA_Market with ['backtest'] QA_Broker >\n",
      "[['000001' 9.11 9.18 9.09 9.16 459840.0 420595168.0\n",
      "  Timestamp('2017-01-03 00:00:00')]]\n",
      "False\n",
      "< QA_Order realorder_id Order_lEeSYBsr datetime:2017-01-03 09:31:00 code:000001 amount:1000 price:9.16 towards:1 btype:stock_cn order_id:Order_lEeSYBsr account:Acc_5QXDj4oR status:300 >===== SETTLED None =====\n",
      "\n",
      "[['000004' 44.43 44.82 44.01 44.7 8719.0 38703388.0\n",
      "  Timestamp('2017-01-04 00:00:00')]]\n",
      "False\n",
      "===== SETTLED None =====\n",
      "[['000001' 9.17 9.18 9.15 9.17 344372.0 315769696.0\n",
      "  Timestamp('2017-01-05 00:00:00')]]\n",
      "False\n",
      "[['000004' 44.52 45.28 44.4 44.44 10259.0 46057116.0\n",
      "  Timestamp('2017-01-05 00:00:00')]]\n",
      "False\n",
      "===== SETTLED None =====\n",
      "[['000001' 9.17 9.17 9.11 9.13 358154.0 327176448.0\n",
      "  Timestamp('2017-01-06 00:00:00')]]\n",
      "False\n",
      "< QA_Order realorder_id Order_pDmISHPt datetime:2017-01-04 09:31:00 code:000004 amount:1000 price:44.7 towards:1 btype:stock_cn order_id:Order_pDmISHPt account:Acc_5QXDj4oR status:300 >===== SETTLED None =====\n",
      "\n",
      "[['000002' 20.6 20.75 20.53 20.66 150954.0 311673792.0\n",
      "  Timestamp('2017-01-09 00:00:00')]]\n",
      "False\n",
      "< QA_Order realorder_id Order_04XugiZP datetime:2017-01-05 09:31:00 code:000001 amount:1000 price:9.17 towards:1 btype:stock_cn order_id:Order_04XugiZP account:Acc_5QXDj4oR status:300 >\n",
      "[['000007' 25.16 25.45 24.97 25.09 15141.0 38101120.0\n",
      "  Timestamp('2017-01-09 00:00:00')]]\n",
      "False< QA_Order realorder_id Order_Z29sUvk6 datetime:2017-01-05 09:31:00 code:000004 amount:1000 price:44.44 towards:1 btype:stock_cn order_id:Order_Z29sUvk6 account:Acc_5QXDj4oR status:300 >\n",
      "\n",
      "===== SETTLED None =====\n",
      "===== SETTLED None =====\n",
      "< QA_Order realorder_id Order_GEjePsyT datetime:2017-01-06 09:31:00 code:000001 amount:1000 price:9.13 towards:1 btype:stock_cn order_id:Order_GEjePsyT account:Acc_5QXDj4oR status:300 >\n",
      "[['000007' 24.75 25.32 24.6 24.85 23479.0 58575748.0\n",
      "  Timestamp('2017-01-11 00:00:00')]]\n",
      "False\n",
      "===== SETTLED None =====< QA_Order realorder_id Order_EGSmihlC datetime:2017-01-09 09:31:00 code:000002 amount:1000 price:20.66 towards:1 btype:stock_cn order_id:Order_EGSmihlC account:Acc_5QXDj4oR status:300 >\n",
      "\n",
      "===== SETTLED None =====\n",
      "[['000002' 21.0 22.4 20.9 21.81 1064266.0 2322228992.0\n",
      "  Timestamp('2017-01-13 00:00:00')]]< QA_Order realorder_id Order_eO4N3a0r datetime:2017-01-09 09:31:00 code:000007 amount:1000 price:25.09 towards:1 btype:stock_cn order_id:Order_eO4N3a0r account:Acc_5QXDj4oR status:300 >\n",
      "\n",
      "False\n",
      "[['000004' 42.05 42.37 40.9 41.0 9700.0 40313436.0\n",
      "  Timestamp('2017-01-13 00:00:00')]]\n",
      "False\n",
      "[['000007' 24.65 24.65 22.23 23.81 30746.0 73153040.0\n",
      "  Timestamp('2017-01-13 00:00:00')]]\n",
      "False\n",
      "< QA_Order realorder_id Order_Ocd75l2H datetime:2017-01-11 09:31:00 code:000007 amount:1000 price:24.85 towards:1 btype:stock_cn order_id:Order_Ocd75l2H account:Acc_5QXDj4oR status:300 >\n",
      "===== SETTLED None =====\n",
      "[['000002' 21.81 21.81 20.31 21.0 553240.0 1157108352.0\n",
      "  Timestamp('2017-01-16 00:00:00')]]\n",
      "False\n",
      "< QA_Order realorder_id Order_p6ziFmrb datetime:2017-01-13 09:31:00 code:000002 amount:1000 price:21.81 towards:1 btype:stock_cn order_id:Order_p6ziFmrb account:Acc_5QXDj4oR status:300 >===== SETTLED None =====\n",
      "\n",
      "[['000002' 20.73 20.96 20.39 20.8 321040.0 663297408.0\n",
      "  Timestamp('2017-01-17 00:00:00')]]\n",
      "False\n",
      "< QA_Order realorder_id Order_0uBPXlrh datetime:2017-01-13 09:31:00 code:000004 amount:1000 price:41.0 towards:1 btype:stock_cn order_id:Order_0uBPXlrh account:Acc_5QXDj4oR status:300 >\n",
      "===== SETTLED None =====\n",
      "[['000002' 20.67 21.18 20.53 20.92 324772.0 679288512.0\n",
      "  Timestamp('2017-01-18 00:00:00')]]\n",
      "False\n",
      "===== SETTLED None =====\n",
      "[['000001' 9.15 9.24 9.15 9.18 437712.0 402445632.0\n",
      "  Timestamp('2017-01-19 00:00:00')]]< QA_Order realorder_id Order_ZUaj02wK datetime:2017-01-13 09:31:00 code:000007 amount:1000 price:23.81 towards:1 btype:stock_cn order_id:Order_ZUaj02wK account:Acc_5QXDj4oR status:300 >\n",
      "\n",
      "False\n",
      "[['000002' 20.7 20.88 20.55 20.6 216888.0 448815808.0\n",
      "  Timestamp('2017-01-19 00:00:00')]]\n",
      "False\n",
      "< QA_Order realorder_id Order_jrdovT96 datetime:2017-01-16 09:31:00 code:000002 amount:1000 price:21.0 towards:1 btype:stock_cn order_id:Order_jrdovT96 account:Acc_5QXDj4oR status:300 >\n",
      "===== SETTLED None =====\n",
      "< QA_Order realorder_id Order_ly2LcKXH datetime:2017-01-17 09:31:00 code:000002 amount:1000 price:20.8 towards:1 btype:stock_cn order_id:Order_ly2LcKXH account:Acc_5QXDj4oR status:300 >[['000002' 20.6 20.83 20.54 20.68 215053.0 444921472.0\n",
      "  Timestamp('2017-01-20 00:00:00')]]\n",
      "\n",
      "False\n",
      "None\n",
      "False\n",
      "< QA_Order realorder_id Order_n4gRhp1Q datetime:2017-01-18 09:31:00 code:000002 amount:1000 price:20.92 towards:1 btype:stock_cn order_id:Order_n4gRhp1Q account:Acc_5QXDj4oR status:300 >\n",
      "< QA_Order realorder_id Order_rck5Ln8X datetime:2017-01-19 09:31:00 code:000001 amount:1000 price:9.18 towards:1 btype:stock_cn order_id:Order_rck5Ln8X account:Acc_5QXDj4oR status:300 >\n",
      "< QA_Order realorder_id Order_lmkIdF45 datetime:2017-01-19 09:31:00 code:000002 amount:1000 price:20.6 towards:1 btype:stock_cn order_id:Order_lmkIdF45 account:Acc_5QXDj4oR status:300 >\n",
      "< QA_Order realorder_id Order_4VQxL9ih datetime:2017-01-20 09:31:00 code:000002 amount:1000 price:20.68 towards:1 btype:stock_cn order_id:Order_4VQxL9ih account:Acc_5QXDj4oR status:300 >\n"
     ]
    },
    {
     "ename": "TypeError",
     "evalue": "len() of unsized object",
     "output_type": "error",
     "traceback": [
      "\u001b[1;31m---------------------------------------------------------------------------\u001b[0m",
      "\u001b[1;31mTypeError\u001b[0m                                 Traceback (most recent call last)",
      "\u001b[1;32m<ipython-input-3-b31870d4994e>\u001b[0m in \u001b[0;36m<module>\u001b[1;34m()\u001b[0m\n\u001b[0;32m     20\u001b[0m             market.insert_order(account_id=a_1.account_cookie, amount=1000, price=None, amount_model=QA.AMOUNT_MODEL.BY_AMOUNT, time=date, code=code,\n\u001b[0;32m     21\u001b[0m                                 \u001b[0morder_model\u001b[0m\u001b[1;33m=\u001b[0m\u001b[0mQA\u001b[0m\u001b[1;33m.\u001b[0m\u001b[0mORDER_MODEL\u001b[0m\u001b[1;33m.\u001b[0m\u001b[0mCLOSE\u001b[0m\u001b[1;33m,\u001b[0m \u001b[0mtowards\u001b[0m\u001b[1;33m=\u001b[0m\u001b[0mQA\u001b[0m\u001b[1;33m.\u001b[0m\u001b[0mORDER_DIRECTION\u001b[0m\u001b[1;33m.\u001b[0m\u001b[0mBUY\u001b[0m\u001b[1;33m,\u001b[0m \u001b[0mmarket_type\u001b[0m\u001b[1;33m=\u001b[0m\u001b[0mQA\u001b[0m\u001b[1;33m.\u001b[0m\u001b[0mMARKET_TYPE\u001b[0m\u001b[1;33m.\u001b[0m\u001b[0mSTOCK_CN\u001b[0m\u001b[1;33m,\u001b[0m\u001b[1;33m\u001b[0m\u001b[0m\n\u001b[1;32m---> 22\u001b[1;33m                                 frequence=QA.FREQUENCE.DAY, broker_name=QA.BROKER_TYPE.BACKETEST)\n\u001b[0m\u001b[0;32m     23\u001b[0m         \u001b[1;32melse\u001b[0m\u001b[1;33m:\u001b[0m\u001b[1;33m\u001b[0m\u001b[0m\n\u001b[0;32m     24\u001b[0m             \u001b[1;32mtry\u001b[0m\u001b[1;33m:\u001b[0m\u001b[1;33m\u001b[0m\u001b[0m\n",
      "\u001b[1;32me:\\quantaxis\\QUANTAXIS\\QAMarket\\QAMarket.py\u001b[0m in \u001b[0;36minsert_order\u001b[1;34m(self, account_id, amount, amount_model, time, code, price, order_model, towards, market_type, frequence, broker_name, money)\u001b[0m\n\u001b[0;32m    234\u001b[0m             \u001b[0mprint\u001b[0m\u001b[1;33m(\u001b[0m\u001b[0m_price\u001b[0m\u001b[1;33m)\u001b[0m\u001b[1;33m\u001b[0m\u001b[0m\n\u001b[0;32m    235\u001b[0m             \u001b[0mprint\u001b[0m\u001b[1;33m(\u001b[0m\u001b[0m_price\u001b[0m \u001b[1;33m==\u001b[0m \u001b[1;32mNone\u001b[0m\u001b[1;33m)\u001b[0m\u001b[1;33m\u001b[0m\u001b[0m\n\u001b[1;32m--> 236\u001b[1;33m             \u001b[1;32mif\u001b[0m \u001b[0m_price\u001b[0m \u001b[1;32mis\u001b[0m \u001b[1;32mnot\u001b[0m \u001b[1;32mNone\u001b[0m \u001b[1;32mand\u001b[0m \u001b[0mlen\u001b[0m\u001b[1;33m(\u001b[0m\u001b[0m_price\u001b[0m\u001b[1;33m)\u001b[0m \u001b[1;33m>\u001b[0m \u001b[1;36m0\u001b[0m\u001b[1;33m:\u001b[0m\u001b[1;33m\u001b[0m\u001b[0m\n\u001b[0m\u001b[0;32m    237\u001b[0m                 \u001b[0mprice\u001b[0m \u001b[1;33m=\u001b[0m \u001b[0mfloat\u001b[0m\u001b[1;33m(\u001b[0m\u001b[0m_price\u001b[0m\u001b[1;33m[\u001b[0m\u001b[1;36m0\u001b[0m\u001b[1;33m]\u001b[0m\u001b[1;33m[\u001b[0m\u001b[1;36m4\u001b[0m\u001b[1;33m]\u001b[0m\u001b[1;33m)\u001b[0m\u001b[1;33m\u001b[0m\u001b[0m\n\u001b[0;32m    238\u001b[0m                 \u001b[0mflag\u001b[0m \u001b[1;33m=\u001b[0m \u001b[1;32mTrue\u001b[0m\u001b[1;33m\u001b[0m\u001b[0m\n",
      "\u001b[1;31mTypeError\u001b[0m: len() of unsized object"
     ]
    }
   ],
   "source": [
    "market.start()\n",
    "market.connect(QA.RUNNING_ENVIRONMENT.BACKETEST)\n",
    "\n",
    "# 打印market\n",
    "print(market)\n",
    "\n",
    "\n",
    "\"\"\"\n",
    "登陆到这个交易前置上 把你刚才的两个账户\n",
    "\"\"\"\n",
    "# 登陆交易\n",
    "market.login(QA.BROKER_TYPE.BACKETEST, a_1.account_cookie, a_1)\n",
    "\n",
    "\n",
    "\n",
    "\n",
    "for date in QA.QA_util_get_trade_range('2017-01-01','2017-01-31'):\n",
    "    for code in ['000001', '000002', '000004', '000007']:\n",
    "        if random.random()<0.3:\n",
    "            market.insert_order(account_id=a_1.account_cookie, amount=1000, price=None, amount_model=QA.AMOUNT_MODEL.BY_AMOUNT, time=date, code=code,\n",
    "                                order_model=QA.ORDER_MODEL.CLOSE, towards=QA.ORDER_DIRECTION.BUY, market_type=QA.MARKET_TYPE.STOCK_CN,\n",
    "                                frequence=QA.FREQUENCE.DAY, broker_name=QA.BROKER_TYPE.BACKETEST)\n",
    "        else:\n",
    "            try:\n",
    "                print(user.get_account(a_1.account_cookie).sell_available.get(code,0))\n",
    "                market.insert_order(account_id=a_1.account_cookie, amount=1000, price=None, amount_model=QA.AMOUNT_MODEL.BY_AMOUNT, time=date, code=code,\n",
    "                                    order_model=QA.ORDER_MODEL.CLOSE, towards=QA.ORDER_DIRECTION.SELL, market_type=QA.MARKET_TYPE.STOCK_CN,\n",
    "                                    frequence=QA.FREQUENCE.DAY, broker_name=QA.BROKER_TYPE.BACKETEST)\n",
    "            except:\n",
    "                pass\n",
    "    \n",
    "    market._settle(QA.BROKER_TYPE.BACKETEST)\n",
    "        \n",
    "\n",
    "print(a_1.history)\n",
    "print(a_1.cash)\n",
    "print(a_1.cash_available)\n",
    "print(a_1.history_table)\n",
    "print(a_1.hold)"
   ]
  },
  {
   "cell_type": "code",
   "execution_count": null,
   "metadata": {},
   "outputs": [],
   "source": [
    "a_1.history_table"
   ]
  },
  {
   "cell_type": "code",
   "execution_count": null,
   "metadata": {},
   "outputs": [],
   "source": [
    "b=QA.QA_Risk(a_1)"
   ]
  },
  {
   "cell_type": "code",
   "execution_count": null,
   "metadata": {},
   "outputs": [],
   "source": [
    "a_1.hold"
   ]
  },
  {
   "cell_type": "code",
   "execution_count": null,
   "metadata": {},
   "outputs": [],
   "source": [
    "a_1.trade"
   ]
  },
  {
   "cell_type": "code",
   "execution_count": null,
   "metadata": {},
   "outputs": [],
   "source": [
    "a_1.daily_hold"
   ]
  },
  {
   "cell_type": "code",
   "execution_count": null,
   "metadata": {},
   "outputs": [],
   "source": [
    "market.insert_order(account_id=a_1.account_cookie, amount=2000, price=None, amount_model=QA.AMOUNT_MODEL.BY_AMOUNT, time='2017-01-27', code='000001',\n",
    "                    order_model=QA.ORDER_MODEL.CLOSE, towards=QA.ORDER_DIRECTION.SELL, market_type=QA.MARKET_TYPE.STOCK_CN,\n",
    "                    frequence=QA.FREQUENCE.DAY, broker_name=QA.BROKER_TYPE.BACKETEST)"
   ]
  },
  {
   "cell_type": "code",
   "execution_count": null,
   "metadata": {},
   "outputs": [],
   "source": [
    "market._settle(QA.BROKER_TYPE.BACKETEST)"
   ]
  },
  {
   "cell_type": "code",
   "execution_count": null,
   "metadata": {},
   "outputs": [],
   "source": [
    "a_1.daily_hold"
   ]
  },
  {
   "cell_type": "code",
   "execution_count": null,
   "metadata": {},
   "outputs": [],
   "source": [
    "data=QA.QA_fetch_stock_day_adv(['000001','000002','000004','000007'],'2017-01-03','2017-01-26')"
   ]
  },
  {
   "cell_type": "code",
   "execution_count": null,
   "metadata": {},
   "outputs": [],
   "source": [
    "md=data.pivot('close')\n",
    "md"
   ]
  },
  {
   "cell_type": "code",
   "execution_count": null,
   "metadata": {},
   "outputs": [],
   "source": []
  },
  {
   "cell_type": "code",
   "execution_count": null,
   "metadata": {},
   "outputs": [],
   "source": []
  },
  {
   "cell_type": "code",
   "execution_count": null,
   "metadata": {},
   "outputs": [],
   "source": []
  },
  {
   "cell_type": "code",
   "execution_count": null,
   "metadata": {},
   "outputs": [],
   "source": [
    "a_1.history_table"
   ]
  },
  {
   "cell_type": "code",
   "execution_count": null,
   "metadata": {},
   "outputs": [],
   "source": []
  },
  {
   "cell_type": "code",
   "execution_count": null,
   "metadata": {},
   "outputs": [],
   "source": []
  },
  {
   "cell_type": "code",
   "execution_count": null,
   "metadata": {},
   "outputs": [],
   "source": []
  },
  {
   "cell_type": "code",
   "execution_count": null,
   "metadata": {},
   "outputs": [],
   "source": [
    "a_1.cash_table\n"
   ]
  },
  {
   "cell_type": "code",
   "execution_count": null,
   "metadata": {},
   "outputs": [],
   "source": [
    "a_1.daily_cash"
   ]
  },
  {
   "cell_type": "code",
   "execution_count": null,
   "metadata": {},
   "outputs": [],
   "source": [
    "a_1.daily_hold"
   ]
  },
  {
   "cell_type": "code",
   "execution_count": null,
   "metadata": {},
   "outputs": [],
   "source": [
    "data=a_1.daily_hold"
   ]
  },
  {
   "cell_type": "code",
   "execution_count": null,
   "metadata": {},
   "outputs": [],
   "source": [
    "a_1.history_table.code.unique().tolist()"
   ]
  },
  {
   "cell_type": "code",
   "execution_count": null,
   "metadata": {},
   "outputs": [],
   "source": [
    "data"
   ]
  },
  {
   "cell_type": "code",
   "execution_count": null,
   "metadata": {},
   "outputs": [],
   "source": [
    "market_data=QA.QA_fetch_stock_day_adv(list(data.columns),data.index[0],data.index[-1])"
   ]
  },
  {
   "cell_type": "code",
   "execution_count": null,
   "metadata": {},
   "outputs": [],
   "source": [
    "market_data"
   ]
  },
  {
   "cell_type": "code",
   "execution_count": null,
   "metadata": {},
   "outputs": [],
   "source": [
    "list(set([item[1] for item in a_1.history]))"
   ]
  },
  {
   "cell_type": "code",
   "execution_count": null,
   "metadata": {},
   "outputs": [],
   "source": [
    "a_1.daily_hold"
   ]
  },
  {
   "cell_type": "code",
   "execution_count": null,
   "metadata": {},
   "outputs": [],
   "source": [
    "(market_data.to_qfq().pivot('close')*a_1.daily_hold).sum(axis=1)+a_1.daily_cash.set_index('date').cash"
   ]
  },
  {
   "cell_type": "code",
   "execution_count": null,
   "metadata": {},
   "outputs": [],
   "source": [
    "r=QA.QA_Risk(a_1)"
   ]
  },
  {
   "cell_type": "code",
   "execution_count": null,
   "metadata": {},
   "outputs": [],
   "source": [
    "r.market_data"
   ]
  },
  {
   "cell_type": "code",
   "execution_count": null,
   "metadata": {},
   "outputs": [],
   "source": [
    "r.assets"
   ]
  },
  {
   "cell_type": "code",
   "execution_count": null,
   "metadata": {},
   "outputs": [],
   "source": []
  }
 ],
 "metadata": {
  "kernelspec": {
   "display_name": "Python 3",
   "language": "python",
   "name": "python3"
  },
  "language_info": {
   "codemirror_mode": {
    "name": "ipython",
    "version": 3
   },
   "file_extension": ".py",
   "mimetype": "text/x-python",
   "name": "python",
   "nbconvert_exporter": "python",
   "pygments_lexer": "ipython3",
   "version": "3.6.5"
  }
 },
 "nbformat": 4,
 "nbformat_minor": 2
}
